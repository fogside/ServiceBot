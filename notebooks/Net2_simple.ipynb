{
 "cells": [
  {
   "cell_type": "code",
   "execution_count": 1,
   "metadata": {
    "collapsed": true
   },
   "outputs": [],
   "source": [
    "import os\n",
    "os.environ[\"CUDA_DEVICE_ORDER\"] = \"PCI_BUS_ID\"  # see issue #152\n",
    "os.environ[\"CUDA_VISIBLE_DEVICES\"] = \"0,1\""
   ]
  },
  {
   "cell_type": "code",
   "execution_count": 2,
   "metadata": {
    "collapsed": true
   },
   "outputs": [],
   "source": [
    "import numpy as np\n",
    "import os\n",
    "import random\n",
    "\n",
    "import tensorflow as tf\n",
    "import matplotlib.pyplot as plt\n",
    "%matplotlib inline\n",
    "from tensorflow.contrib import layers, rnn, seq2seq\n",
    "from tqdm import tqdm"
   ]
  },
  {
   "cell_type": "code",
   "execution_count": 3,
   "metadata": {
    "collapsed": true
   },
   "outputs": [],
   "source": [
    "import fasttext as fs"
   ]
  },
  {
   "cell_type": "code",
   "execution_count": 4,
   "metadata": {
    "collapsed": true
   },
   "outputs": [],
   "source": [
    "from data_generator import NLUDataGenerator\n",
    "from tensorflow.contrib.rnn import LSTMCell, LSTMStateTuple\n",
    "from tensorflow.contrib.legacy_seq2seq import rnn_decoder"
   ]
  },
  {
   "cell_type": "code",
   "execution_count": 5,
   "metadata": {},
   "outputs": [
    {
     "name": "stdout",
     "output_type": "stream",
     "text": [
      "len(diff):  175\n",
      "tmp len:  175\n",
      "before:  711\n",
      "fin:  886\n"
     ]
    }
   ],
   "source": [
    "PAD = 0\n",
    "\n",
    "TimeMajor = False\n",
    "batch_size = 32\n",
    "encoder_max_time = 64\n",
    "\n",
    "DataGenDev = NLUDataGenerator('../data/dev/usr_df_final.csv',\n",
    "                           '../data/ontology_dstc2.json',\n",
    "                           '../data/slots.txt', None, seq_len = encoder_max_time,\n",
    "                           batch_size = batch_size, time_major=TimeMajor)\n",
    "\n",
    "DataGen = NLUDataGenerator('../data/train/usr_df_final.csv',\n",
    "                           '../data/ontology_dstc2.json',\n",
    "                           '../data/slots.txt', DataGenDev.vocab, seq_len = encoder_max_time,\n",
    "                           batch_size = batch_size, time_major=TimeMajor)\n",
    "\n",
    "vocab_size = len(DataGen.vocab)\n",
    "input_embedding_size = 100\n",
    "# encoder_hidden_units = 128\n",
    "# decoder_hidden_units = encoder_hidden_units * 2"
   ]
  },
  {
   "cell_type": "code",
   "execution_count": 6,
   "metadata": {},
   "outputs": [
    {
     "name": "stdout",
     "output_type": "stream",
     "text": [
      "['and', 'what', 'is', 'the', 'price', 'ran']\n",
      "['O', 'O', 'O', 'O', 'B-request', 'I-request']\n",
      "['O', 'O', 'O', 'O', 'B-pricerange', 'I-pricerange']\n",
      "-----\n",
      "['i', 'need', 'expensive', 'kosher', 'restaurant']\n",
      "['O', 'O', 'B-inform', 'B-inform', 'O']\n",
      "['O', 'O', 'B-pricerange', 'B-food', 'O']\n",
      "-----\n",
      "['thank', 'you', 'can', 'i', 'have', 'the', 'adddress', 'phone', 'number']\n",
      "['O', 'O', 'O', 'O', 'O', 'O', 'B-request', 'B-request', 'I-request']\n",
      "['O', 'O', 'O', 'O', 'O', 'O', 'B-addr', 'B-phone', 'I-phone']\n",
      "-----\n",
      "['a', 'restaurant', 'south', 'part', 'of', 'town']\n",
      "['O', 'O', 'B-inform', 'O', 'O', 'O']\n",
      "['O', 'O', 'B-area', 'O', 'O', 'O']\n",
      "-----\n",
      "['i', 'need', 'a', 'expensive', 'restaurant']\n",
      "['O', 'O', 'O', 'B-inform', 'O']\n",
      "['O', 'O', 'O', 'B-pricerange', 'O']\n",
      "-----\n",
      "['an', 'expensive']\n",
      "['O', 'B-inform']\n",
      "['O', 'B-pricerange']\n",
      "-----\n",
      "['can', 'you', 'repeat', 'the', 'address', 'please']\n",
      "['O', 'O', 'O', 'O', 'B-request', 'O']\n",
      "['O', 'O', 'O', 'O', 'B-addr', 'O']\n",
      "-----\n",
      "['whats', 'its', 'number']\n",
      "['O', 'O', 'B-request']\n",
      "['O', 'O', 'B-phone']\n",
      "-----\n",
      "['yes', 'id', 'like', 'scandinavian', 'food', 'in', 'the', 'north', 'part', 'of', 'town']\n",
      "['O', 'O', 'O', 'B-affirm', 'O', 'O', 'O', 'B-inform', 'O', 'O', 'O']\n",
      "['O', 'O', 'O', 'B-food', 'O', 'O', 'O', 'B-area', 'O', 'O', 'O']\n",
      "-----\n",
      "['type', 'of', 'serves', 'do', 'they', 'serve']\n",
      "['O', 'O', 'B-request', 'O', 'O', 'O']\n",
      "['O', 'O', 'B-food', 'O', 'O', 'O']\n",
      "-----\n",
      "['how', 'about', 'a', 'dontcare', 'priced', 'restaurant', 'that', 'serves', 'spani']\n",
      "['O', 'O', 'O', 'B-inform', 'O', 'O', 'O', 'O', 'O']\n",
      "['O', 'O', 'O', 'B-pricerange', 'O', 'O', 'O', 'O', 'O']\n",
      "-----\n",
      "['and', 'what', 'is', 'the', 'telephone']\n",
      "['O', 'O', 'O', 'O', 'B-request']\n",
      "['O', 'O', 'O', 'O', 'B-phone']\n",
      "-----\n",
      "['any', 'kind']\n",
      "['O', 'O']\n",
      "['O', 'O']\n",
      "-----\n",
      "['um', 'anything']\n",
      "['O', 'O']\n",
      "['O', 'O']\n",
      "-----\n",
      "['and', 'whats', 'the', 'phone', 'for', 'that']\n",
      "['O', 'O', 'O', 'B-request', 'O', 'O']\n",
      "['O', 'O', 'O', 'B-phone', 'O', 'O']\n",
      "-----\n",
      "['dontcare', 'restaurant', 'in', 'the', 'dontcare', 'part', 'of', 'town']\n",
      "['B-inform', 'O', 'O', 'O', 'B-inform', 'O', 'O', 'O']\n",
      "['B-pricerange', 'O', 'O', 'O', 'B-area', 'O', 'O', 'O']\n",
      "-----\n",
      "['um', 'thank', 'you', 'good', 'bye']\n",
      "['B-bye', 'B-bye', 'B-bye', 'B-bye', 'B-bye']\n",
      "['B-bye', 'B-bye', 'B-bye', 'B-bye', 'B-bye']\n",
      "-----\n",
      "['im', 'looking', 'for', 'a', 'cheap', 'priced', 'restaurant', 'that', 'serves', 'romanian']\n",
      "['O', 'O', 'O', 'O', 'B-inform', 'O', 'O', 'O', 'O', 'B-inform']\n",
      "['O', 'O', 'O', 'O', 'B-pricerange', 'O', 'O', 'O', 'O', 'B-food']\n",
      "-----\n",
      "['okay', 'thank', 'you']\n",
      "['B-bye', 'B-bye', 'B-bye']\n",
      "['B-bye', 'B-bye', 'B-bye']\n",
      "-----\n",
      "['i', 'dont', 'want', 'that', 'give', 'me', 'another', 'lebanese', 'choice']\n",
      "['O', 'O', 'O', 'O', 'O', 'O', 'O', 'B-inform', 'O']\n",
      "['O', 'O', 'O', 'O', 'O', 'O', 'O', 'B-food', 'O']\n",
      "-----\n",
      "['can', 'i', 'have', 'the', 'addre', 'and', 'phone', 'number', 'please']\n",
      "['O', 'O', 'O', 'O', 'B-request', 'O', 'B-request', 'I-request', 'O']\n",
      "['O', 'O', 'O', 'O', 'B-addr', 'O', 'B-phone', 'I-phone', 'O']\n",
      "-----\n",
      "['kay', 'and', 'ah', 'where', 'is', 'it', 'located']\n",
      "['O', 'O', 'O', 'O', 'O', 'O', 'O']\n",
      "['O', 'O', 'O', 'O', 'O', 'O', 'O']\n",
      "-----\n",
      "['what', 'was', 'their', 'adddress', 'again', 'please']\n",
      "['O', 'O', 'O', 'B-request', 'O', 'O']\n",
      "['O', 'O', 'O', 'B-addr', 'O', 'O']\n",
      "-----\n",
      "['id', 'like', 'an', 'cheap', 'restaurant', 'that', 'serves', 'bat', 'food']\n",
      "['O', 'O', 'O', 'B-inform', 'O', 'O', 'O', 'O', 'O']\n",
      "['O', 'O', 'O', 'B-pricerange', 'O', 'O', 'O', 'O', 'O']\n",
      "-----\n",
      "['what', 'else']\n",
      "['B-reqalts', 'B-reqalts']\n",
      "['B-reqalts', 'B-reqalts']\n",
      "-----\n",
      "['uh', 'north', 'american', 'type', 'of', 'food']\n",
      "['O', 'B-inform', 'I-inform', 'O', 'O', 'O']\n",
      "['O', 'B-food', 'I-food', 'O', 'O', 'O']\n",
      "-----\n",
      "['id', 'like', 'a', 'restaurant', 'in', 'west', 'part', 'of', 'town', 'that', 'serves', 'african']\n",
      "['O', 'O', 'O', 'O', 'O', 'B-inform', 'O', 'O', 'O', 'O', 'O', 'B-inform']\n",
      "['O', 'O', 'O', 'O', 'O', 'B-area', 'O', 'O', 'O', 'O', 'O', 'B-food']\n",
      "-----\n",
      "['dontcare', 'priced', 'restaurant', 'south', 'part', 'of', 'town']\n",
      "['B-inform', 'O', 'O', 'B-inform', 'O', 'O', 'O']\n",
      "['B-pricerange', 'O', 'O', 'B-area', 'O', 'O', 'O']\n",
      "-----\n",
      "['in', 'the', 'center', 'part', 'of', 'town', 'moroccan', 'food']\n",
      "['O', 'O', 'O', 'O', 'O', 'O', 'B-inform', 'O']\n",
      "['O', 'O', 'O', 'O', 'O', 'O', 'B-food', 'O']\n",
      "-----\n",
      "['id', 'like', 'to', 'find', 'a', 'expensive', 'priced', 'restaurant', 'in', 'the', 'east', 'of', 'town']\n",
      "['O', 'O', 'O', 'O', 'O', 'B-inform', 'O', 'O', 'O', 'O', 'B-inform', 'O', 'O']\n",
      "['O', 'O', 'O', 'O', 'O', 'B-pricerange', 'O', 'O', 'O', 'O', 'B-area', 'O', 'O']\n",
      "-----\n",
      "['uh', 'no']\n",
      "['B-negate', 'B-negate']\n",
      "['B-negate', 'B-negate']\n",
      "-----\n",
      "['hi', 'i', 'am', 'looking', 'for', 'a', 'dontcare', 'priced', 'restaurant', 'in', 'the', 'north', 'part', 'of', 'town']\n",
      "['O', 'O', 'O', 'O', 'O', 'O', 'B-inform', 'O', 'O', 'O', 'O', 'B-inform', 'O', 'O', 'O']\n",
      "['O', 'O', 'O', 'O', 'O', 'O', 'B-pricerange', 'O', 'O', 'O', 'O', 'B-area', 'O', 'O', 'O']\n",
      "-----\n"
     ]
    }
   ],
   "source": [
    "x, m1, m2, _lens = next(DataGen)\n",
    "for x_, m1_, m2_ in zip(x, m1, m2):\n",
    "    print(DataGen.decode_sentence(x_))\n",
    "    print(DataGen.decode_acts(m2_))\n",
    "    print(DataGen.decode_slots(m1_))\n",
    "    print(\"-----\")"
   ]
  },
  {
   "cell_type": "code",
   "execution_count": 7,
   "metadata": {},
   "outputs": [
    {
     "name": "stdout",
     "output_type": "stream",
     "text": [
      "slots_number:  26\n",
      "acts_number:  18\n",
      "vocab_size:  886\n"
     ]
    }
   ],
   "source": [
    "slots_number = len(DataGen.slots_encode)\n",
    "acts_number = len(DataGen.acts_encode)\n",
    "print(\"slots_number: \", slots_number)\n",
    "print(\"acts_number: \", acts_number)\n",
    "print(\"vocab_size: \", DataGen.vocab_size)"
   ]
  },
  {
   "cell_type": "code",
   "execution_count": 8,
   "metadata": {
    "collapsed": true
   },
   "outputs": [],
   "source": [
    "# MAKING EMBEDDING MATRIX\n",
    "\n",
    "fs_model = fs.load_model(\"./model.bin\")\n",
    "embedd = np.zeros((vocab_size, input_embedding_size), dtype=np.float32)\n",
    "for k, v in DataGen.vocab.items():\n",
    "    embedd[v] = fs_model[k]\n",
    "embedd[0] = [0]*100"
   ]
  },
  {
   "cell_type": "code",
   "execution_count": 9,
   "metadata": {
    "collapsed": true
   },
   "outputs": [],
   "source": [
    "tf.reset_default_graph()\n",
    "\n",
    "lstm_size = 256\n",
    "inputs = tf.placeholder(shape=(None, None), dtype=tf.int32)\n",
    "mask1 = tf.placeholder(shape=(None, None), dtype=tf.int32)\n",
    "mask2 = tf.placeholder(shape=(None, None), dtype=tf.int32)\n",
    "lens = tf.placeholder(shape=(None,), dtype=tf.int32)\n",
    "\n",
    "embeddings = tf.get_variable('embeddings', initializer=embedd, dtype=tf.float32, trainable=False)\n",
    "\n",
    "encoded = tf.nn.embedding_lookup(embeddings, inputs)\n",
    "cell = LSTMCell(lstm_size)\n",
    "\n",
    "outputs, _ = tf.nn.dynamic_rnn(cell, encoded, sequence_length=lens, dtype=tf.float32)\n",
    "\n",
    "\n",
    "seq_mask = tf.to_float(tf.greater(inputs, PAD))\n",
    "\n",
    "# regularization:\n",
    "#\n",
    "# with tf.variable_scope('lm-reg'):\n",
    "#     first_words = tf.slice(inputs, [0, 1], [-1, -1])\n",
    "#     target = tf.pad(first_words, [[0, 0], [0, 1]])\n",
    "#     nwp = layers.fully_connected(outputs, vocab_size, activation_fn=None)\n",
    "#     lm_loss = seq2seq.sequence_loss(nwp, target, seq_mask)\n",
    "\n",
    "with tf.variable_scope('mask-pred'):\n",
    "    m1p = layers.fully_connected(outputs, slots_number, activation_fn=None)\n",
    "    m2p = layers.fully_connected(outputs, acts_number, activation_fn=None)\n",
    "    \n",
    "    prediction_m1 = tf.argmax(tf.nn.softmax(m1p), axis = 2)\n",
    "    prediction_m2 = tf.argmax(tf.nn.softmax(m2p), axis = 2)\n",
    "    \n",
    "    m1_loss = tf.reduce_sum(seq2seq.sequence_loss(m1p, mask1, seq_mask, average_across_batch=False, average_across_timesteps=False))\n",
    "    m2_loss = tf.reduce_sum(seq2seq.sequence_loss(m2p, mask2, seq_mask, average_across_batch=False, average_across_timesteps=False))\n",
    "\n",
    "# alternative loss:\n",
    "#     log_likelihood_1, transition_params_1 = tf.contrib.crf.crf_log_likelihood(m1p, mask1, lens)\n",
    "#     log_likelihood_2, transition_params_2 = tf.contrib.crf.crf_log_likelihood(m2p, mask2, lens)\n",
    "    \n",
    "lr = tf.Variable(0.0001, trainable=False)\n",
    "opt = tf.train.GradientDescentOptimizer(lr)\n",
    "train_op = opt.minimize(m1_loss + m2_loss)"
   ]
  },
  {
   "cell_type": "code",
   "execution_count": 17,
   "metadata": {},
   "outputs": [
    {
     "name": "stderr",
     "output_type": "stream",
     "text": [
      "663.629 593.854:   0%|          | 1/30000 [00:00<1:35:46,  5.22it/s]"
     ]
    },
    {
     "name": "stdout",
     "output_type": "stream",
     "text": [
      "step:  0\n",
      "CV_loss_slots_1:  766.593\n",
      "CV_loss_acts_2:  684.761\n",
      "INPUT:  ['what', 'serves', 'is', 'in', 'the', 'north', 'part', 'of', 'town']\n",
      "m2_tar:  ['O', 'B-request', 'O', 'O', 'O', 'B-inform', 'O', 'O', 'O']\n",
      "m2_pred:  ['B-request', 'B-request', 'I-reqalts', 'B-request', 'B-request', 'B-request', 'B-request', 'B-request', 'B-request', 'O', 'O', 'O', 'O', 'O', 'O', 'O']\n",
      "-----\n",
      "m1_tar:  ['O', 'B-food', 'O', 'O', 'O', 'B-area', 'O', 'O', 'O']\n",
      "m1_pred:  ['B-bye', 'B-addr', 'I-area', 'I-area', 'I-area', 'I-area', 'I-area', 'I-area', 'I-area', 'O', 'O', 'O', 'O', 'O', 'O', 'O']\n",
      "==========================\n",
      "INPUT:  ['id', 'like', 'to', 'find', 'an', 'expensive', 'restaurant']\n",
      "m2_tar:  ['O', 'O', 'O', 'O', 'O', 'B-inform', 'O']\n",
      "m2_pred:  ['B-request', 'B-request', 'B-request', 'B-request', 'B-request', 'B-request', 'B-request', 'O', 'O', 'O', 'O', 'O', 'O', 'O', 'O', 'O']\n",
      "-----\n",
      "m1_tar:  ['O', 'O', 'O', 'O', 'O', 'B-pricerange', 'O']\n",
      "m1_pred:  ['O', 'B-addr', 'O', 'O', 'O', 'O', 'O', 'O', 'O', 'O', 'O', 'O', 'O', 'O', 'O', 'O']\n",
      "==========================\n",
      "INPUT:  ['thank', 'you', 'what', 'is', 'the', 'telephone']\n",
      "m2_tar:  ['O', 'O', 'O', 'O', 'O', 'B-request']\n",
      "m2_pred:  ['I-request', 'B-request', 'B-request', 'B-request', 'B-request', 'B-request', 'O', 'O', 'O', 'O', 'O', 'O', 'O', 'O', 'O', 'O']\n",
      "-----\n",
      "m1_tar:  ['O', 'O', 'O', 'O', 'O', 'B-phone']\n",
      "m1_pred:  ['I-postcode', 'O', 'O', 'B-addr', 'B-addr', 'B-addr', 'O', 'O', 'O', 'O', 'O', 'O', 'O', 'O', 'O', 'O']\n",
      "==========================\n"
     ]
    },
    {
     "name": "stderr",
     "output_type": "stream",
     "text": [
      "196.904 167.784:   3%|▎         | 1006/30000 [00:24<13:45, 35.11it/s]"
     ]
    },
    {
     "name": "stdout",
     "output_type": "stream",
     "text": [
      "step:  1000\n",
      "CV_loss_slots_1:  191.995\n",
      "CV_loss_acts_2:  142.0\n",
      "INPUT:  ['whats', 'the', 'addre']\n",
      "m2_tar:  ['O', 'O', 'B-request']\n",
      "m2_pred:  ['O', 'O', 'O', 'O', 'O', 'O', 'O', 'O', 'O', 'O', 'O', 'O', 'O', 'O', 'O']\n",
      "-----\n",
      "m1_tar:  ['O', 'O', 'B-addr']\n",
      "m1_pred:  ['O', 'O', 'O', 'O', 'O', 'O', 'O', 'O', 'O', 'O', 'O', 'O', 'O', 'O', 'O']\n",
      "==========================\n",
      "INPUT:  ['how', 'about', 'one', 'that', 'serves', 'malaysian', 'food']\n",
      "m2_tar:  ['O', 'O', 'O', 'O', 'O', 'B-inform', 'O']\n",
      "m2_pred:  ['O', 'O', 'O', 'O', 'O', 'O', 'O', 'O', 'O', 'O', 'O', 'O', 'O', 'O', 'O']\n",
      "-----\n",
      "m1_tar:  ['O', 'O', 'O', 'O', 'O', 'B-food', 'O']\n",
      "m1_pred:  ['O', 'O', 'O', 'O', 'O', 'O', 'O', 'O', 'O', 'O', 'O', 'O', 'O', 'O', 'O']\n",
      "==========================\n",
      "INPUT:  ['what', 'is', 'its', 'addre', 'telephone', 'and', 'part', 'of', 'town']\n",
      "m2_tar:  ['O', 'O', 'O', 'B-request', 'B-request', 'O', 'B-request', 'I-request', 'I-request']\n",
      "m2_pred:  ['O', 'O', 'O', 'O', 'B-request', 'B-request', 'O', 'O', 'O', 'O', 'O', 'O', 'O', 'O', 'O']\n",
      "-----\n",
      "m1_tar:  ['O', 'O', 'O', 'B-addr', 'B-phone', 'O', 'B-area', 'I-phone', 'I-phone']\n",
      "m1_pred:  ['O', 'O', 'O', 'O', 'O', 'O', 'O', 'O', 'O', 'O', 'O', 'O', 'O', 'O', 'O']\n",
      "==========================\n"
     ]
    },
    {
     "name": "stderr",
     "output_type": "stream",
     "text": [
      "135.821 101.326:   7%|▋         | 2006/30000 [00:49<12:05, 38.56it/s]"
     ]
    },
    {
     "name": "stdout",
     "output_type": "stream",
     "text": [
      "step:  2000\n",
      "CV_loss_slots_1:  135.027\n",
      "CV_loss_acts_2:  139.105\n",
      "INPUT:  ['is', 'it', 'what', 'price']\n",
      "m2_tar:  ['O', 'O', 'O', 'B-request']\n",
      "m2_pred:  ['O', 'O', 'O', 'O', 'O', 'O', 'O', 'O', 'O', 'O', 'O', 'O', 'O', 'O', 'O', 'O']\n",
      "-----\n",
      "m1_tar:  ['O', 'O', 'O', 'B-pricerange']\n",
      "m1_pred:  ['O', 'O', 'O', 'O', 'O', 'O', 'O', 'O', 'O', 'O', 'O', 'O', 'O', 'O', 'O', 'O']\n",
      "==========================\n",
      "INPUT:  ['is', 'that', 'afghan', 'food']\n",
      "m2_tar:  ['O', 'O', 'I-negate', 'O']\n",
      "m2_pred:  ['O', 'O', 'O', 'O', 'O', 'O', 'O', 'O', 'O', 'O', 'O', 'O', 'O', 'O', 'O', 'O']\n",
      "-----\n",
      "m1_tar:  ['O', 'O', 'B-food', 'O']\n",
      "m1_pred:  ['O', 'O', 'O', 'O', 'O', 'O', 'O', 'O', 'O', 'O', 'O', 'O', 'O', 'O', 'O', 'O']\n",
      "==========================\n",
      "INPUT:  ['yea', 'im', 'looking', 'for', 'some', 'danish', 'food']\n",
      "m2_tar:  ['O', 'O', 'O', 'O', 'O', 'B-inform', 'O']\n",
      "m2_pred:  ['O', 'O', 'O', 'O', 'O', 'O', 'O', 'O', 'O', 'O', 'O', 'O', 'O', 'O', 'O', 'O']\n",
      "-----\n",
      "m1_tar:  ['O', 'O', 'O', 'O', 'O', 'B-food', 'O']\n",
      "m1_pred:  ['O', 'O', 'O', 'O', 'O', 'O', 'O', 'O', 'O', 'O', 'O', 'O', 'O', 'O', 'O', 'O']\n",
      "==========================\n"
     ]
    },
    {
     "name": "stderr",
     "output_type": "stream",
     "text": [
      "100.109 81.1135:  10%|█         | 3005/30000 [01:15<12:56, 34.74it/s]"
     ]
    },
    {
     "name": "stdout",
     "output_type": "stream",
     "text": [
      "step:  3000\n",
      "CV_loss_slots_1:  101.042\n",
      "CV_loss_acts_2:  77.9706\n",
      "INPUT:  ['yes', 'can', 'i', 'have', 'can', 'i', 'get', 'unusual', 'food', 'in', 'east', 'area']\n",
      "m2_tar:  ['O', 'O', 'O', 'O', 'O', 'O', 'O', 'B-affirm', 'O', 'O', 'B-inform', 'O']\n",
      "m2_pred:  ['O', 'O', 'O', 'O', 'O', 'O', 'O', 'O', 'O', 'O', 'B-inform', 'O', 'O']\n",
      "-----\n",
      "m1_tar:  ['O', 'O', 'O', 'O', 'O', 'O', 'O', 'B-food', 'O', 'O', 'B-area', 'O']\n",
      "m1_pred:  ['O', 'O', 'O', 'O', 'O', 'O', 'O', 'O', 'O', 'O', 'O', 'O', 'O']\n",
      "==========================\n",
      "INPUT:  ['in', 'the', 'north', 'part']\n",
      "m2_tar:  ['O', 'O', 'B-inform', 'O']\n",
      "m2_pred:  ['O', 'O', 'B-inform', 'O', 'O', 'O', 'O', 'O', 'O', 'O', 'O', 'O', 'O']\n",
      "-----\n",
      "m1_tar:  ['O', 'O', 'B-area', 'O']\n",
      "m1_pred:  ['O', 'O', 'B-area', 'O', 'O', 'O', 'O', 'O', 'O', 'O', 'O', 'O', 'O']\n",
      "==========================\n",
      "INPUT:  ['is', 'it', 'dontcare', 'priced']\n",
      "m2_tar:  ['O', 'O', 'I-negate', 'O']\n",
      "m2_pred:  ['O', 'O', 'O', 'O', 'O', 'O', 'O', 'O', 'O', 'O', 'O', 'O', 'O']\n",
      "-----\n",
      "m1_tar:  ['O', 'O', 'B-pricerange', 'O']\n",
      "m1_pred:  ['O', 'O', 'O', 'O', 'O', 'O', 'O', 'O', 'O', 'O', 'O', 'O', 'O']\n",
      "==========================\n"
     ]
    },
    {
     "name": "stderr",
     "output_type": "stream",
     "text": [
      "74.4932 77.8833:  13%|█▎        | 4007/30000 [01:41<12:32, 34.53it/s]"
     ]
    },
    {
     "name": "stdout",
     "output_type": "stream",
     "text": [
      "step:  4000\n",
      "CV_loss_slots_1:  105.238\n",
      "CV_loss_acts_2:  101.117\n",
      "INPUT:  ['tv_', 'thank', 'you', 'goodbye']\n",
      "m2_tar:  ['B-bye', 'B-bye', 'B-bye', 'B-bye']\n",
      "m2_pred:  ['O', 'B-bye', 'B-bye', 'B-bye', 'O', 'O', 'O', 'O', 'O', 'O', 'O', 'O', 'O', 'O', 'O', 'O', 'O']\n",
      "-----\n",
      "m1_tar:  ['B-bye', 'B-bye', 'B-bye', 'B-bye']\n",
      "m1_pred:  ['O', 'B-bye', 'B-bye', 'B-bye', 'O', 'O', 'O', 'O', 'O', 'O', 'O', 'O', 'O', 'O', 'O', 'O', 'O']\n",
      "==========================\n",
      "INPUT:  ['south', 'part', 'of', 'town', 'expensive', 'priced']\n",
      "m2_tar:  ['B-inform', 'O', 'O', 'O', 'B-inform', 'O']\n",
      "m2_pred:  ['O', 'O', 'O', 'O', 'O', 'O', 'O', 'O', 'O', 'O', 'O', 'O', 'O', 'O', 'O', 'O', 'O']\n",
      "-----\n",
      "m1_tar:  ['B-area', 'O', 'O', 'O', 'B-pricerange', 'O']\n",
      "m1_pred:  ['O', 'O', 'O', 'O', 'O', 'O', 'O', 'O', 'O', 'O', 'O', 'O', 'O', 'O', 'O', 'O', 'O']\n",
      "==========================\n",
      "INPUT:  ['thats', 'fine', 'can', 'i', 'get', 'their', 'number', 'please']\n",
      "m2_tar:  ['O', 'O', 'O', 'O', 'O', 'O', 'B-request', 'O']\n",
      "m2_pred:  ['O', 'O', 'O', 'O', 'O', 'O', 'B-request', 'O', 'O', 'O', 'O', 'O', 'O', 'O', 'O', 'O', 'O']\n",
      "-----\n",
      "m1_tar:  ['O', 'O', 'O', 'O', 'O', 'O', 'B-phone', 'O']\n",
      "m1_pred:  ['O', 'O', 'O', 'O', 'O', 'O', 'B-phone', 'O', 'O', 'O', 'O', 'O', 'O', 'O', 'O', 'O', 'O']\n",
      "==========================\n"
     ]
    },
    {
     "name": "stderr",
     "output_type": "stream",
     "text": [
      "96.1141 79.2908:  17%|█▋        | 5007/30000 [02:06<10:08, 41.06it/s]"
     ]
    },
    {
     "name": "stdout",
     "output_type": "stream",
     "text": [
      "step:  5000\n",
      "CV_loss_slots_1:  69.4158\n",
      "CV_loss_acts_2:  98.0676\n",
      "INPUT:  ['portugese']\n",
      "m2_tar:  ['O']\n",
      "m2_pred:  ['O', 'O', 'O', 'O', 'O', 'O', 'O', 'O', 'O', 'O', 'O', 'O', 'O']\n",
      "-----\n",
      "m1_tar:  ['O']\n",
      "m1_pred:  ['O', 'O', 'O', 'O', 'O', 'O', 'O', 'O', 'O', 'O', 'O', 'O', 'O']\n",
      "==========================\n",
      "INPUT:  ['im', 'looking', 'for', 'an', 'dontcare', 'restaurant', 'and', 'it', 'should', 'serve', 'hungarian', 'food']\n",
      "m2_tar:  ['O', 'O', 'O', 'O', 'B-inform', 'O', 'O', 'O', 'O', 'O', 'B-inform', 'O']\n",
      "m2_pred:  ['O', 'O', 'O', 'O', 'B-inform', 'O', 'O', 'O', 'O', 'O', 'B-inform', 'O', 'O']\n",
      "-----\n",
      "m1_tar:  ['O', 'O', 'O', 'O', 'B-pricerange', 'O', 'O', 'O', 'O', 'O', 'B-food', 'O']\n",
      "m1_pred:  ['O', 'O', 'O', 'O', 'B-pricerange', 'O', 'O', 'O', 'O', 'O', 'B-food', 'O', 'O']\n",
      "==========================\n",
      "INPUT:  ['im', 'looking', 'for', 'a', 'cheap', 'priced', 'restaurant', 'in', 'the', 'south', 'of', 'town']\n",
      "m2_tar:  ['O', 'O', 'O', 'O', 'B-inform', 'O', 'O', 'O', 'O', 'B-inform', 'O', 'O']\n",
      "m2_pred:  ['O', 'O', 'O', 'O', 'B-inform', 'O', 'O', 'O', 'O', 'B-inform', 'O', 'O', 'O']\n",
      "-----\n",
      "m1_tar:  ['O', 'O', 'O', 'O', 'B-pricerange', 'O', 'O', 'O', 'O', 'B-area', 'O', 'O']\n",
      "m1_pred:  ['O', 'O', 'O', 'O', 'B-pricerange', 'O', 'O', 'O', 'O', 'B-area', 'O', 'O', 'O']\n",
      "==========================\n"
     ]
    },
    {
     "name": "stderr",
     "output_type": "stream",
     "text": [
      "85.0249 72.3824:  20%|██        | 6005/30000 [02:31<10:22, 38.52it/s]"
     ]
    },
    {
     "name": "stdout",
     "output_type": "stream",
     "text": [
      "step:  6000\n",
      "CV_loss_slots_1:  113.068\n",
      "CV_loss_acts_2:  93.5015\n",
      "INPUT:  ['moderate', 'price', 'restaurant']\n",
      "m2_tar:  ['B-inform', 'O', 'O']\n",
      "m2_pred:  ['B-inform', 'O', 'O', 'O', 'O', 'O', 'O', 'O', 'O', 'O', 'O', 'O', 'O', 'O']\n",
      "-----\n",
      "m1_tar:  ['B-pricerange', 'O', 'O']\n",
      "m1_pred:  ['B-pricerange', 'O', 'O', 'O', 'O', 'O', 'O', 'O', 'O', 'O', 'O', 'O', 'O', 'O']\n",
      "==========================\n",
      "INPUT:  ['i', 'am', 'looking', 'for', 'swiss']\n",
      "m2_tar:  ['O', 'O', 'O', 'O', 'B-inform']\n",
      "m2_pred:  ['O', 'O', 'O', 'O', 'B-inform', 'O', 'O', 'O', 'O', 'O', 'O', 'O', 'O', 'O']\n",
      "-----\n",
      "m1_tar:  ['O', 'O', 'O', 'O', 'B-food']\n",
      "m1_pred:  ['O', 'O', 'O', 'O', 'B-food', 'O', 'O', 'O', 'O', 'O', 'O', 'O', 'O', 'O']\n",
      "==========================\n",
      "INPUT:  ['thank', 'you', 'and', 'expensive']\n",
      "m2_tar:  ['O', 'O', 'O', 'B-bye']\n",
      "m2_pred:  ['B-bye', 'B-bye', 'B-bye', 'B-bye', 'O', 'O', 'O', 'O', 'O', 'O', 'O', 'O', 'O', 'O']\n",
      "-----\n",
      "m1_tar:  ['O', 'O', 'O', 'B-pricerange']\n",
      "m1_pred:  ['B-bye', 'B-bye', 'B-bye', 'B-pricerange', 'O', 'O', 'O', 'O', 'O', 'O', 'O', 'O', 'O', 'O']\n",
      "==========================\n"
     ]
    },
    {
     "name": "stderr",
     "output_type": "stream",
     "text": [
      "98.3647 92.4977:  23%|██▎       | 7004/30000 [02:56<10:18, 37.17it/s]"
     ]
    },
    {
     "name": "stdout",
     "output_type": "stream",
     "text": [
      "step:  7000\n",
      "CV_loss_slots_1:  104.976\n",
      "CV_loss_acts_2:  97.5559\n",
      "INPUT:  ['what', 'is', 'the', 'prices', 'of', 'this', 'venue']\n",
      "m2_tar:  ['O', 'O', 'O', 'B-request', 'O', 'O', 'O']\n",
      "m2_pred:  ['O', 'O', 'O', 'B-request', 'I-request', 'I-request', 'O', 'O', 'O', 'O', 'O', 'O', 'O', 'O']\n",
      "-----\n",
      "m1_tar:  ['O', 'O', 'O', 'B-pricerange', 'O', 'O', 'O']\n",
      "m1_pred:  ['O', 'O', 'O', 'B-area', 'B-area', 'B-area', 'O', 'O', 'O', 'O', 'O', 'O', 'O', 'O']\n",
      "==========================\n",
      "INPUT:  ['i', 'am', 'looking', 'for', 'sweedish', 'food']\n",
      "m2_tar:  ['O', 'O', 'O', 'O', 'O', 'O']\n",
      "m2_pred:  ['O', 'O', 'O', 'O', 'B-inform', 'O', 'O', 'O', 'O', 'O', 'O', 'O', 'O', 'O']\n",
      "-----\n",
      "m1_tar:  ['O', 'O', 'O', 'O', 'O', 'O']\n",
      "m1_pred:  ['O', 'O', 'O', 'O', 'B-food', 'O', 'O', 'O', 'O', 'O', 'O', 'O', 'O', 'O']\n",
      "==========================\n",
      "INPUT:  ['do', 'you', 'have', 'portuguese', 'food']\n",
      "m2_tar:  ['O', 'O', 'O', 'B-inform', 'O']\n",
      "m2_pred:  ['O', 'O', 'O', 'B-reqalts', 'O', 'O', 'O', 'O', 'O', 'O', 'O', 'O', 'O', 'O']\n",
      "-----\n",
      "m1_tar:  ['O', 'O', 'O', 'B-food', 'O']\n",
      "m1_pred:  ['O', 'O', 'O', 'B-reqalts', 'O', 'O', 'O', 'O', 'O', 'O', 'O', 'O', 'O', 'O']\n",
      "==========================\n"
     ]
    },
    {
     "name": "stderr",
     "output_type": "stream",
     "text": [
      "81.3582 74.3697:  27%|██▋       | 8006/30000 [03:21<09:12, 39.83it/s]"
     ]
    },
    {
     "name": "stdout",
     "output_type": "stream",
     "text": [
      "step:  8000\n",
      "CV_loss_slots_1:  94.3533\n",
      "CV_loss_acts_2:  98.7818\n",
      "INPUT:  ['asian', 'oriental', 'food', 'please']\n",
      "m2_tar:  ['B-inform', 'I-inform', 'O', 'O']\n",
      "m2_pred:  ['O', 'O', 'O', 'O', 'O', 'O', 'O', 'O', 'O', 'O', 'O', 'O', 'O', 'O', 'O', 'O']\n",
      "-----\n",
      "m1_tar:  ['B-food', 'I-food', 'O', 'O']\n",
      "m1_pred:  ['O', 'O', 'O', 'O', 'O', 'O', 'O', 'O', 'O', 'O', 'O', 'O', 'O', 'O', 'O', 'O']\n",
      "==========================\n",
      "INPUT:  ['are', 'there', 'any', 'serving', 'romanian', 'food']\n",
      "m2_tar:  ['O', 'O', 'O', 'O', 'B-inform', 'O']\n",
      "m2_pred:  ['O', 'O', 'O', 'O', 'B-inform', 'O', 'O', 'O', 'O', 'O', 'O', 'O', 'O', 'O', 'O', 'O']\n",
      "-----\n",
      "m1_tar:  ['O', 'O', 'O', 'O', 'B-food', 'O']\n",
      "m1_pred:  ['O', 'O', 'O', 'B-food', 'B-food', 'O', 'O', 'O', 'O', 'O', 'O', 'O', 'O', 'O', 'O', 'O']\n",
      "==========================\n",
      "INPUT:  ['im', 'looking', 'for', 'an', 'dontcare', 'restaurant', 'and', 'it', 'should', 'be', 'the', 'west', 'part', 'of', 'town']\n",
      "m2_tar:  ['O', 'O', 'O', 'O', 'B-inform', 'O', 'O', 'O', 'O', 'O', 'O', 'B-inform', 'O', 'O', 'O']\n",
      "m2_pred:  ['O', 'O', 'O', 'O', 'B-inform', 'O', 'O', 'O', 'O', 'O', 'O', 'B-inform', 'O', 'O', 'O', 'O']\n",
      "-----\n",
      "m1_tar:  ['O', 'O', 'O', 'O', 'B-pricerange', 'O', 'O', 'O', 'O', 'O', 'O', 'B-area', 'O', 'O', 'O']\n",
      "m1_pred:  ['O', 'O', 'O', 'O', 'B-pricerange', 'O', 'O', 'O', 'O', 'O', 'O', 'B-area', 'O', 'O', 'O', 'O']\n",
      "==========================\n"
     ]
    },
    {
     "name": "stderr",
     "output_type": "stream",
     "text": [
      "59.3862 51.911:  30%|███       | 9004/30000 [03:46<08:53, 39.39it/s] "
     ]
    },
    {
     "name": "stdout",
     "output_type": "stream",
     "text": [
      "step:  9000\n",
      "CV_loss_slots_1:  63.6017\n",
      "CV_loss_acts_2:  68.4684\n",
      "INPUT:  ['how', 'bout', 'tuscan']\n",
      "m2_tar:  ['O', 'O', 'B-inform']\n",
      "m2_pred:  ['O', 'O', 'B-inform', 'O', 'O', 'O', 'O', 'O', 'O', 'O', 'O', 'O', 'O', 'O', 'O', 'O', 'O']\n",
      "-----\n",
      "m1_tar:  ['O', 'O', 'B-food']\n",
      "m1_pred:  ['O', 'O', 'B-food', 'O', 'O', 'O', 'O', 'O', 'O', 'O', 'O', 'O', 'O', 'O', 'O', 'O', 'O']\n",
      "==========================\n",
      "INPUT:  ['im', 'looking', 'for', 'a', 'moderate', 'restaurant', 'serving', 'middle', 'eastern', 'type', 'of', 'food']\n",
      "m2_tar:  ['O', 'O', 'O', 'O', 'B-inform', 'O', 'O', 'B-inform', 'I-inform', 'O', 'O', 'O']\n",
      "m2_pred:  ['O', 'O', 'O', 'O', 'B-inform', 'O', 'O', 'B-inform', 'O', 'O', 'O', 'O', 'O', 'O', 'O', 'O', 'O']\n",
      "-----\n",
      "m1_tar:  ['O', 'O', 'O', 'O', 'B-pricerange', 'O', 'O', 'B-food', 'I-food', 'O', 'O', 'O']\n",
      "m1_pred:  ['O', 'O', 'O', 'O', 'B-pricerange', 'O', 'O', 'O', 'O', 'O', 'O', 'O', 'O', 'O', 'O', 'O', 'O']\n",
      "==========================\n",
      "INPUT:  ['im', 'looking', 'for', 'a', 'restaurant', 'in', 'the', 'centre', 'part', 'of', 'town', 'and', 'it', 'should', 'serve', 'cata']\n",
      "m2_tar:  ['O', 'O', 'O', 'O', 'O', 'O', 'O', 'B-inform', 'O', 'O', 'O', 'O', 'O', 'O', 'O', 'O']\n",
      "m2_pred:  ['O', 'O', 'O', 'O', 'O', 'O', 'O', 'B-inform', 'O', 'O', 'O', 'O', 'O', 'O', 'O', 'O', 'O']\n",
      "-----\n",
      "m1_tar:  ['O', 'O', 'O', 'O', 'O', 'O', 'O', 'B-area', 'O', 'O', 'O', 'O', 'O', 'O', 'O', 'O']\n",
      "m1_pred:  ['O', 'O', 'O', 'O', 'O', 'O', 'O', 'B-area', 'O', 'O', 'O', 'O', 'O', 'O', 'O', 'O', 'O']\n",
      "==========================\n"
     ]
    },
    {
     "name": "stderr",
     "output_type": "stream",
     "text": [
      "57.8955 56.4642:  33%|███▎      | 10006/30000 [04:11<08:16, 40.27it/s]"
     ]
    },
    {
     "name": "stdout",
     "output_type": "stream",
     "text": [
      "step:  10000\n",
      "CV_loss_slots_1:  36.6965\n",
      "CV_loss_acts_2:  33.795\n",
      "INPUT:  ['can', 'i', 'have', 'the', 'price', 'ran']\n",
      "m2_tar:  ['O', 'O', 'O', 'O', 'B-request', 'I-request']\n",
      "m2_pred:  ['O', 'O', 'O', 'O', 'B-request', 'O', 'O', 'O', 'O', 'O', 'O', 'O', 'O', 'O', 'O', 'O']\n",
      "-----\n",
      "m1_tar:  ['O', 'O', 'O', 'O', 'B-pricerange', 'I-pricerange']\n",
      "m1_pred:  ['O', 'O', 'O', 'O', 'B-pricerange', 'O', 'O', 'O', 'O', 'O', 'O', 'O', 'O', 'O', 'O', 'O']\n",
      "==========================\n",
      "INPUT:  ['find', 'me', 'a', 'restaurant', 'in', 'the', 'center', 'of', 'town']\n",
      "m2_tar:  ['O', 'O', 'O', 'O', 'O', 'O', 'O', 'O', 'O']\n",
      "m2_pred:  ['O', 'O', 'O', 'O', 'O', 'O', 'O', 'O', 'O', 'O', 'O', 'O', 'O', 'O', 'O', 'O']\n",
      "-----\n",
      "m1_tar:  ['O', 'O', 'O', 'O', 'O', 'O', 'O', 'O', 'O']\n",
      "m1_pred:  ['O', 'O', 'O', 'O', 'O', 'O', 'O', 'O', 'O', 'O', 'O', 'O', 'O', 'O', 'O', 'O']\n",
      "==========================\n",
      "INPUT:  ['i', 'want', 'a', 'moderate', 'restaurant', 'in', 'the', 'south', 'part', 'of', 'town']\n",
      "m2_tar:  ['O', 'O', 'O', 'B-inform', 'O', 'O', 'O', 'B-inform', 'O', 'O', 'O']\n",
      "m2_pred:  ['O', 'O', 'O', 'B-inform', 'O', 'O', 'O', 'B-inform', 'O', 'O', 'O', 'O', 'O', 'O', 'O', 'O']\n",
      "-----\n",
      "m1_tar:  ['O', 'O', 'O', 'B-pricerange', 'O', 'O', 'O', 'B-area', 'O', 'O', 'O']\n",
      "m1_pred:  ['O', 'O', 'O', 'B-pricerange', 'O', 'O', 'O', 'B-area', 'O', 'O', 'O', 'O', 'O', 'O', 'O', 'O']\n",
      "==========================\n"
     ]
    },
    {
     "name": "stderr",
     "output_type": "stream",
     "text": [
      "83.0088 78.9797:  37%|███▋      | 11006/30000 [04:36<08:11, 38.66it/s]"
     ]
    },
    {
     "name": "stdout",
     "output_type": "stream",
     "text": [
      "step:  11000\n",
      "CV_loss_slots_1:  68.3344\n",
      "CV_loss_acts_2:  79.4446\n",
      "INPUT:  ['im', 'looking', 'for', 'a', 'dontcare', 'priced', 'restaurant', 'that', 'serves', 'turkish', 'food']\n",
      "m2_tar:  ['O', 'O', 'O', 'O', 'B-inform', 'O', 'O', 'O', 'O', 'B-inform', 'O']\n",
      "m2_pred:  ['O', 'O', 'O', 'O', 'B-inform', 'O', 'O', 'O', 'O', 'B-inform', 'O', 'O', 'O', 'O', 'O', 'O', 'O']\n",
      "-----\n",
      "m1_tar:  ['O', 'O', 'O', 'O', 'B-pricerange', 'O', 'O', 'O', 'O', 'B-food', 'O']\n",
      "m1_pred:  ['O', 'O', 'O', 'O', 'B-pricerange', 'O', 'O', 'O', 'O', 'B-food', 'O', 'O', 'O', 'O', 'O', 'O', 'O']\n",
      "==========================\n",
      "INPUT:  ['what', 'is', 'the', 'location', 'of', 'the', 'venue']\n",
      "m2_tar:  ['O', 'O', 'O', 'B-request', 'O', 'O', 'O']\n",
      "m2_pred:  ['O', 'O', 'O', 'B-request', 'O', 'O', 'O', 'O', 'O', 'O', 'O', 'O', 'O', 'O', 'O', 'O', 'O']\n",
      "-----\n",
      "m1_tar:  ['O', 'O', 'O', 'B-area', 'O', 'O', 'O']\n",
      "m1_pred:  ['O', 'O', 'O', 'B-area', 'O', 'O', 'O', 'O', 'O', 'O', 'O', 'O', 'O', 'O', 'O', 'O', 'O']\n",
      "==========================\n",
      "INPUT:  ['looking', 'for', 'an', 'dontcare', 'restaurant', 'that', 'serves']\n",
      "m2_tar:  ['O', 'O', 'O', 'B-inform', 'O', 'O', 'O']\n",
      "m2_pred:  ['O', 'O', 'O', 'B-inform', 'O', 'O', 'O', 'O', 'O', 'O', 'O', 'O', 'O', 'O', 'O', 'O', 'O']\n",
      "-----\n",
      "m1_tar:  ['O', 'O', 'O', 'B-pricerange', 'O', 'O', 'O']\n",
      "m1_pred:  ['O', 'O', 'O', 'B-pricerange', 'O', 'O', 'O', 'O', 'O', 'O', 'O', 'O', 'O', 'O', 'O', 'O', 'O']\n",
      "==========================\n"
     ]
    },
    {
     "name": "stderr",
     "output_type": "stream",
     "text": [
      "44.3684 37.8845:  40%|████      | 12004/30000 [05:01<07:48, 38.37it/s]"
     ]
    },
    {
     "name": "stdout",
     "output_type": "stream",
     "text": [
      "step:  12000\n",
      "CV_loss_slots_1:  113.305\n",
      "CV_loss_acts_2:  113.983\n",
      "INPUT:  ['and', 'what', 'type', 'of', 'serves', 'is', 'it']\n",
      "m2_tar:  ['O', 'O', 'O', 'O', 'B-request', 'O', 'O']\n",
      "m2_pred:  ['O', 'O', 'O', 'O', 'B-request', 'O', 'O', 'O', 'O', 'O', 'O', 'O', 'O', 'O', 'O', 'O']\n",
      "-----\n",
      "m1_tar:  ['O', 'O', 'O', 'O', 'B-food', 'O', 'O']\n",
      "m1_pred:  ['O', 'O', 'O', 'O', 'B-food', 'O', 'O', 'O', 'O', 'O', 'O', 'O', 'O', 'O', 'O', 'O']\n",
      "==========================\n",
      "INPUT:  ['im', 'looking', 'for', 'a', 'restaurant', 'in', 'the', 'north', 'part', 'of', 'town', 'and', 'it', 'should', 'serve', 'cata']\n",
      "m2_tar:  ['O', 'O', 'O', 'O', 'O', 'O', 'O', 'B-inform', 'O', 'O', 'O', 'O', 'O', 'O', 'O', 'O']\n",
      "m2_pred:  ['O', 'O', 'O', 'O', 'O', 'O', 'O', 'B-inform', 'O', 'O', 'O', 'O', 'O', 'O', 'O', 'B-inform']\n",
      "-----\n",
      "m1_tar:  ['O', 'O', 'O', 'O', 'O', 'O', 'O', 'B-area', 'O', 'O', 'O', 'O', 'O', 'O', 'O', 'O']\n",
      "m1_pred:  ['O', 'O', 'O', 'O', 'O', 'O', 'O', 'B-area', 'O', 'O', 'O', 'O', 'O', 'O', 'O', 'O']\n",
      "==========================\n",
      "INPUT:  ['a', 'restaurant', 'in', 'the', 'center', 'of', 'town', 'serving', 'carraibean', 'food']\n",
      "m2_tar:  ['O', 'O', 'O', 'O', 'O', 'O', 'O', 'O', 'O', 'O']\n",
      "m2_pred:  ['O', 'O', 'O', 'O', 'O', 'O', 'O', 'O', 'B-inform', 'O', 'O', 'O', 'O', 'O', 'O', 'O']\n",
      "-----\n",
      "m1_tar:  ['O', 'O', 'O', 'O', 'O', 'O', 'O', 'O', 'O', 'O']\n",
      "m1_pred:  ['O', 'O', 'O', 'O', 'O', 'O', 'O', 'O', 'B-food', 'O', 'O', 'O', 'O', 'O', 'O', 'O']\n",
      "==========================\n"
     ]
    },
    {
     "name": "stderr",
     "output_type": "stream",
     "text": [
      "66.9421 63.6707:  43%|████▎     | 13005/30000 [05:26<07:17, 38.83it/s]"
     ]
    },
    {
     "name": "stdout",
     "output_type": "stream",
     "text": [
      "step:  13000\n",
      "CV_loss_slots_1:  72.4322\n",
      "CV_loss_acts_2:  92.0521\n",
      "INPUT:  ['can', 'i', 'have', 'the', 'adddress', 'number', 'and', 'price', 'ran']\n",
      "m2_tar:  ['O', 'O', 'O', 'O', 'B-request', 'B-request', 'O', 'B-request', 'I-request']\n",
      "m2_pred:  ['O', 'O', 'O', 'O', 'B-request', 'B-request', 'O', 'B-request', 'I-request', 'O', 'O', 'O', 'O', 'O']\n",
      "-----\n",
      "m1_tar:  ['O', 'O', 'O', 'O', 'B-addr', 'B-phone', 'O', 'B-pricerange', 'I-pricerange']\n",
      "m1_pred:  ['O', 'O', 'O', 'O', 'B-addr', 'B-phone', 'O', 'B-pricerange', 'I-pricerange', 'O', 'O', 'O', 'O', 'O']\n",
      "==========================\n",
      "INPUT:  ['what', 'is', 'their', 'number']\n",
      "m2_tar:  ['O', 'O', 'O', 'B-request']\n",
      "m2_pred:  ['O', 'O', 'O', 'B-request', 'O', 'O', 'O', 'O', 'O', 'O', 'O', 'O', 'O', 'O']\n",
      "-----\n",
      "m1_tar:  ['O', 'O', 'O', 'B-phone']\n",
      "m1_pred:  ['O', 'O', 'O', 'B-phone', 'O', 'O', 'O', 'O', 'O', 'O', 'O', 'O', 'O', 'O']\n",
      "==========================\n",
      "INPUT:  ['i', 'need', 'to', 'know', 'the', 'phone', 'and', 'price', 'of', 'food']\n",
      "m2_tar:  ['O', 'O', 'O', 'O', 'O', 'B-request', 'O', 'B-request', 'I-request', 'I-request']\n",
      "m2_pred:  ['O', 'O', 'O', 'O', 'O', 'B-request', 'O', 'B-request', 'I-request', 'I-request', 'O', 'O', 'O', 'O']\n",
      "-----\n",
      "m1_tar:  ['O', 'O', 'O', 'O', 'O', 'B-phone', 'O', 'B-pricerange', 'I-pricerange', 'I-pricerange']\n",
      "m1_pred:  ['O', 'O', 'O', 'O', 'O', 'B-phone', 'O', 'B-pricerange', 'I-pricerange', 'I-pricerange', 'O', 'O', 'O', 'O']\n",
      "==========================\n"
     ]
    },
    {
     "name": "stderr",
     "output_type": "stream",
     "text": [
      "70.8436 67.2163:  47%|████▋     | 14004/30000 [05:51<07:11, 37.08it/s]"
     ]
    },
    {
     "name": "stdout",
     "output_type": "stream",
     "text": [
      "step:  14000\n",
      "CV_loss_slots_1:  83.4789\n",
      "CV_loss_acts_2:  78.0445\n",
      "INPUT:  ['restaurant', 'in', 'the', 'dontcare']\n",
      "m2_tar:  ['O', 'O', 'O', 'B-inform']\n",
      "m2_pred:  ['O', 'O', 'O', 'B-inform', 'O', 'O', 'O', 'O', 'O', 'O', 'O', 'O', 'O', 'O', 'O']\n",
      "-----\n",
      "m1_tar:  ['O', 'O', 'O', 'B-area']\n",
      "m1_pred:  ['O', 'O', 'O', 'B-area', 'O', 'O', 'O', 'O', 'O', 'O', 'O', 'O', 'O', 'O', 'O']\n",
      "==========================\n",
      "INPUT:  ['im', 'looking', 'for', 'a', 'expensive', 'priced', 'restaurant', 'in', 'the', 'centre', 'part', 'of']\n",
      "m2_tar:  ['O', 'O', 'O', 'O', 'B-inform', 'O', 'O', 'O', 'O', 'B-inform', 'O', 'O']\n",
      "m2_pred:  ['O', 'O', 'O', 'O', 'B-inform', 'O', 'O', 'O', 'O', 'B-inform', 'O', 'O', 'O', 'O', 'O']\n",
      "-----\n",
      "m1_tar:  ['O', 'O', 'O', 'O', 'B-pricerange', 'O', 'O', 'O', 'O', 'B-area', 'O', 'O']\n",
      "m1_pred:  ['O', 'O', 'O', 'O', 'B-pricerange', 'O', 'O', 'O', 'O', 'B-area', 'O', 'O', 'O', 'O', 'O']\n",
      "==========================\n",
      "INPUT:  ['find', 'me', 'an', 'dontcare', 'tuscan', 'restaurant']\n",
      "m2_tar:  ['O', 'O', 'O', 'B-inform', 'B-inform', 'O']\n",
      "m2_pred:  ['O', 'O', 'O', 'B-inform', 'B-inform', 'O', 'O', 'O', 'O', 'O', 'O', 'O', 'O', 'O', 'O']\n",
      "-----\n",
      "m1_tar:  ['O', 'O', 'O', 'B-pricerange', 'B-food', 'O']\n",
      "m1_pred:  ['O', 'O', 'O', 'B-pricerange', 'B-food', 'O', 'O', 'O', 'O', 'O', 'O', 'O', 'O', 'O', 'O']\n",
      "==========================\n"
     ]
    },
    {
     "name": "stderr",
     "output_type": "stream",
     "text": [
      "71.2203 75.8718:  50%|█████     | 15007/30000 [06:16<06:36, 37.82it/s]"
     ]
    },
    {
     "name": "stdout",
     "output_type": "stream",
     "text": [
      "step:  15000\n",
      "CV_loss_slots_1:  64.208\n",
      "CV_loss_acts_2:  42.241\n",
      "INPUT:  ['and', 'whats', 'their', 'phone', 'number']\n",
      "m2_tar:  ['O', 'O', 'O', 'B-request', 'I-request']\n",
      "m2_pred:  ['O', 'O', 'O', 'B-request', 'I-request', 'O', 'O', 'O', 'O', 'O', 'O', 'O', 'O', 'O']\n",
      "-----\n",
      "m1_tar:  ['O', 'O', 'O', 'B-phone', 'I-area']\n",
      "m1_pred:  ['O', 'O', 'O', 'B-phone', 'I-phone', 'O', 'O', 'O', 'O', 'O', 'O', 'O', 'O', 'O']\n",
      "==========================\n",
      "INPUT:  ['what', 'about', 'a', 'cheap', 'priced', 'restaurant']\n",
      "m2_tar:  ['O', 'O', 'O', 'B-inform', 'O', 'O']\n",
      "m2_pred:  ['O', 'O', 'O', 'B-inform', 'O', 'O', 'O', 'O', 'O', 'O', 'O', 'O', 'O', 'O']\n",
      "-----\n",
      "m1_tar:  ['O', 'O', 'O', 'B-pricerange', 'O', 'O']\n",
      "m1_pred:  ['O', 'O', 'O', 'B-pricerange', 'O', 'O', 'O', 'O', 'O', 'O', 'O', 'O', 'O', 'O']\n",
      "==========================\n",
      "INPUT:  ['great', 'could', 'you', 'tell', 'me', 'the', 'adddress', 'and', 'phone', 'number', 'to', 'that', 'place']\n",
      "m2_tar:  ['O', 'O', 'O', 'O', 'O', 'O', 'B-request', 'O', 'B-request', 'I-request', 'O', 'O', 'O']\n",
      "m2_pred:  ['O', 'O', 'O', 'O', 'O', 'O', 'B-request', 'O', 'B-request', 'I-request', 'O', 'O', 'O', 'O']\n",
      "-----\n",
      "m1_tar:  ['O', 'O', 'O', 'O', 'O', 'O', 'B-addr', 'O', 'B-phone', 'I-area', 'O', 'O', 'O']\n",
      "m1_pred:  ['O', 'O', 'O', 'O', 'O', 'O', 'B-addr', 'O', 'B-phone', 'I-phone', 'O', 'O', 'O', 'O']\n",
      "==========================\n"
     ]
    },
    {
     "name": "stderr",
     "output_type": "stream",
     "text": [
      "44.2521 37.9684:  53%|█████▎    | 16005/30000 [06:42<06:34, 35.50it/s]"
     ]
    },
    {
     "name": "stdout",
     "output_type": "stream",
     "text": [
      "step:  16000\n",
      "CV_loss_slots_1:  78.9456\n",
      "CV_loss_acts_2:  98.3282\n",
      "INPUT:  ['is', 'there', 'another', 'restaurant', 'in', 'the', 'west', 'of', 'town']\n",
      "m2_tar:  ['O', 'O', 'O', 'O', 'O', 'O', 'B-inform', 'O', 'O']\n",
      "m2_pred:  ['O', 'O', 'B-reqalts', 'O', 'O', 'O', 'B-inform', 'O', 'O', 'O', 'O', 'O', 'O', 'O', 'O', 'O']\n",
      "-----\n",
      "m1_tar:  ['O', 'O', 'O', 'O', 'O', 'O', 'B-area', 'O', 'O']\n",
      "m1_pred:  ['O', 'O', 'B-reqalts', 'O', 'O', 'O', 'B-area', 'O', 'O', 'O', 'O', 'O', 'O', 'O', 'O', 'O']\n",
      "==========================\n",
      "INPUT:  ['im', 'looking', 'for', 'am', 'dontcare', 'restaurant', 'in', 'the', 'centre', 'part']\n",
      "m2_tar:  ['O', 'O', 'O', 'O', 'B-inform', 'O', 'O', 'O', 'B-inform', 'O']\n",
      "m2_pred:  ['O', 'O', 'O', 'O', 'B-inform', 'O', 'O', 'O', 'B-inform', 'O', 'O', 'O', 'O', 'O', 'O', 'O']\n",
      "-----\n",
      "m1_tar:  ['O', 'O', 'O', 'O', 'B-pricerange', 'O', 'O', 'O', 'B-area', 'O']\n",
      "m1_pred:  ['O', 'O', 'O', 'B-food', 'O', 'O', 'O', 'O', 'B-area', 'O', 'O', 'O', 'O', 'O', 'O', 'O']\n",
      "==========================\n",
      "INPUT:  ['in', 'the', 'north']\n",
      "m2_tar:  ['O', 'O', 'B-inform']\n",
      "m2_pred:  ['O', 'O', 'B-inform', 'O', 'O', 'O', 'O', 'O', 'O', 'O', 'O', 'O', 'O', 'O', 'O', 'O']\n",
      "-----\n",
      "m1_tar:  ['O', 'O', 'B-area']\n",
      "m1_pred:  ['O', 'O', 'B-area', 'O', 'O', 'O', 'O', 'O', 'O', 'O', 'O', 'O', 'O', 'O', 'O', 'O']\n",
      "==========================\n"
     ]
    },
    {
     "name": "stderr",
     "output_type": "stream",
     "text": [
      "95.4594 91.891:  57%|█████▋    | 17005/30000 [07:08<06:12, 34.86it/s] "
     ]
    },
    {
     "name": "stdout",
     "output_type": "stream",
     "text": [
      "step:  17000\n",
      "CV_loss_slots_1:  131.173\n",
      "CV_loss_acts_2:  128.561\n",
      "INPUT:  ['the', 'post', 'code']\n",
      "m2_tar:  ['O', 'B-request', 'I-request']\n",
      "m2_pred:  ['O', 'B-request', 'I-request', 'O', 'O', 'O', 'O', 'O', 'O', 'O', 'O', 'O', 'O', 'O', 'O']\n",
      "-----\n",
      "m1_tar:  ['O', 'B-postcode', 'I-postcode']\n",
      "m1_pred:  ['O', 'B-postcode', 'I-postcode', 'O', 'O', 'O', 'O', 'O', 'O', 'O', 'O', 'O', 'O', 'O', 'O']\n",
      "==========================\n",
      "INPUT:  ['i', 'want', 'the', 'addrss', 'and', 'ph']\n",
      "m2_tar:  ['O', 'O', 'O', 'B-request', 'O', 'O']\n",
      "m2_pred:  ['O', 'O', 'O', 'B-request', 'O', 'B-request', 'O', 'O', 'O', 'O', 'O', 'O', 'O', 'O', 'O']\n",
      "-----\n",
      "m1_tar:  ['O', 'O', 'O', 'B-addr', 'O', 'O']\n",
      "m1_pred:  ['O', 'O', 'O', 'B-addr', 'O', 'B-phone', 'O', 'O', 'O', 'O', 'O', 'O', 'O', 'O', 'O']\n",
      "==========================\n",
      "INPUT:  ['belgium', 'food']\n",
      "m2_tar:  ['O', 'O']\n",
      "m2_pred:  ['O', 'O', 'O', 'O', 'O', 'O', 'O', 'O', 'O', 'O', 'O', 'O', 'O', 'O', 'O']\n",
      "-----\n",
      "m1_tar:  ['O', 'O']\n",
      "m1_pred:  ['O', 'O', 'O', 'O', 'O', 'O', 'O', 'O', 'O', 'O', 'O', 'O', 'O', 'O', 'O']\n",
      "==========================\n"
     ]
    },
    {
     "name": "stderr",
     "output_type": "stream",
     "text": [
      "42.4004 44.179:  60%|██████    | 18006/30000 [07:34<05:43, 34.95it/s] "
     ]
    },
    {
     "name": "stdout",
     "output_type": "stream",
     "text": [
      "step:  18000\n",
      "CV_loss_slots_1:  70.2005\n",
      "CV_loss_acts_2:  42.5567\n",
      "INPUT:  ['korea']\n",
      "m2_tar:  ['O']\n",
      "m2_pred:  ['O', 'O', 'O', 'O', 'O', 'O', 'O', 'O', 'O', 'O', 'O', 'O', 'O', 'O', 'O', 'O']\n",
      "-----\n",
      "m1_tar:  ['O']\n",
      "m1_pred:  ['O', 'O', 'O', 'O', 'O', 'O', 'O', 'O', 'O', 'O', 'O', 'O', 'O', 'O', 'O', 'O']\n",
      "==========================\n",
      "INPUT:  ['whats', 'the', 'price', 'of', 'food']\n",
      "m2_tar:  ['O', 'O', 'B-request', 'I-request', 'I-request']\n",
      "m2_pred:  ['O', 'O', 'B-request', 'I-request', 'I-request', 'O', 'O', 'O', 'O', 'O', 'O', 'O', 'O', 'O', 'O', 'O']\n",
      "-----\n",
      "m1_tar:  ['O', 'O', 'B-pricerange', 'I-pricerange', 'I-pricerange']\n",
      "m1_pred:  ['O', 'O', 'B-pricerange', 'I-pricerange', 'I-pricerange', 'O', 'O', 'O', 'O', 'O', 'O', 'O', 'O', 'O', 'O', 'O']\n",
      "==========================\n",
      "INPUT:  ['i', 'want', 'to', 'find', 'the', 'addre']\n",
      "m2_tar:  ['O', 'O', 'O', 'O', 'O', 'B-request']\n",
      "m2_pred:  ['O', 'O', 'O', 'O', 'O', 'B-request', 'O', 'O', 'O', 'O', 'O', 'O', 'O', 'O', 'O', 'O']\n",
      "-----\n",
      "m1_tar:  ['O', 'O', 'O', 'O', 'O', 'B-addr']\n",
      "m1_pred:  ['O', 'O', 'O', 'O', 'O', 'B-addr', 'O', 'O', 'O', 'O', 'O', 'O', 'O', 'O', 'O', 'O']\n",
      "==========================\n"
     ]
    },
    {
     "name": "stderr",
     "output_type": "stream",
     "text": [
      "26.4776 29.4805:  63%|██████▎   | 19005/30000 [07:59<04:56, 37.03it/s]"
     ]
    },
    {
     "name": "stdout",
     "output_type": "stream",
     "text": [
      "step:  19000\n",
      "CV_loss_slots_1:  102.824\n",
      "CV_loss_acts_2:  91.2344\n",
      "INPUT:  ['im', 'looking', 'for', 'something', 'serves', 'mediterranean', 'food']\n",
      "m2_tar:  ['O', 'O', 'O', 'O', 'O', 'B-inform', 'O']\n",
      "m2_pred:  ['O', 'O', 'O', 'O', 'O', 'B-inform', 'O', 'O', 'O', 'O', 'O', 'O', 'O']\n",
      "-----\n",
      "m1_tar:  ['O', 'O', 'O', 'O', 'O', 'B-food', 'O']\n",
      "m1_pred:  ['O', 'O', 'O', 'O', 'O', 'B-food', 'O', 'O', 'O', 'O', 'O', 'O', 'O']\n",
      "==========================\n",
      "INPUT:  ['can', 'i', 'have', 'the', 'addrss', 'and', 'phone', 'number']\n",
      "m2_tar:  ['O', 'O', 'O', 'O', 'B-request', 'O', 'B-request', 'I-request']\n",
      "m2_pred:  ['O', 'O', 'O', 'O', 'B-request', 'O', 'B-request', 'I-request', 'O', 'O', 'O', 'O', 'O']\n",
      "-----\n",
      "m1_tar:  ['O', 'O', 'O', 'O', 'B-addr', 'O', 'B-phone', 'I-area']\n",
      "m1_pred:  ['O', 'O', 'O', 'O', 'B-addr', 'O', 'B-phone', 'I-phone', 'O', 'O', 'O', 'O', 'O']\n",
      "==========================\n",
      "INPUT:  ['what', 'is', 'the', 'telephone', 'and', 'addre']\n",
      "m2_tar:  ['O', 'O', 'O', 'B-request', 'O', 'B-request']\n",
      "m2_pred:  ['O', 'O', 'O', 'B-request', 'O', 'B-request', 'O', 'O', 'O', 'O', 'O', 'O', 'O']\n",
      "-----\n",
      "m1_tar:  ['O', 'O', 'O', 'B-phone', 'O', 'B-addr']\n",
      "m1_pred:  ['O', 'O', 'O', 'B-phone', 'O', 'B-addr', 'O', 'O', 'O', 'O', 'O', 'O', 'O']\n",
      "==========================\n"
     ]
    },
    {
     "name": "stderr",
     "output_type": "stream",
     "text": [
      "42.3143 36.1677:  67%|██████▋   | 20004/30000 [08:24<04:22, 38.04it/s]"
     ]
    },
    {
     "name": "stdout",
     "output_type": "stream",
     "text": [
      "step:  20000\n",
      "CV_loss_slots_1:  41.725\n",
      "CV_loss_acts_2:  54.5823\n",
      "INPUT:  ['im', 'looking', 'for', 'a', 'restaurant', 'that', 'serves', 'french', 'food']\n",
      "m2_tar:  ['O', 'O', 'O', 'O', 'O', 'O', 'O', 'B-inform', 'O']\n",
      "m2_pred:  ['O', 'O', 'O', 'O', 'O', 'O', 'O', 'B-inform', 'O', 'O', 'O', 'O', 'O', 'O', 'O']\n",
      "-----\n",
      "m1_tar:  ['O', 'O', 'O', 'O', 'O', 'O', 'O', 'B-food', 'O']\n",
      "m1_pred:  ['O', 'O', 'O', 'O', 'O', 'O', 'O', 'B-food', 'O', 'O', 'O', 'O', 'O', 'O', 'O']\n",
      "==========================\n",
      "INPUT:  ['no', 'dont', 'care']\n",
      "m2_tar:  ['B-negate', 'B-negate', 'B-negate']\n",
      "m2_pred:  ['O', 'B-negate', 'B-negate', 'O', 'O', 'O', 'O', 'O', 'O', 'O', 'O', 'O', 'O', 'O', 'O']\n",
      "-----\n",
      "m1_tar:  ['B-negate', 'B-negate', 'B-negate']\n",
      "m1_pred:  ['O', 'B-negate', 'B-negate', 'O', 'O', 'O', 'O', 'O', 'O', 'O', 'O', 'O', 'O', 'O', 'O']\n",
      "==========================\n",
      "INPUT:  ['what', 'type', 'of', 'venue']\n",
      "m2_tar:  ['O', 'O', 'O', 'O']\n",
      "m2_pred:  ['O', 'O', 'O', 'B-request', 'O', 'O', 'O', 'O', 'O', 'O', 'O', 'O', 'O', 'O', 'O']\n",
      "-----\n",
      "m1_tar:  ['O', 'O', 'O', 'O']\n",
      "m1_pred:  ['O', 'O', 'O', 'B-food', 'O', 'O', 'O', 'O', 'O', 'O', 'O', 'O', 'O', 'O', 'O']\n",
      "==========================\n"
     ]
    },
    {
     "name": "stderr",
     "output_type": "stream",
     "text": [
      "31.2934 36.4144:  70%|███████   | 21003/30000 [08:48<04:00, 37.43it/s]"
     ]
    },
    {
     "name": "stdout",
     "output_type": "stream",
     "text": [
      "step:  21000\n",
      "CV_loss_slots_1:  102.402\n",
      "CV_loss_acts_2:  134.366\n",
      "INPUT:  ['find', 'me', 'a', 'expensive', 'indian', 'restaurant']\n",
      "m2_tar:  ['O', 'O', 'O', 'B-inform', 'B-inform', 'O']\n",
      "m2_pred:  ['O', 'O', 'B-inform', 'B-inform', 'B-inform', 'O', 'O', 'O', 'O', 'O', 'O', 'O', 'O', 'O', 'O', 'O', 'O']\n",
      "-----\n",
      "m1_tar:  ['O', 'O', 'O', 'B-pricerange', 'B-food', 'O']\n",
      "m1_pred:  ['O', 'O', 'O', 'B-pricerange', 'B-food', 'O', 'O', 'O', 'O', 'O', 'O', 'O', 'O', 'O', 'O', 'O', 'O']\n",
      "==========================\n",
      "INPUT:  ['it', 'doesnt', 'matter', 'to', 'me']\n",
      "m2_tar:  ['O', 'O', 'O', 'O', 'O']\n",
      "m2_pred:  ['O', 'O', 'O', 'O', 'O', 'O', 'O', 'O', 'O', 'O', 'O', 'O', 'O', 'O', 'O', 'O', 'O']\n",
      "-----\n",
      "m1_tar:  ['O', 'O', 'O', 'O', 'O']\n",
      "m1_pred:  ['O', 'O', 'O', 'O', 'O', 'O', 'O', 'O', 'O', 'O', 'O', 'O', 'O', 'O', 'O', 'O', 'O']\n",
      "==========================\n",
      "INPUT:  ['hi', 'im', 'looking', 'for', 'a', 'cheap', 'priced', 'restaurant']\n",
      "m2_tar:  ['O', 'O', 'O', 'O', 'O', 'B-inform', 'O', 'O']\n",
      "m2_pred:  ['O', 'O', 'O', 'O', 'O', 'B-inform', 'O', 'O', 'O', 'O', 'O', 'O', 'O', 'O', 'O', 'O', 'O']\n",
      "-----\n",
      "m1_tar:  ['O', 'O', 'O', 'O', 'O', 'B-pricerange', 'O', 'O']\n",
      "m1_pred:  ['O', 'O', 'O', 'O', 'O', 'B-pricerange', 'O', 'O', 'O', 'O', 'O', 'O', 'O', 'O', 'O', 'O', 'O']\n",
      "==========================\n"
     ]
    },
    {
     "name": "stderr",
     "output_type": "stream",
     "text": [
      "54.3463 47.5487:  73%|███████▎  | 22004/30000 [09:14<03:53, 34.20it/s]"
     ]
    },
    {
     "name": "stdout",
     "output_type": "stream",
     "text": [
      "step:  22000\n",
      "CV_loss_slots_1:  62.1124\n",
      "CV_loss_acts_2:  86.4392\n",
      "INPUT:  ['can', 'i', 'please', 'have', 'their', 'phone', 'number']\n",
      "m2_tar:  ['O', 'O', 'O', 'O', 'O', 'B-request', 'I-request']\n",
      "m2_pred:  ['O', 'O', 'O', 'O', 'B-request', 'B-request', 'I-request', 'O', 'O', 'O', 'O', 'O', 'O', 'O', 'O', 'O']\n",
      "-----\n",
      "m1_tar:  ['O', 'O', 'O', 'O', 'O', 'B-phone', 'I-area']\n",
      "m1_pred:  ['O', 'O', 'O', 'O', 'B-addr', 'B-phone', 'I-phone', 'O', 'O', 'O', 'O', 'O', 'O', 'O', 'O', 'O']\n",
      "==========================\n",
      "INPUT:  ['can', 'i', 'have', 'the', 'address', 'phone', 'and', 'the', 'type', 'of', 'food']\n",
      "m2_tar:  ['O', 'O', 'O', 'O', 'B-request', 'B-request', 'O', 'O', 'O', 'O', 'B-request']\n",
      "m2_pred:  ['O', 'O', 'O', 'O', 'B-request', 'B-request', 'O', 'O', 'O', 'O', 'B-request', 'O', 'O', 'O', 'O', 'O']\n",
      "-----\n",
      "m1_tar:  ['O', 'O', 'O', 'O', 'B-addr', 'B-phone', 'O', 'O', 'O', 'O', 'B-food']\n",
      "m1_pred:  ['O', 'O', 'O', 'O', 'B-addr', 'B-phone', 'O', 'O', 'O', 'O', 'B-food', 'O', 'O', 'O', 'O', 'O']\n",
      "==========================\n",
      "INPUT:  ['what', 'else', 'is', 'there']\n",
      "m2_tar:  ['B-confirm', 'B-confirm', 'B-confirm', 'B-confirm']\n",
      "m2_pred:  ['O', 'O', 'O', 'B-reqalts', 'O', 'O', 'O', 'O', 'O', 'O', 'O', 'O', 'O', 'O', 'O', 'O']\n",
      "-----\n",
      "m1_tar:  ['B-reqalts', 'B-reqalts', 'B-reqalts', 'B-reqalts']\n",
      "m1_pred:  ['O', 'O', 'O', 'B-reqalts', 'O', 'O', 'O', 'O', 'O', 'O', 'O', 'O', 'O', 'O', 'O', 'O']\n",
      "==========================\n"
     ]
    },
    {
     "name": "stderr",
     "output_type": "stream",
     "text": [
      "39.1378 40.0622:  77%|███████▋  | 23004/30000 [09:40<03:01, 38.54it/s]"
     ]
    },
    {
     "name": "stdout",
     "output_type": "stream",
     "text": [
      "step:  23000\n",
      "CV_loss_slots_1:  73.7268\n",
      "CV_loss_acts_2:  74.6416\n",
      "INPUT:  ['whats', 'their', 'price', 'range']\n",
      "m2_tar:  ['O', 'O', 'B-request', 'I-request']\n",
      "m2_pred:  ['O', 'O', 'B-request', 'I-request', 'O', 'O', 'O', 'O', 'O', 'O', 'O', 'O']\n",
      "-----\n",
      "m1_tar:  ['O', 'O', 'B-pricerange', 'I-pricerange']\n",
      "m1_pred:  ['O', 'O', 'B-pricerange', 'I-pricerange', 'O', 'O', 'O', 'O', 'O', 'O', 'O', 'O']\n",
      "==========================\n",
      "INPUT:  ['a', 'restaurant', 'in', 'the', 'west', 'part', 'of', 'town', 'serving', 'pan', 'asian', 'food']\n",
      "m2_tar:  ['O', 'O', 'O', 'O', 'B-inform', 'O', 'O', 'O', 'O', 'O', 'O', 'O']\n",
      "m2_pred:  ['O', 'O', 'O', 'O', 'B-inform', 'O', 'O', 'O', 'O', 'B-inform', 'O', 'O']\n",
      "-----\n",
      "m1_tar:  ['O', 'O', 'O', 'O', 'B-area', 'O', 'O', 'O', 'O', 'O', 'O', 'O']\n",
      "m1_pred:  ['O', 'O', 'O', 'O', 'B-area', 'O', 'O', 'O', 'O', 'B-food', 'O', 'O']\n",
      "==========================\n",
      "INPUT:  ['what', 'about', 'fusion']\n",
      "m2_tar:  ['O', 'O', 'B-inform']\n",
      "m2_pred:  ['O', 'O', 'B-inform', 'O', 'O', 'O', 'O', 'O', 'O', 'O', 'O', 'O']\n",
      "-----\n",
      "m1_tar:  ['O', 'O', 'B-food']\n",
      "m1_pred:  ['O', 'O', 'B-food', 'O', 'O', 'O', 'O', 'O', 'O', 'O', 'O', 'O']\n",
      "==========================\n"
     ]
    },
    {
     "name": "stderr",
     "output_type": "stream",
     "text": [
      "56.5535 54.8926:  80%|████████  | 24004/30000 [10:06<02:56, 34.00it/s]"
     ]
    },
    {
     "name": "stdout",
     "output_type": "stream",
     "text": [
      "step:  24000\n",
      "CV_loss_slots_1:  67.3022\n",
      "CV_loss_acts_2:  50.6264\n",
      "INPUT:  ['i', 'want', 'to', 'find', 'a', 'restaurant', 'in', 'dontcare', 'area']\n",
      "m2_tar:  ['O', 'O', 'O', 'O', 'O', 'O', 'O', 'B-inform', 'O']\n",
      "m2_pred:  ['O', 'O', 'O', 'O', 'O', 'O', 'O', 'B-inform', 'O', 'O', 'O', 'O', 'O', 'O', 'O', 'O']\n",
      "-----\n",
      "m1_tar:  ['O', 'O', 'O', 'O', 'O', 'O', 'O', 'B-area', 'O']\n",
      "m1_pred:  ['O', 'O', 'O', 'O', 'O', 'O', 'O', 'B-area', 'O', 'O', 'O', 'O', 'O', 'O', 'O', 'O']\n",
      "==========================\n",
      "INPUT:  ['may', 'i', 'get', 'the', 'adddress', 'and', 'phone', 'please']\n",
      "m2_tar:  ['O', 'O', 'O', 'O', 'B-request', 'O', 'B-request', 'O']\n",
      "m2_pred:  ['O', 'O', 'O', 'O', 'B-request', 'O', 'B-request', 'O', 'O', 'O', 'O', 'O', 'O', 'O', 'O', 'O']\n",
      "-----\n",
      "m1_tar:  ['O', 'O', 'O', 'O', 'B-addr', 'O', 'B-phone', 'O']\n",
      "m1_pred:  ['O', 'O', 'O', 'O', 'B-addr', 'O', 'B-phone', 'O', 'O', 'O', 'O', 'O', 'O', 'O', 'O', 'O']\n",
      "==========================\n",
      "INPUT:  ['may', 'i', 'have', 'the', 'addrss']\n",
      "m2_tar:  ['O', 'O', 'O', 'O', 'B-request']\n",
      "m2_pred:  ['O', 'O', 'O', 'O', 'B-request', 'O', 'O', 'O', 'O', 'O', 'O', 'O', 'O', 'O', 'O', 'O']\n",
      "-----\n",
      "m1_tar:  ['O', 'O', 'O', 'O', 'B-addr']\n",
      "m1_pred:  ['O', 'O', 'O', 'O', 'B-addr', 'O', 'O', 'O', 'O', 'O', 'O', 'O', 'O', 'O', 'O', 'O']\n",
      "==========================\n"
     ]
    },
    {
     "name": "stderr",
     "output_type": "stream",
     "text": [
      "69.2668 61.7044:  83%|████████▎ | 25006/30000 [10:31<02:11, 38.02it/s]"
     ]
    },
    {
     "name": "stdout",
     "output_type": "stream",
     "text": [
      "step:  25000\n",
      "CV_loss_slots_1:  45.4883\n",
      "CV_loss_acts_2:  36.6232\n",
      "INPUT:  ['place', 'that', 'serves', 'chinese', 'food']\n",
      "m2_tar:  ['O', 'O', 'O', 'B-inform', 'O']\n",
      "m2_pred:  ['O', 'O', 'O', 'B-inform', 'O', 'O', 'O', 'O', 'O', 'O', 'O', 'O', 'O', 'O']\n",
      "-----\n",
      "m1_tar:  ['O', 'O', 'O', 'B-food', 'O']\n",
      "m1_pred:  ['O', 'O', 'O', 'B-food', 'O', 'O', 'O', 'O', 'O', 'O', 'O', 'O', 'O', 'O']\n",
      "==========================\n",
      "INPUT:  ['what', 'is', 'the', 'addre', 'and', 'phone', 'number']\n",
      "m2_tar:  ['O', 'O', 'O', 'B-request', 'O', 'B-request', 'I-request']\n",
      "m2_pred:  ['O', 'O', 'O', 'B-request', 'O', 'B-request', 'I-request', 'O', 'O', 'O', 'O', 'O', 'O', 'O']\n",
      "-----\n",
      "m1_tar:  ['O', 'O', 'O', 'B-addr', 'O', 'B-phone', 'I-area']\n",
      "m1_pred:  ['O', 'O', 'O', 'B-addr', 'O', 'B-phone', 'I-phone', 'O', 'O', 'O', 'O', 'O', 'O', 'O']\n",
      "==========================\n",
      "INPUT:  ['korea']\n",
      "m2_tar:  ['O']\n",
      "m2_pred:  ['O', 'O', 'O', 'O', 'O', 'O', 'O', 'O', 'O', 'O', 'O', 'O', 'O', 'O']\n",
      "-----\n",
      "m1_tar:  ['O']\n",
      "m1_pred:  ['O', 'O', 'O', 'O', 'O', 'O', 'O', 'O', 'O', 'O', 'O', 'O', 'O', 'O']\n",
      "==========================\n"
     ]
    },
    {
     "name": "stderr",
     "output_type": "stream",
     "text": [
      "35.3739 32.4509:  87%|████████▋ | 26007/30000 [10:57<01:55, 34.69it/s]"
     ]
    },
    {
     "name": "stdout",
     "output_type": "stream",
     "text": [
      "step:  26000\n",
      "CV_loss_slots_1:  114.719\n",
      "CV_loss_acts_2:  78.7074\n",
      "INPUT:  ['portugese']\n",
      "m2_tar:  ['O']\n",
      "m2_pred:  ['O', 'O', 'O', 'O', 'O', 'O', 'O', 'O', 'O', 'O', 'O', 'O', 'O', 'O', 'O', 'O', 'O', 'O', 'O', 'O', 'O', 'O']\n",
      "-----\n",
      "m1_tar:  ['O']\n",
      "m1_pred:  ['O', 'O', 'O', 'O', 'O', 'O', 'O', 'O', 'O', 'O', 'O', 'O', 'O', 'O', 'O', 'O', 'O', 'O', 'O', 'O', 'O', 'O']\n",
      "==========================\n",
      "INPUT:  ['right', 'on', 'good', 'bye', 'peace']\n",
      "m2_tar:  ['B-affirm', 'B-affirm', 'B-affirm', 'B-affirm', 'B-affirm']\n",
      "m2_pred:  ['O', 'O', 'O', 'B-bye', 'B-bye', 'O', 'O', 'O', 'O', 'O', 'O', 'O', 'O', 'O', 'O', 'O', 'O', 'O', 'O', 'O', 'O', 'O']\n",
      "-----\n",
      "m1_tar:  ['B-affirm', 'B-affirm', 'B-affirm', 'B-affirm', 'B-affirm']\n",
      "m1_pred:  ['O', 'O', 'O', 'B-bye', 'B-bye', 'O', 'O', 'O', 'O', 'O', 'O', 'O', 'O', 'O', 'O', 'O', 'O', 'O', 'O', 'O', 'O', 'O']\n",
      "==========================\n",
      "INPUT:  ['perfect', 'may', 'i', 'have', 'the', 'addrss']\n",
      "m2_tar:  ['O', 'O', 'O', 'O', 'O', 'B-request']\n",
      "m2_pred:  ['O', 'O', 'O', 'O', 'O', 'B-request', 'O', 'O', 'O', 'O', 'O', 'O', 'O', 'O', 'O', 'O', 'O', 'O', 'O', 'O', 'O', 'O']\n",
      "-----\n",
      "m1_tar:  ['O', 'O', 'O', 'O', 'O', 'B-addr']\n",
      "m1_pred:  ['O', 'O', 'O', 'O', 'O', 'B-addr', 'O', 'O', 'O', 'O', 'O', 'O', 'O', 'O', 'O', 'O', 'O', 'O', 'O', 'O', 'O', 'O']\n",
      "==========================\n"
     ]
    },
    {
     "name": "stderr",
     "output_type": "stream",
     "text": [
      "42.2494 44.3415:  90%|█████████ | 27006/30000 [11:22<01:23, 36.00it/s]"
     ]
    },
    {
     "name": "stdout",
     "output_type": "stream",
     "text": [
      "step:  27000\n",
      "CV_loss_slots_1:  76.3506\n",
      "CV_loss_acts_2:  74.2138\n",
      "INPUT:  ['looking', 'for', 'a', 'moderate', 'restaurant', 'in', 'the', 'north', 'part', 'of', 'town']\n",
      "m2_tar:  ['O', 'O', 'O', 'B-inform', 'O', 'O', 'O', 'B-inform', 'O', 'O', 'O']\n",
      "m2_pred:  ['O', 'O', 'O', 'B-inform', 'O', 'O', 'O', 'B-inform', 'O', 'O', 'O', 'O', 'O', 'O']\n",
      "-----\n",
      "m1_tar:  ['O', 'O', 'O', 'B-pricerange', 'O', 'O', 'O', 'B-area', 'O', 'O', 'O']\n",
      "m1_pred:  ['O', 'O', 'O', 'B-pricerange', 'O', 'O', 'O', 'B-area', 'O', 'O', 'O', 'O', 'O', 'O']\n",
      "==========================\n",
      "INPUT:  ['how', 'about', 'a', 'different', 'restaurant']\n",
      "m2_tar:  ['B-confirm', 'B-confirm', 'B-confirm', 'B-confirm', 'B-confirm']\n",
      "m2_pred:  ['O', 'O', 'O', 'B-inform', 'O', 'O', 'O', 'O', 'O', 'O', 'O', 'O', 'O', 'O']\n",
      "-----\n",
      "m1_tar:  ['B-reqalts', 'B-reqalts', 'B-reqalts', 'B-reqalts', 'B-reqalts']\n",
      "m1_pred:  ['O', 'O', 'O', 'B-food', 'O', 'O', 'O', 'O', 'O', 'O', 'O', 'O', 'O', 'O']\n",
      "==========================\n",
      "INPUT:  ['ye']\n",
      "m2_tar:  ['B-affirm']\n",
      "m2_pred:  ['O', 'O', 'O', 'O', 'O', 'O', 'O', 'O', 'O', 'O', 'O', 'O', 'O', 'O']\n",
      "-----\n",
      "m1_tar:  ['B-affirm']\n",
      "m1_pred:  ['O', 'O', 'O', 'O', 'O', 'O', 'O', 'O', 'O', 'O', 'O', 'O', 'O', 'O']\n",
      "==========================\n"
     ]
    },
    {
     "name": "stderr",
     "output_type": "stream",
     "text": [
      "34.6688 33.8869:  93%|█████████▎| 28006/30000 [11:48<00:50, 39.81it/s]"
     ]
    },
    {
     "name": "stdout",
     "output_type": "stream",
     "text": [
      "step:  28000\n",
      "CV_loss_slots_1:  64.6647\n",
      "CV_loss_acts_2:  38.615\n",
      "INPUT:  ['type', 'of', 'serves']\n",
      "m2_tar:  ['O', 'O', 'B-request']\n",
      "m2_pred:  ['O', 'O', 'B-request', 'O', 'O', 'O', 'O', 'O', 'O', 'O', 'O', 'O', 'O', 'O', 'O', 'O']\n",
      "-----\n",
      "m1_tar:  ['O', 'O', 'B-food']\n",
      "m1_pred:  ['O', 'O', 'B-food', 'O', 'O', 'O', 'O', 'O', 'O', 'O', 'O', 'O', 'O', 'O', 'O', 'O']\n",
      "==========================\n",
      "INPUT:  ['i', 'am', 'looking', 'for', 'creative', 'type', 'food']\n",
      "m2_tar:  ['O', 'O', 'O', 'O', 'B-inform', 'O', 'O']\n",
      "m2_pred:  ['O', 'O', 'O', 'O', 'O', 'O', 'O', 'O', 'O', 'O', 'O', 'O', 'O', 'O', 'O', 'O']\n",
      "-----\n",
      "m1_tar:  ['O', 'O', 'O', 'O', 'B-food', 'O', 'O']\n",
      "m1_pred:  ['O', 'O', 'O', 'O', 'O', 'O', 'O', 'O', 'O', 'O', 'O', 'O', 'O', 'O', 'O', 'O']\n",
      "==========================\n",
      "INPUT:  ['and', 'for', 'good', 'luck', 'what', 'is', 'the', 'postal', 'code']\n",
      "m2_tar:  ['O', 'O', 'O', 'O', 'O', 'O', 'O', 'B-request', 'I-request']\n",
      "m2_pred:  ['O', 'O', 'O', 'O', 'O', 'O', 'O', 'B-request', 'I-request', 'O', 'O', 'O', 'O', 'O', 'O', 'O']\n",
      "-----\n",
      "m1_tar:  ['O', 'O', 'O', 'O', 'O', 'O', 'O', 'B-postcode', 'I-postcode']\n",
      "m1_pred:  ['O', 'O', 'O', 'O', 'O', 'O', 'O', 'B-postcode', 'I-postcode', 'O', 'O', 'O', 'O', 'O', 'O', 'O']\n",
      "==========================\n"
     ]
    },
    {
     "name": "stderr",
     "output_type": "stream",
     "text": [
      "26.4837 21.8155:  97%|█████████▋| 29008/30000 [12:12<00:25, 39.67it/s]"
     ]
    },
    {
     "name": "stdout",
     "output_type": "stream",
     "text": [
      "step:  29000\n",
      "CV_loss_slots_1:  96.775\n",
      "CV_loss_acts_2:  48.5396\n",
      "INPUT:  ['a', 'restaurant', 'in', 'the', 'centre', 'part', 'of', 'town', 'serving', 'brazilian', 'food']\n",
      "m2_tar:  ['O', 'O', 'O', 'O', 'B-inform', 'O', 'O', 'O', 'O', 'B-inform', 'O']\n",
      "m2_pred:  ['O', 'O', 'O', 'O', 'B-inform', 'O', 'O', 'O', 'O', 'B-inform', 'O', 'O', 'O', 'O', 'O']\n",
      "-----\n",
      "m1_tar:  ['O', 'O', 'O', 'O', 'B-area', 'O', 'O', 'O', 'O', 'B-food', 'O']\n",
      "m1_pred:  ['O', 'O', 'O', 'O', 'B-area', 'O', 'O', 'O', 'O', 'B-food', 'O', 'O', 'O', 'O', 'O']\n",
      "==========================\n",
      "INPUT:  ['what', 'is', 'the', 'number']\n",
      "m2_tar:  ['O', 'O', 'O', 'B-request']\n",
      "m2_pred:  ['O', 'O', 'O', 'B-request', 'O', 'O', 'O', 'O', 'O', 'O', 'O', 'O', 'O', 'O', 'O']\n",
      "-----\n",
      "m1_tar:  ['O', 'O', 'O', 'B-phone']\n",
      "m1_pred:  ['O', 'O', 'O', 'B-phone', 'O', 'O', 'O', 'O', 'O', 'O', 'O', 'O', 'O', 'O', 'O']\n",
      "==========================\n",
      "INPUT:  ['any', 'kind']\n",
      "m2_tar:  ['O', 'O']\n",
      "m2_pred:  ['O', 'O', 'O', 'O', 'O', 'O', 'O', 'O', 'O', 'O', 'O', 'O', 'O', 'O', 'O']\n",
      "-----\n",
      "m1_tar:  ['O', 'O']\n",
      "m1_pred:  ['O', 'O', 'O', 'O', 'O', 'O', 'O', 'O', 'O', 'O', 'O', 'O', 'O', 'O', 'O']\n",
      "==========================\n"
     ]
    },
    {
     "name": "stderr",
     "output_type": "stream",
     "text": [
      "37.1094 30.076: 100%|██████████| 30000/30000 [12:36<00:00, 39.64it/s] \n"
     ]
    }
   ],
   "source": [
    "with tf.Session() as sess:\n",
    "    sess.run(tf.global_variables_initializer())\n",
    "    saver = tf.train.Saver()\n",
    "    avg_loss = -np.ones((3, ))\n",
    "    alpha = 0.9\n",
    "    \n",
    "    pbar = tqdm(range(30000))\n",
    "    for step in pbar:\n",
    "        x, m1, m2, _lens = next(DataGen)\n",
    "        res = sess.run([m1_loss, m2_loss, train_op], {inputs: x, mask1: m1, mask2: m2, lens: _lens})\n",
    "        pbar.set_description(str(res[0]) + ' ' + str(res[1]))\n",
    "        \n",
    "#         print(res[0])\n",
    "#         res = sess.run([lm_loss, m1_loss, m2_loss, train_op], {inputs: x, mask1: m1, mask2: m2, lens: _lens})\n",
    "#         res = np.array(res[:-1])\n",
    "        \n",
    "#         if avg_loss[0] < 0:\n",
    "#             avg_loss = res\n",
    "        \n",
    "#         avg_loss = alpha * avg_loss + (1-alpha) * res\n",
    "#         pbar.set_description(' '.join('{:.2f}'.format(_) for _ in avg_loss))\n",
    "        \n",
    "        \n",
    "        if(step%1000 == 0):\n",
    "            \n",
    "            x_dev, m1_dev, m2_dev, _lens_dev = next(DataGenDev)\n",
    "            print(\"step: \", step)\n",
    "            \n",
    "            N = 3 # how many examples show to test:\n",
    "            loss_cv_1, loss_cv_2, _, pred_1, pred_2 = sess.run([m1_loss, m2_loss, train_op, prediction_m1, prediction_m2], \n",
    "                                                    {inputs: x_dev, \n",
    "                                                      mask1: m1_dev,\n",
    "                                                      mask2: m2_dev,\n",
    "                                                      lens: _lens_dev})\n",
    "            print(\"CV_loss_slots_1: \", loss_cv_1)\n",
    "            print(\"CV_loss_acts_2: \", loss_cv_2)\n",
    "#             print(\"CV_loss_acts: \", m2_cv_loss)\n",
    "            \n",
    "            for x_, m1_, m2_, p1, p2 in zip(x_dev[:N], m1_dev[:N], m2_dev[:N], pred_1[:N], pred_2[:N]):\n",
    "\n",
    "                print(\"INPUT: \", DataGen.decode_sentence(x_))\n",
    "                print(\"m2_tar: \", DataGen.decode_acts(m2_))\n",
    "                print(\"m2_pred: \", DataGen.decode_acts(p2))                \n",
    "                \n",
    "                print(\"-----\")\n",
    "                \n",
    "                print(\"m1_tar: \", DataGen.decode_slots(m1_))\n",
    "                print(\"m1_pred: \", DataGen.decode_slots(p1))\n",
    "                \n",
    "                print(\"==========================\")\n",
    "    saver.save(sess=sess, save_path='nlu_model',global_step=30000)"
   ]
  },
  {
   "cell_type": "code",
   "execution_count": 11,
   "metadata": {
    "collapsed": true
   },
   "outputs": [],
   "source": [
    "file_writer = tf.summary.FileWriter('../logdir/', sess.graph)"
   ]
  },
  {
   "cell_type": "markdown",
   "metadata": {
    "collapsed": true
   },
   "source": [
    "## Это чисто черновик, где происходит какая-то фигня с bi-LSTM"
   ]
  },
  {
   "cell_type": "code",
   "execution_count": null,
   "metadata": {
    "collapsed": true
   },
   "outputs": [],
   "source": [
    "encoder_inputs = tf.placeholder(shape=(None, None), dtype=tf.int32, name='encoder_inputs')\n",
    "encoder_inputs_length = tf.placeholder(shape=(None,), dtype=tf.int32, name='encoder_inputs_length')\n",
    "\n",
    "encoder_targets = tf.placeholder(shape=(None), dtype=tf.int32, name='encoder_targets')\n",
    "embeddings = tf.Variable(tf.random_uniform([vocab_size, input_embedding_size], -1.0, 1.0), dtype=tf.float32)\n",
    "\n",
    "encoder_inputs_embedded = tf.nn.embedding_lookup(embeddings, encoder_inputs)"
   ]
  },
  {
   "cell_type": "code",
   "execution_count": null,
   "metadata": {
    "collapsed": true
   },
   "outputs": [],
   "source": [
    "encoder_cell_b = LSTMCell(encoder_hidden_units)\n",
    "encoder_cell_f = LSTMCell(encoder_hidden_units, reuse=None)"
   ]
  },
  {
   "cell_type": "code",
   "execution_count": null,
   "metadata": {
    "collapsed": true
   },
   "outputs": [],
   "source": [
    "# encoder_cell = LSTMCell(encoder_hidden_units, reuse=tf.get_variable_scope().reuse)\n",
    "# encoder_cell_f = LSTMCell(encoder_hidden_units)\n",
    "((encoder_fw_outputs,\n",
    "encoder_bw_outputs),\n",
    "(encoder_fw_final_state,\n",
    "encoder_bw_final_state)) = (tf.nn.bidirectional_dynamic_rnn(cell_fw=encoder_cell_f,\n",
    "                                cell_bw=encoder_cell_b,\n",
    "                                inputs=encoder_inputs_embedded,\n",
    "                                sequence_length=encoder_inputs_length,\n",
    "                                dtype=tf.float32, time_major=TimeMajor))\n",
    "    "
   ]
  },
  {
   "cell_type": "code",
   "execution_count": null,
   "metadata": {
    "collapsed": true
   },
   "outputs": [],
   "source": [
    "encoder_outputs = tf.concat((encoder_fw_outputs, encoder_bw_outputs), 2)\n",
    "\n",
    "encoder_final_state_c = tf.concat(\n",
    "    (encoder_fw_final_state.c, encoder_bw_final_state.c), 1)\n",
    "\n",
    "encoder_final_state_h = tf.concat(\n",
    "    (encoder_fw_final_state.h, encoder_bw_final_state.h), 1)\n",
    "\n",
    "encoder_final_state = LSTMStateTuple(\n",
    "    c=encoder_final_state_c,\n",
    "    h=encoder_final_state_h)"
   ]
  },
  {
   "cell_type": "code",
   "execution_count": null,
   "metadata": {
    "collapsed": true
   },
   "outputs": [],
   "source": [
    "from tensorflow.contrib import layers\n",
    "next_word_pred = layers.fully_connected(encoder_outputs, vocab_size, ...)\n",
    "\n",
    "\n",
    "\n",
    "mask1_pred = layers.fully_connected(encoder_outputs, mask1_vocab, ...)\n",
    "mask2_pred = layers.fully_connected(encoder_outputs, mask2_vocab, ...)\n"
   ]
  },
  {
   "cell_type": "code",
   "execution_count": null,
   "metadata": {
    "collapsed": true
   },
   "outputs": [],
   "source": [
    "encoder_final_state_h"
   ]
  },
  {
   "cell_type": "code",
   "execution_count": null,
   "metadata": {
    "collapsed": true
   },
   "outputs": [],
   "source": [
    "W = tf.Variable(tf.random_uniform([encoder_hidden_units*2, vocab_size], -1, 1), dtype=tf.float32)\n",
    "b = tf.Variable(tf.zeros([vocab_size]), dtype=tf.float32)"
   ]
  },
  {
   "cell_type": "code",
   "execution_count": null,
   "metadata": {
    "collapsed": true
   },
   "outputs": [],
   "source": [
    "logits = tf.add(tf.matmul(encoder_final_state_h, W), b)\n",
    "# encoder_logits = tf.reshape(encoder_logits_flat, (decoder_max_steps, decoder_batch_size, vocab_size))"
   ]
  },
  {
   "cell_type": "code",
   "execution_count": null,
   "metadata": {
    "collapsed": true
   },
   "outputs": [],
   "source": [
    "logits"
   ]
  },
  {
   "cell_type": "code",
   "execution_count": null,
   "metadata": {
    "collapsed": true
   },
   "outputs": [],
   "source": [
    "encoder_targets"
   ]
  },
  {
   "cell_type": "code",
   "execution_count": null,
   "metadata": {
    "collapsed": true
   },
   "outputs": [],
   "source": [
    "losses = tf.nn.sparse_softmax_cross_entropy_with_logits(logits = logits, labels = encoder_targets)"
   ]
  }
 ],
 "metadata": {
  "kernelspec": {
   "display_name": "Python 3",
   "language": "python",
   "name": "python3"
  },
  "language_info": {
   "codemirror_mode": {
    "name": "ipython",
    "version": 3
   },
   "file_extension": ".py",
   "mimetype": "text/x-python",
   "name": "python",
   "nbconvert_exporter": "python",
   "pygments_lexer": "ipython3",
   "version": "3.5.2"
  }
 },
 "nbformat": 4,
 "nbformat_minor": 2
}
