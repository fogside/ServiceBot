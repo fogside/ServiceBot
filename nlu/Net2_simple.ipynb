{
 "cells": [
  {
   "cell_type": "code",
   "execution_count": 1,
   "metadata": {
    "collapsed": true
   },
   "outputs": [],
   "source": [
    "import os\n",
    "os.environ[\"CUDA_DEVICE_ORDER\"] = \"PCI_BUS_ID\"  # see issue #152\n",
    "os.environ[\"CUDA_VISIBLE_DEVICES\"] = \"0,1\""
   ]
  },
  {
   "cell_type": "code",
   "execution_count": 2,
   "metadata": {
    "collapsed": true
   },
   "outputs": [],
   "source": [
    "import numpy as np\n",
    "import os\n",
    "import random\n",
    "\n",
    "import tensorflow as tf\n",
    "import matplotlib.pyplot as plt\n",
    "%matplotlib inline\n",
    "from tensorflow.contrib import layers, rnn, seq2seq\n",
    "from tqdm import tqdm"
   ]
  },
  {
   "cell_type": "code",
   "execution_count": 3,
   "metadata": {
    "collapsed": true
   },
   "outputs": [],
   "source": [
    "import fasttext as fs"
   ]
  },
  {
   "cell_type": "code",
   "execution_count": 4,
   "metadata": {
    "collapsed": true
   },
   "outputs": [],
   "source": [
    "from data_generator import NLUDataGenerator\n",
    "from tensorflow.contrib.rnn import LSTMCell, LSTMStateTuple\n",
    "from tensorflow.contrib.legacy_seq2seq import rnn_decoder"
   ]
  },
  {
   "cell_type": "code",
   "execution_count": 5,
   "metadata": {},
   "outputs": [
    {
     "name": "stdout",
     "output_type": "stream",
     "text": [
      "len(diff):  175\n",
      "tmp len:  175\n",
      "before:  711\n",
      "fin:  886\n"
     ]
    }
   ],
   "source": [
    "TimeMajor = False\n",
    "batch_size = 32\n",
    "\n",
    "DataGenDev = NLUDataGenerator('../data/dev/usr_df_final.csv',\n",
    "                           '../data/ontology_dstc2.json',\n",
    "                           '../data/slots.txt', None,\n",
    "                           batch_size = batch_size, time_major=TimeMajor)\n",
    "\n",
    "DataGen = NLUDataGenerator('../data/train/usr_df_final.csv',\n",
    "                           '../data/ontology_dstc2.json',\n",
    "                           '../data/slots.txt', DataGenDev.vocab,\n",
    "                           batch_size = batch_size, time_major=TimeMajor)\n",
    "\n",
    "vocab_size = len(DataGen.vocab)\n",
    "input_embedding_size = 100"
   ]
  },
  {
   "cell_type": "code",
   "execution_count": 6,
   "metadata": {},
   "outputs": [
    {
     "name": "stdout",
     "output_type": "stream",
     "text": [
      "['um', 'thank', 'you', 'goodbye']\n",
      "['B-bye', 'B-bye', 'B-bye', 'B-bye']\n",
      "['B-bye', 'B-bye', 'B-bye', 'B-bye']\n",
      "-----\n",
      "['in', 'the', 'center', 'part', 'of']\n",
      "['O', 'O', 'O', 'O', 'O']\n",
      "['O', 'O', 'O', 'O', 'O']\n",
      "-----\n",
      "['i', 'want', 'to', 'find', 'an', 'dontcare', 'restaurant', 'in', 'the', 'east', 'part', 'of', 'town']\n",
      "['O', 'O', 'O', 'O', 'O', 'B-inform', 'O', 'O', 'O', 'B-inform', 'O', 'O', 'O']\n",
      "['O', 'O', 'O', 'O', 'O', 'B-pricerange', 'O', 'O', 'O', 'B-area', 'O', 'O', 'O']\n",
      "-----\n",
      "['just', 'fuck', 'every', 'time', 'i', 'do', 'it', 'and', 'this', 'moron', 'says', 'that', 'its', 'hungarian', 'sucks']\n",
      "['O', 'O', 'O', 'O', 'O', 'O', 'O', 'O', 'O', 'O', 'O', 'O', 'O', 'B-inform', 'O']\n",
      "['O', 'O', 'O', 'O', 'O', 'O', 'O', 'O', 'O', 'O', 'O', 'O', 'O', 'B-food', 'O']\n",
      "-----\n",
      "['how', 'about', 'european', 'type', 'food']\n",
      "['O', 'O', 'B-inform', 'O', 'O']\n",
      "['O', 'O', 'B-food', 'O', 'O']\n",
      "-----\n",
      "['want', 'something', 'in', 'the', 'centre', 'side', 'of', 'town', 'thats', 'expensive', 'priced']\n",
      "['O', 'O', 'O', 'O', 'B-inform', 'O', 'O', 'O', 'O', 'B-inform', 'O']\n",
      "['O', 'O', 'O', 'O', 'B-area', 'O', 'O', 'O', 'O', 'B-pricerange', 'O']\n",
      "-----\n",
      "['whats', 'the', 'telephone', 'there']\n",
      "['O', 'O', 'B-request', 'O']\n",
      "['O', 'O', 'B-phone', 'O']\n",
      "-----\n",
      "['looking', 'for', 'moderate', 'priced', 'restaurant', 'in', 'the', 'north', 'part', 'of', 'town']\n",
      "['O', 'O', 'B-inform', 'O', 'O', 'O', 'O', 'B-inform', 'O', 'O', 'O']\n",
      "['O', 'O', 'B-pricerange', 'O', 'O', 'O', 'O', 'B-area', 'O', 'O', 'O']\n",
      "-----\n",
      "['i', 'would', 'like', 'a', 'cheap', 'restaurant', 'in', 'the', 'north', 'part', 'of', 'town']\n",
      "['O', 'O', 'O', 'O', 'B-inform', 'O', 'O', 'O', 'B-inform', 'O', 'O', 'O']\n",
      "['O', 'O', 'O', 'O', 'B-pricerange', 'O', 'O', 'O', 'B-area', 'O', 'O', 'O']\n",
      "-----\n",
      "['i', 'need', 'a', 'cheap', 'priced', 'restaurant']\n",
      "['O', 'O', 'O', 'B-inform', 'O', 'O']\n",
      "['O', 'O', 'O', 'B-pricerange', 'O', 'O']\n",
      "-----\n",
      "['i', 'want', 'to', 'find', 'a', 'expensive', 'priced', 'restaurant', 'in', 'the', 'centre', 'part', 'town']\n",
      "['O', 'O', 'O', 'O', 'O', 'B-inform', 'O', 'O', 'O', 'O', 'B-inform', 'O', 'O']\n",
      "['O', 'O', 'O', 'O', 'O', 'B-pricerange', 'O', 'O', 'O', 'O', 'B-area', 'O', 'O']\n",
      "-----\n",
      "['i', 'would', 'like', 'brazilian', 'food', 'in', 'the', 'west', 'part', 'of', 'town']\n",
      "['O', 'O', 'O', 'B-inform', 'O', 'O', 'O', 'B-inform', 'O', 'O', 'O']\n",
      "['O', 'O', 'O', 'B-food', 'O', 'O', 'O', 'B-area', 'O', 'O', 'O']\n",
      "-----\n",
      "['i', 'dont', 'want', 'vietnamese', 'food']\n",
      "['O', 'O', 'O', 'B-negate', 'O']\n",
      "['O', 'O', 'O', 'B-food', 'O']\n",
      "-----\n",
      "['a', 'dontcare', 'restaurant']\n",
      "['O', 'B-inform', 'O']\n",
      "['O', 'B-pricerange', 'O']\n",
      "-----\n",
      "['ooh', 'thank', 'you', 'good', 'bye']\n",
      "['B-bye', 'B-bye', 'B-bye', 'B-bye', 'B-bye']\n",
      "['B-bye', 'B-bye', 'B-bye', 'B-bye', 'B-bye']\n",
      "-----\n",
      "['id', 'like', 'a', 'asian', 'oriental', 'restaurant', 'in', 'the', 'north', 'part', 'of', 'town']\n",
      "['O', 'O', 'O', 'B-inform', 'I-inform', 'O', 'O', 'O', 'B-inform', 'O', 'O', 'O']\n",
      "['O', 'O', 'O', 'B-food', 'I-food', 'O', 'O', 'O', 'B-area', 'O', 'O', 'O']\n",
      "-----\n",
      "['looking', 'for', 'something', 'on', 'the', 'south', 'side']\n",
      "['O', 'O', 'O', 'O', 'O', 'B-inform', 'O']\n",
      "['O', 'O', 'O', 'O', 'O', 'B-area', 'O']\n",
      "-----\n",
      "['tv_', 'im', 'looking', 'for', 'a', 'restaurant', 'in', 'the', 'moderate', 'pri']\n",
      "['O', 'O', 'O', 'O', 'O', 'O', 'O', 'O', 'B-inform', 'O']\n",
      "['O', 'O', 'O', 'O', 'O', 'O', 'O', 'O', 'B-pricerange', 'O']\n",
      "-----\n",
      "['im', 'looking', 'for', 'a', 'restaurant', 'in', 'the', 'west', 'part', 'of', 'town', 'serving']\n",
      "['O', 'O', 'O', 'O', 'O', 'O', 'O', 'B-inform', 'O', 'O', 'O', 'O']\n",
      "['O', 'O', 'O', 'O', 'O', 'O', 'O', 'B-area', 'O', 'O', 'O', 'O']\n",
      "-----\n",
      "['ah', 'yes', 'im', 'looking', 'for', 'barbeque', 'food', 'and', 'i', 'dont', 'care', 'about', 'the', 'pri']\n",
      "['O', 'O', 'O', 'O', 'O', 'B-inform', 'O', 'O', 'O', 'O', 'O', 'O', 'O', 'O']\n",
      "['O', 'O', 'O', 'O', 'O', 'B-food', 'O', 'O', 'O', 'O', 'O', 'O', 'O', 'O']\n",
      "-----\n",
      "['ok', 'how', 'about', 'a', 'restaurant', 'and', 'telephone']\n",
      "['O', 'O', 'O', 'O', 'O', 'O', 'B-request']\n",
      "['O', 'O', 'O', 'O', 'O', 'O', 'B-phone']\n",
      "-----\n",
      "['im', 'looking', 'for', 'an', 'dontcare', 'restaurant', 'and', 'it', 'should', 'be', 'in', 'the', 'north', 'part', 'of', 'town']\n",
      "['O', 'O', 'O', 'O', 'B-inform', 'O', 'O', 'O', 'O', 'O', 'O', 'O', 'B-inform', 'O', 'O', 'O']\n",
      "['O', 'O', 'O', 'O', 'B-pricerange', 'O', 'O', 'O', 'O', 'O', 'O', 'O', 'B-area', 'O', 'O', 'O']\n",
      "-----\n",
      "['are', 'there', 'any', 'that', 'serves', 'lebanese', 'type', 'food']\n",
      "['O', 'O', 'O', 'O', 'O', 'B-inform', 'O', 'O']\n",
      "['O', 'O', 'O', 'O', 'O', 'B-food', 'O', 'O']\n",
      "-----\n",
      "['uh', 'yeah', 'can', 'i', 'find', 'a', 'restaurant', 'in', 'the', 'north', 'part', 'of', 'town', 'serving', 'vietnamese', 'food']\n",
      "['O', 'O', 'O', 'O', 'O', 'O', 'O', 'O', 'O', 'B-affirm', 'O', 'O', 'O', 'O', 'B-inform', 'O']\n",
      "['O', 'O', 'O', 'O', 'O', 'O', 'O', 'O', 'O', 'B-area', 'O', 'O', 'O', 'O', 'B-food', 'O']\n",
      "-----\n",
      "['can', 'i', 'have', 'an', 'modern', 'european', 'restaurant', 'in', 'the']\n",
      "['O', 'O', 'O', 'O', 'B-inform', 'I-inform', 'O', 'O', 'O']\n",
      "['O', 'O', 'O', 'O', 'B-food', 'I-food', 'O', 'O', 'O']\n",
      "-----\n",
      "['want', 'italian', 'food']\n",
      "['O', 'B-inform', 'O']\n",
      "['O', 'B-food', 'O']\n",
      "-----\n",
      "['a', 'telephone', 'please']\n",
      "['O', 'B-request', 'O']\n",
      "['O', 'B-phone', 'O']\n",
      "-----\n",
      "['pan', 'asian', 'food']\n",
      "['O', 'O', 'O']\n",
      "['O', 'O', 'O']\n",
      "-----\n",
      "['what', 'area', 'is', 'it', 'in']\n",
      "['O', 'B-request', 'O', 'O', 'O']\n",
      "['O', 'B-area', 'O', 'O', 'O']\n",
      "-----\n",
      "['give', 'me', 'something', 'else']\n",
      "['B-reqalts', 'B-reqalts', 'B-reqalts', 'B-reqalts']\n",
      "['B-reqalts', 'B-reqalts', 'B-reqalts', 'B-reqalts']\n",
      "-----\n",
      "['awesome', 'thank', 'you', 'good', 'bye']\n",
      "['B-bye', 'B-bye', 'B-bye', 'B-bye', 'B-bye']\n",
      "['B-bye', 'B-bye', 'B-bye', 'B-bye', 'B-bye']\n",
      "-----\n",
      "['what', 'type', 'of', 'food', 'is', 'that']\n",
      "['O', 'O', 'O', 'B-request', 'O', 'O']\n",
      "['O', 'O', 'O', 'B-food', 'O', 'O']\n",
      "-----\n"
     ]
    }
   ],
   "source": [
    "x, m1, m2, _lens = next(DataGen)\n",
    "for x_, m1_, m2_ in zip(x, m1, m2):\n",
    "    print(DataGen.decode_sentence(x_))\n",
    "    print(DataGen.decode_acts(m2_))\n",
    "    print(DataGen.decode_slots(m1_))\n",
    "    print(\"-----\")"
   ]
  },
  {
   "cell_type": "code",
   "execution_count": 7,
   "metadata": {},
   "outputs": [
    {
     "name": "stdout",
     "output_type": "stream",
     "text": [
      "slots_number:  26\n",
      "acts_number:  18\n",
      "vocab_size:  886\n"
     ]
    }
   ],
   "source": [
    "slots_number = len(DataGen.slots_encode)\n",
    "acts_number = len(DataGen.acts_encode)\n",
    "print(\"slots_number: \", slots_number)\n",
    "print(\"acts_number: \", acts_number)\n",
    "print(\"vocab_size: \", DataGen.vocab_size)"
   ]
  },
  {
   "cell_type": "code",
   "execution_count": 8,
   "metadata": {},
   "outputs": [],
   "source": [
    "class Model:\n",
    "    \n",
    "    def __init__(self, train = True, fs_model = None, vocab_size = 886, slots_number = 26, acts_number = 18,\n",
    "                 batch_size = 32, input_embedding_size = 100, lstm_size = 256, PAD=0):\n",
    "        tf.reset_default_graph()\n",
    "        \n",
    "        def make_embed_mtx(fs_model):\n",
    "            embedd = np.zeros((vocab_size, input_embedding_size), dtype=np.float32)\n",
    "            for k, v in DataGen.vocab.items():\n",
    "                embedd[v] = fs_model[k]\n",
    "            embedd[0] = [0]*100\n",
    "            return embedd\n",
    "        \n",
    "        self.inputs = tf.placeholder(shape=(batch_size, None), dtype=tf.int32, name='inputs')\n",
    "        self.mask1 = tf.placeholder(shape=(batch_size, None), dtype=tf.int32, name='tar_mask1')\n",
    "        self.mask2 = tf.placeholder(shape=(batch_size, None), dtype=tf.int32, name='tar_mask2')\n",
    "        self.lens = tf.placeholder(shape=(batch_size,), dtype=tf.int32, name='lens')\n",
    "\n",
    "        if train:\n",
    "            embedd = make_embed_mtx(fs_model)\n",
    "            embeddings = tf.get_variable('embeddings', shape=embedd.shape, initializer=tf.constant_initializer(embedd), dtype=tf.float32, trainable=False)\n",
    "            self.encoded = tf.nn.embedding_lookup(embeddings, self.inputs, name='encoded_train')\n",
    "        else:\n",
    "            self.encoded = tf.placeholder(shape=(batch_size, None, input_embedding_size), dtype=tf.float32, name='inference')\n",
    "\n",
    "        cell = LSTMCell(lstm_size)\n",
    "        outputs, _ = tf.nn.dynamic_rnn(cell, self.encoded, sequence_length=self.lens, dtype=tf.float32)\n",
    "        seq_mask = tf.to_float(tf.greater(self.inputs, PAD))\n",
    "\n",
    "        # regularization:\n",
    "        #\n",
    "        # with tf.variable_scope('lm-reg'):\n",
    "        #     first_words = tf.slice(inputs, [0, 1], [-1, -1])\n",
    "        #     target = tf.pad(first_words, [[0, 0], [0, 1]])\n",
    "        #     nwp = layers.fully_connected(outputs, vocab_size, activation_fn=None)\n",
    "        #     lm_loss = seq2seq.sequence_loss(nwp, target, seq_mask)\n",
    "\n",
    "        with tf.variable_scope('mask-pred'):\n",
    "            m1p = layers.fully_connected(outputs, slots_number, activation_fn=None)\n",
    "            m2p = layers.fully_connected(outputs, acts_number, activation_fn=None)\n",
    "\n",
    "            self.prediction_m1 = tf.argmax(tf.nn.softmax(m1p), axis = 2, name='prediction_m1')\n",
    "            self.prediction_m2 = tf.argmax(tf.nn.softmax(m2p), axis = 2, name='prediction_m2')\n",
    "\n",
    "            self.m1_loss = tf.reduce_sum(seq2seq.sequence_loss(m1p, self.mask1, seq_mask, average_across_batch=False, average_across_timesteps=False), name='m1_loss')\n",
    "            self.m2_loss = tf.reduce_sum(seq2seq.sequence_loss(m2p, self.mask2, seq_mask, average_across_batch=False, average_across_timesteps=False), name='m2_loss')\n",
    "\n",
    "        # alternative loss:\n",
    "        #     log_likelihood_1, transition_params_1 = tf.contrib.crf.crf_log_likelihood(m1p, mask1, lens)\n",
    "        #     log_likelihood_2, transition_params_2 = tf.contrib.crf.crf_log_likelihood(m2p, mask2, lens)\n",
    "\n",
    "        lr = tf.Variable(0.0001, trainable=False, name='lr')\n",
    "        opt = tf.train.GradientDescentOptimizer(lr)\n",
    "        self.train_op = opt.minimize(self.m1_loss + self.m2_loss, name='train_op')"
   ]
  },
  {
   "cell_type": "markdown",
   "metadata": {},
   "source": [
    "## Train"
   ]
  },
  {
   "cell_type": "code",
   "execution_count": 9,
   "metadata": {},
   "outputs": [
    {
     "name": "stderr",
     "output_type": "stream",
     "text": [
      "680.369 633.923:   0%|          | 1/30000 [00:00<4:07:23,  2.02it/s]"
     ]
    },
    {
     "name": "stdout",
     "output_type": "stream",
     "text": [
      "step:  0\n",
      "CV_loss_slots_1:  701.7\n",
      "CV_loss_acts_2:  652.398\n",
      "INPUT:  ['the', 'price', 'code']\n",
      "m2_tar:  ['O', 'B-request', 'I-request']\n",
      "m2_pred:  ['I-confirm', 'I-confirm', 'I-confirm', 'O', 'O', 'O', 'O', 'O', 'O', 'O', 'O', 'O', 'O', 'O']\n",
      "-----\n",
      "m1_tar:  ['O', 'B-pricerange', 'I-pricerange']\n",
      "m1_pred:  ['O', 'O', 'O', 'O', 'O', 'O', 'O', 'O', 'O', 'O', 'O', 'O', 'O', 'O']\n",
      "==========================\n",
      "INPUT:  ['no', 'im', 'looking', 'for', 'pan', 'asian', 'food']\n",
      "m2_tar:  ['I-reqalts', 'I-reqalts', 'I-reqalts', 'I-reqalts', 'I-reqalts', 'I-reqalts', 'I-reqalts']\n",
      "m2_pred:  ['B-request', 'B-request', 'B-reqalts', 'B-reqalts', 'B-reqalts', 'B-request', 'B-request', 'O', 'O', 'O', 'O', 'O', 'O', 'O']\n",
      "-----\n",
      "m1_tar:  ['I-reqalts', 'I-reqalts', 'I-reqalts', 'I-reqalts', 'I-reqalts', 'I-reqalts', 'I-reqalts']\n",
      "m1_pred:  ['I-negate', 'I-negate', 'I-negate', 'I-negate', 'I-negate', 'I-negate', 'I-negate', 'O', 'O', 'O', 'O', 'O', 'O', 'O']\n",
      "==========================\n",
      "INPUT:  ['is', 'it', 'in', 'the', 'centre', 'of', 'town']\n",
      "m2_tar:  ['O', 'O', 'O', 'O', 'I-hello', 'O', 'O']\n",
      "m2_pred:  ['I-bye', 'I-confirm', 'I-confirm', 'I-confirm', 'I-confirm', 'I-confirm', 'I-confirm', 'O', 'O', 'O', 'O', 'O', 'O', 'O']\n",
      "-----\n",
      "m1_tar:  ['O', 'O', 'O', 'O', 'B-area', 'O', 'O']\n",
      "m1_pred:  ['I-reqalts', 'I-hello', 'I-negate', 'I-negate', 'I-negate', 'I-negate', 'I-negate', 'O', 'O', 'O', 'O', 'O', 'O', 'O']\n",
      "==========================\n"
     ]
    },
    {
     "name": "stderr",
     "output_type": "stream",
     "text": [
      "154.311 128.99:   3%|▎         | 1004/30000 [00:26<15:05, 32.02it/s] "
     ]
    },
    {
     "name": "stdout",
     "output_type": "stream",
     "text": [
      "step:  1000\n",
      "CV_loss_slots_1:  164.516\n",
      "CV_loss_acts_2:  139.435\n",
      "INPUT:  ['in', 'the', 'dontcare', 'price']\n",
      "m2_tar:  ['O', 'O', 'B-inform', 'O']\n",
      "m2_pred:  ['O', 'O', 'O', 'O', 'O', 'O', 'O', 'O', 'O', 'O', 'O', 'O', 'O', 'O', 'O']\n",
      "-----\n",
      "m1_tar:  ['O', 'O', 'B-pricerange', 'O']\n",
      "m1_pred:  ['O', 'O', 'O', 'O', 'O', 'O', 'O', 'O', 'O', 'O', 'O', 'O', 'O', 'O', 'O']\n",
      "==========================\n",
      "INPUT:  ['addrss', 'and', 'phone', 'number']\n",
      "m2_tar:  ['B-request', 'O', 'B-request', 'I-request']\n",
      "m2_pred:  ['O', 'O', 'O', 'B-request', 'O', 'O', 'O', 'O', 'O', 'O', 'O', 'O', 'O', 'O', 'O']\n",
      "-----\n",
      "m1_tar:  ['B-addr', 'O', 'B-phone', 'I-phone']\n",
      "m1_pred:  ['O', 'O', 'O', 'O', 'O', 'O', 'O', 'O', 'O', 'O', 'O', 'O', 'O', 'O', 'O']\n",
      "==========================\n",
      "INPUT:  ['how', 'bout', 'dontcare', 'food']\n",
      "m2_tar:  ['O', 'O', 'B-inform', 'O']\n",
      "m2_pred:  ['O', 'O', 'O', 'O', 'O', 'O', 'O', 'O', 'O', 'O', 'O', 'O', 'O', 'O', 'O']\n",
      "-----\n",
      "m1_tar:  ['O', 'O', 'B-food', 'O']\n",
      "m1_pred:  ['O', 'O', 'O', 'O', 'O', 'O', 'O', 'O', 'O', 'O', 'O', 'O', 'O', 'O', 'O']\n",
      "==========================\n"
     ]
    },
    {
     "name": "stderr",
     "output_type": "stream",
     "text": [
      "162.609 140.55:   7%|▋         | 2007/30000 [00:55<13:34, 34.36it/s] "
     ]
    },
    {
     "name": "stdout",
     "output_type": "stream",
     "text": [
      "step:  2000\n",
      "CV_loss_slots_1:  153.358\n",
      "CV_loss_acts_2:  132.909\n",
      "INPUT:  ['how', 'about', 'a', 'cheap', 'priced']\n",
      "m2_tar:  ['O', 'O', 'O', 'B-inform', 'O']\n",
      "m2_pred:  ['O', 'O', 'O', 'B-inform', 'O', 'O', 'O', 'O', 'O', 'O', 'O', 'O', 'O', 'O', 'O', 'O']\n",
      "-----\n",
      "m1_tar:  ['O', 'O', 'O', 'B-pricerange', 'O']\n",
      "m1_pred:  ['O', 'O', 'O', 'B-pricerange', 'O', 'O', 'O', 'O', 'O', 'O', 'O', 'O', 'O', 'O', 'O', 'O']\n",
      "==========================\n",
      "INPUT:  ['may', 'i', 'have', 'the', 'phone', 'number']\n",
      "m2_tar:  ['O', 'O', 'O', 'O', 'B-request', 'I-request']\n",
      "m2_pred:  ['O', 'O', 'O', 'O', 'B-request', 'B-request', 'O', 'O', 'O', 'O', 'O', 'O', 'O', 'O', 'O', 'O']\n",
      "-----\n",
      "m1_tar:  ['O', 'O', 'O', 'O', 'B-phone', 'I-phone']\n",
      "m1_pred:  ['O', 'O', 'O', 'O', 'B-phone', 'B-phone', 'O', 'O', 'O', 'O', 'O', 'O', 'O', 'O', 'O', 'O']\n",
      "==========================\n",
      "INPUT:  ['modern', 'european', 'food', 'type']\n",
      "m2_tar:  ['B-inform', 'I-inform', 'O', 'O']\n",
      "m2_pred:  ['O', 'O', 'O', 'O', 'O', 'O', 'O', 'O', 'O', 'O', 'O', 'O', 'O', 'O', 'O', 'O']\n",
      "-----\n",
      "m1_tar:  ['B-food', 'I-food', 'O', 'O']\n",
      "m1_pred:  ['O', 'O', 'O', 'O', 'O', 'O', 'O', 'O', 'O', 'O', 'O', 'O', 'O', 'O', 'O', 'O']\n",
      "==========================\n"
     ]
    },
    {
     "name": "stderr",
     "output_type": "stream",
     "text": [
      "157.345 124.584:  10%|█         | 3006/30000 [01:21<11:54, 37.81it/s]"
     ]
    },
    {
     "name": "stdout",
     "output_type": "stream",
     "text": [
      "step:  3000\n",
      "CV_loss_slots_1:  121.788\n",
      "CV_loss_acts_2:  95.0013\n",
      "INPUT:  ['serves', 'of', 'the', 'venue']\n",
      "m2_tar:  ['B-request', 'O', 'O', 'O']\n",
      "m2_pred:  ['O', 'O', 'O', 'B-request', 'O', 'O', 'O', 'O', 'O', 'O', 'O', 'O', 'O', 'O', 'O']\n",
      "-----\n",
      "m1_tar:  ['B-food', 'O', 'O', 'O']\n",
      "m1_pred:  ['O', 'O', 'O', 'O', 'O', 'O', 'O', 'O', 'O', 'O', 'O', 'O', 'O', 'O', 'O']\n",
      "==========================\n",
      "INPUT:  ['alright', 'can', 'i', 'get', 'canapes', 'food']\n",
      "m2_tar:  ['O', 'O', 'O', 'O', 'B-inform', 'O']\n",
      "m2_pred:  ['O', 'O', 'O', 'O', 'O', 'O', 'O', 'O', 'O', 'O', 'O', 'O', 'O', 'O', 'O']\n",
      "-----\n",
      "m1_tar:  ['O', 'O', 'O', 'O', 'B-food', 'O']\n",
      "m1_pred:  ['O', 'O', 'O', 'O', 'O', 'O', 'O', 'O', 'O', 'O', 'O', 'O', 'O', 'O', 'O']\n",
      "==========================\n",
      "INPUT:  ['is', 'it', 'in', 'the', 'dontcare', 'of', 'town']\n",
      "m2_tar:  ['O', 'O', 'O', 'O', 'I-hello', 'O', 'O']\n",
      "m2_pred:  ['O', 'O', 'O', 'O', 'B-inform', 'O', 'O', 'O', 'O', 'O', 'O', 'O', 'O', 'O', 'O']\n",
      "-----\n",
      "m1_tar:  ['O', 'O', 'O', 'O', 'B-area', 'O', 'O']\n",
      "m1_pred:  ['O', 'O', 'O', 'O', 'B-area', 'O', 'O', 'O', 'O', 'O', 'O', 'O', 'O', 'O', 'O']\n",
      "==========================\n"
     ]
    },
    {
     "name": "stderr",
     "output_type": "stream",
     "text": [
      "86.2476 66.4135:  13%|█▎        | 4005/30000 [01:47<11:24, 38.00it/s]"
     ]
    },
    {
     "name": "stdout",
     "output_type": "stream",
     "text": [
      "step:  4000\n",
      "CV_loss_slots_1:  92.0846\n",
      "CV_loss_acts_2:  91.1405\n",
      "INPUT:  ['alright', 'whats', 'their', 'addrss']\n",
      "m2_tar:  ['O', 'O', 'O', 'B-request']\n",
      "m2_pred:  ['O', 'O', 'O', 'B-request', 'O', 'O', 'O', 'O', 'O', 'O', 'O', 'O', 'O', 'O', 'O', 'O', 'O', 'O', 'O', 'O', 'O', 'O']\n",
      "-----\n",
      "m1_tar:  ['O', 'O', 'O', 'B-addr']\n",
      "m1_pred:  ['O', 'O', 'O', 'B-addr', 'O', 'O', 'O', 'O', 'O', 'O', 'O', 'O', 'O', 'O', 'O', 'O', 'O', 'O', 'O', 'O', 'O', 'O']\n",
      "==========================\n",
      "INPUT:  ['barbecue', 'food']\n",
      "m2_tar:  ['O', 'O']\n",
      "m2_pred:  ['O', 'O', 'O', 'O', 'O', 'O', 'O', 'O', 'O', 'O', 'O', 'O', 'O', 'O', 'O', 'O', 'O', 'O', 'O', 'O', 'O', 'O']\n",
      "-----\n",
      "m1_tar:  ['O', 'O']\n",
      "m1_pred:  ['O', 'O', 'O', 'O', 'O', 'O', 'O', 'O', 'O', 'O', 'O', 'O', 'O', 'O', 'O', 'O', 'O', 'O', 'O', 'O', 'O', 'O']\n",
      "==========================\n",
      "INPUT:  ['could', 'i', 'get', 'the', 'phone', 'number', 'and', 'zip', 'code']\n",
      "m2_tar:  ['O', 'O', 'O', 'O', 'B-request', 'I-request', 'O', 'B-request', 'I-request']\n",
      "m2_pred:  ['O', 'O', 'O', 'O', 'B-request', 'B-request', 'O', 'B-request', 'I-request', 'O', 'O', 'O', 'O', 'O', 'O', 'O', 'O', 'O', 'O', 'O', 'O', 'O']\n",
      "-----\n",
      "m1_tar:  ['O', 'O', 'O', 'O', 'B-phone', 'I-phone', 'O', 'B-postcode', 'I-postcode']\n",
      "m1_pred:  ['O', 'O', 'O', 'O', 'B-phone', 'B-phone', 'O', 'B-postcode', 'I-postcode', 'O', 'O', 'O', 'O', 'O', 'O', 'O', 'O', 'O', 'O', 'O', 'O', 'O']\n",
      "==========================\n"
     ]
    },
    {
     "name": "stderr",
     "output_type": "stream",
     "text": [
      "124.284 119.501:  17%|█▋        | 5007/30000 [02:13<11:45, 35.41it/s]"
     ]
    },
    {
     "name": "stdout",
     "output_type": "stream",
     "text": [
      "step:  5000\n",
      "CV_loss_slots_1:  158.817\n",
      "CV_loss_acts_2:  151.368\n",
      "INPUT:  ['telephone']\n",
      "m2_tar:  ['B-request']\n",
      "m2_pred:  ['O', 'O', 'O', 'O', 'O', 'O', 'O', 'O', 'O', 'O', 'O', 'O']\n",
      "-----\n",
      "m1_tar:  ['B-phone']\n",
      "m1_pred:  ['O', 'O', 'O', 'O', 'O', 'O', 'O', 'O', 'O', 'O', 'O', 'O']\n",
      "==========================\n",
      "INPUT:  ['can', 'i', 'have', 'the', 'addrss', 'of', 'the', 'venue']\n",
      "m2_tar:  ['O', 'O', 'O', 'O', 'B-request', 'O', 'O', 'O']\n",
      "m2_pred:  ['O', 'O', 'O', 'O', 'B-request', 'O', 'O', 'B-request', 'O', 'O', 'O', 'O']\n",
      "-----\n",
      "m1_tar:  ['O', 'O', 'O', 'O', 'B-addr', 'O', 'O', 'O']\n",
      "m1_pred:  ['O', 'O', 'O', 'O', 'B-addr', 'O', 'O', 'I-pricerange', 'O', 'O', 'O', 'O']\n",
      "==========================\n",
      "INPUT:  ['is', 'there', 'one', 'that', 'serves', 'chinese', 'food']\n",
      "m2_tar:  ['O', 'O', 'O', 'O', 'O', 'B-inform', 'O']\n",
      "m2_pred:  ['O', 'O', 'O', 'O', 'O', 'B-inform', 'O', 'O', 'O', 'O', 'O', 'O']\n",
      "-----\n",
      "m1_tar:  ['O', 'O', 'O', 'O', 'O', 'B-food', 'O']\n",
      "m1_pred:  ['O', 'O', 'O', 'O', 'O', 'B-food', 'O', 'O', 'O', 'O', 'O', 'O']\n",
      "==========================\n"
     ]
    },
    {
     "name": "stderr",
     "output_type": "stream",
     "text": [
      "70.8851 68.3523:  20%|██        | 6005/30000 [02:40<11:55, 33.53it/s]"
     ]
    },
    {
     "name": "stdout",
     "output_type": "stream",
     "text": [
      "step:  6000\n",
      "CV_loss_slots_1:  103.479\n",
      "CV_loss_acts_2:  122.547\n",
      "INPUT:  ['i', 'do', 'not', 'care']\n",
      "m2_tar:  ['O', 'O', 'O', 'O']\n",
      "m2_pred:  ['O', 'O', 'O', 'O', 'O', 'O', 'O', 'O', 'O', 'O', 'O', 'O', 'O', 'O', 'O']\n",
      "-----\n",
      "m1_tar:  ['O', 'O', 'O', 'O']\n",
      "m1_pred:  ['O', 'O', 'O', 'O', 'O', 'O', 'O', 'O', 'O', 'O', 'O', 'O', 'O', 'O', 'O']\n",
      "==========================\n",
      "INPUT:  ['no', 'thank', 'you']\n",
      "m2_tar:  ['I-reqalts', 'I-reqalts', 'I-reqalts']\n",
      "m2_pred:  ['O', 'B-bye', 'B-bye', 'O', 'O', 'O', 'O', 'O', 'O', 'O', 'O', 'O', 'O', 'O', 'O']\n",
      "-----\n",
      "m1_tar:  ['I-reqalts', 'I-reqalts', 'I-reqalts']\n",
      "m1_pred:  ['O', 'B-bye', 'B-bye', 'O', 'O', 'O', 'O', 'O', 'O', 'O', 'O', 'O', 'O', 'O', 'O']\n",
      "==========================\n",
      "INPUT:  ['whats', 'their', 'price', 'range']\n",
      "m2_tar:  ['O', 'O', 'B-request', 'I-request']\n",
      "m2_pred:  ['O', 'O', 'O', 'B-request', 'O', 'O', 'O', 'O', 'O', 'O', 'O', 'O', 'O', 'O', 'O']\n",
      "-----\n",
      "m1_tar:  ['O', 'O', 'B-pricerange', 'I-pricerange']\n",
      "m1_pred:  ['O', 'O', 'O', 'B-pricerange', 'O', 'O', 'O', 'O', 'O', 'O', 'O', 'O', 'O', 'O', 'O']\n",
      "==========================\n"
     ]
    },
    {
     "name": "stderr",
     "output_type": "stream",
     "text": [
      "53.0718 57.5993:  23%|██▎       | 7005/30000 [03:07<11:17, 33.93it/s]"
     ]
    },
    {
     "name": "stdout",
     "output_type": "stream",
     "text": [
      "step:  7000\n",
      "CV_loss_slots_1:  63.3\n",
      "CV_loss_acts_2:  77.0811\n",
      "INPUT:  ['no', 'cost']\n",
      "m2_tar:  ['O', 'B-request']\n",
      "m2_pred:  ['O', 'B-reqalts', 'O', 'O', 'O', 'O', 'O', 'O', 'O', 'O', 'O', 'O', 'O']\n",
      "-----\n",
      "m1_tar:  ['O', 'B-pricerange']\n",
      "m1_pred:  ['O', 'B-reqalts', 'O', 'O', 'O', 'O', 'O', 'O', 'O', 'O', 'O', 'O', 'O']\n",
      "==========================\n",
      "INPUT:  ['expensive', 'priced', 'restaurant', 'in', 'the', 'centre', 'part', 'of', 'town']\n",
      "m2_tar:  ['B-inform', 'O', 'O', 'O', 'O', 'B-inform', 'O', 'O', 'O']\n",
      "m2_pred:  ['O', 'O', 'O', 'O', 'O', 'B-inform', 'O', 'O', 'O', 'O', 'O', 'O', 'O']\n",
      "-----\n",
      "m1_tar:  ['B-pricerange', 'O', 'O', 'O', 'O', 'B-area', 'O', 'O', 'O']\n",
      "m1_pred:  ['O', 'O', 'O', 'O', 'O', 'B-area', 'O', 'O', 'O', 'O', 'O', 'O', 'O']\n",
      "==========================\n",
      "INPUT:  ['what', 'about', 'a', 'moderate', 'priced', 'restaurant']\n",
      "m2_tar:  ['O', 'O', 'O', 'B-inform', 'O', 'O']\n",
      "m2_pred:  ['O', 'O', 'O', 'B-inform', 'O', 'O', 'O', 'O', 'O', 'O', 'O', 'O', 'O']\n",
      "-----\n",
      "m1_tar:  ['O', 'O', 'O', 'B-pricerange', 'O', 'O']\n",
      "m1_pred:  ['O', 'O', 'O', 'B-pricerange', 'O', 'O', 'O', 'O', 'O', 'O', 'O', 'O', 'O']\n",
      "==========================\n"
     ]
    },
    {
     "name": "stderr",
     "output_type": "stream",
     "text": [
      "72.4102 68.1441:  27%|██▋       | 8005/30000 [03:35<10:52, 33.70it/s]"
     ]
    },
    {
     "name": "stdout",
     "output_type": "stream",
     "text": [
      "step:  8000\n",
      "CV_loss_slots_1:  80.5593\n",
      "CV_loss_acts_2:  80.3535\n",
      "INPUT:  ['im', 'looking', 'for', 'a', 'restaurant', 'in', 'the', 'center']\n",
      "m2_tar:  ['O', 'O', 'O', 'O', 'O', 'O', 'O', 'O']\n",
      "m2_pred:  ['O', 'O', 'O', 'O', 'O', 'O', 'O', 'O', 'O', 'O', 'O', 'O', 'O', 'O', 'O', 'O']\n",
      "-----\n",
      "m1_tar:  ['O', 'O', 'O', 'O', 'O', 'O', 'O', 'O']\n",
      "m1_pred:  ['O', 'O', 'O', 'O', 'O', 'O', 'O', 'O', 'O', 'O', 'O', 'O', 'O', 'O', 'O', 'O']\n",
      "==========================\n",
      "INPUT:  ['what', 'is', 'the', 'part', 'of', 'town', 'of', 'the', 'venue']\n",
      "m2_tar:  ['O', 'O', 'O', 'B-request', 'I-request', 'I-request', 'O', 'O', 'O']\n",
      "m2_pred:  ['O', 'O', 'O', 'O', 'I-request', 'I-request', 'O', 'O', 'O', 'O', 'O', 'O', 'O', 'O', 'O', 'O']\n",
      "-----\n",
      "m1_tar:  ['O', 'O', 'O', 'B-area', 'I-area', 'I-area', 'O', 'O', 'O']\n",
      "m1_pred:  ['O', 'O', 'O', 'B-area', 'O', 'I-area', 'O', 'O', 'O', 'O', 'O', 'O', 'O', 'O', 'O', 'O']\n",
      "==========================\n",
      "INPUT:  ['what', 'kind', 'of', 'food', 'does', 'it', 'serve']\n",
      "m2_tar:  ['O', 'O', 'O', 'B-request', 'O', 'O', 'O']\n",
      "m2_pred:  ['O', 'O', 'O', 'B-request', 'O', 'O', 'O', 'O', 'O', 'O', 'O', 'O', 'O', 'O', 'O', 'O']\n",
      "-----\n",
      "m1_tar:  ['O', 'O', 'O', 'B-food', 'O', 'O', 'O']\n",
      "m1_pred:  ['O', 'O', 'O', 'B-food', 'O', 'O', 'O', 'O', 'O', 'O', 'O', 'O', 'O', 'O', 'O', 'O']\n",
      "==========================\n"
     ]
    },
    {
     "name": "stderr",
     "output_type": "stream",
     "text": [
      "73.5225 73.7444:  30%|███       | 9005/30000 [04:02<09:33, 36.61it/s]"
     ]
    },
    {
     "name": "stdout",
     "output_type": "stream",
     "text": [
      "step:  9000\n",
      "CV_loss_slots_1:  61.1029\n",
      "CV_loss_acts_2:  70.5331\n",
      "INPUT:  ['can', 'i', 'have', 'the', 'phone', 'and', 'the', 'location']\n",
      "m2_tar:  ['O', 'O', 'O', 'O', 'B-request', 'O', 'O', 'B-request']\n",
      "m2_pred:  ['O', 'O', 'O', 'O', 'B-request', 'O', 'O', 'B-request', 'O', 'O', 'O', 'O', 'O', 'O', 'O', 'O']\n",
      "-----\n",
      "m1_tar:  ['O', 'O', 'O', 'O', 'B-phone', 'O', 'O', 'B-area']\n",
      "m1_pred:  ['O', 'O', 'O', 'O', 'B-phone', 'O', 'O', 'I-pricerange', 'O', 'O', 'O', 'O', 'O', 'O', 'O', 'O']\n",
      "==========================\n",
      "INPUT:  ['i', 'need', 'an', 'moderate', 'restaurant', 'in', 'the', 'dontcare', 'part', 'of', 'town']\n",
      "m2_tar:  ['O', 'O', 'O', 'B-inform', 'O', 'O', 'O', 'B-inform', 'O', 'O', 'O']\n",
      "m2_pred:  ['O', 'O', 'O', 'B-inform', 'O', 'O', 'O', 'B-inform', 'O', 'O', 'O', 'O', 'O', 'O', 'O', 'O']\n",
      "-----\n",
      "m1_tar:  ['O', 'O', 'O', 'B-pricerange', 'O', 'O', 'O', 'B-area', 'O', 'O', 'O']\n",
      "m1_pred:  ['O', 'O', 'O', 'B-pricerange', 'O', 'O', 'O', 'B-area', 'O', 'O', 'O', 'O', 'O', 'O', 'O', 'O']\n",
      "==========================\n",
      "INPUT:  ['ok', 'is', 'there', 'any', 'restaurant', 'that', 'serves', 'creative', 'food', 'in', 'the', 'west', 'part', 'of', 'town']\n",
      "m2_tar:  ['O', 'O', 'O', 'O', 'O', 'O', 'O', 'B-inform', 'O', 'O', 'O', 'B-inform', 'O', 'O', 'O']\n",
      "m2_pred:  ['O', 'O', 'O', 'O', 'O', 'O', 'O', 'B-inform', 'O', 'O', 'O', 'B-inform', 'O', 'O', 'O', 'O']\n",
      "-----\n",
      "m1_tar:  ['O', 'O', 'O', 'O', 'O', 'O', 'O', 'B-food', 'O', 'O', 'O', 'B-area', 'O', 'O', 'O']\n",
      "m1_pred:  ['O', 'O', 'O', 'O', 'O', 'O', 'O', 'B-food', 'O', 'O', 'O', 'B-area', 'O', 'O', 'O', 'O']\n",
      "==========================\n"
     ]
    },
    {
     "name": "stderr",
     "output_type": "stream",
     "text": [
      "77.3991 68.737:  33%|███▎      | 10007/30000 [04:28<09:25, 35.34it/s] "
     ]
    },
    {
     "name": "stdout",
     "output_type": "stream",
     "text": [
      "step:  10000\n",
      "CV_loss_slots_1:  244.944\n",
      "CV_loss_acts_2:  292.918\n",
      "INPUT:  ['bye']\n",
      "m2_tar:  ['B-bye']\n",
      "m2_pred:  ['B-bye', 'O', 'O', 'O', 'O', 'O', 'O', 'O', 'O', 'O', 'O', 'O', 'O']\n",
      "-----\n",
      "m1_tar:  ['B-bye']\n",
      "m1_pred:  ['B-bye', 'O', 'O', 'O', 'O', 'O', 'O', 'O', 'O', 'O', 'O', 'O', 'O']\n",
      "==========================\n",
      "INPUT:  ['what', 'is', 'available']\n",
      "m2_tar:  ['B-reqalts', 'B-reqalts', 'B-reqalts']\n",
      "m2_pred:  ['O', 'O', 'O', 'O', 'O', 'O', 'O', 'O', 'O', 'O', 'O', 'O', 'O']\n",
      "-----\n",
      "m1_tar:  ['B-reqalts', 'B-reqalts', 'B-reqalts']\n",
      "m1_pred:  ['O', 'O', 'O', 'O', 'O', 'O', 'O', 'O', 'O', 'O', 'O', 'O', 'O']\n",
      "==========================\n",
      "INPUT:  ['i', 'am', 'looking', 'for', 'kitalian', 'food']\n",
      "m2_tar:  ['O', 'O', 'O', 'O', 'O', 'O']\n",
      "m2_pred:  ['O', 'O', 'O', 'O', 'B-inform', 'O', 'O', 'O', 'O', 'O', 'O', 'O', 'O']\n",
      "-----\n",
      "m1_tar:  ['O', 'O', 'O', 'O', 'O', 'O']\n",
      "m1_pred:  ['O', 'O', 'O', 'O', 'B-food', 'O', 'O', 'O', 'O', 'O', 'O', 'O', 'O']\n",
      "==========================\n"
     ]
    },
    {
     "name": "stderr",
     "output_type": "stream",
     "text": [
      "60.2437 58.8433:  37%|███▋      | 11007/30000 [04:55<08:53, 35.62it/s]"
     ]
    },
    {
     "name": "stdout",
     "output_type": "stream",
     "text": [
      "step:  11000\n",
      "CV_loss_slots_1:  39.2497\n",
      "CV_loss_acts_2:  72.2803\n",
      "INPUT:  ['swedish', 'food', 'west', 'part', 'of', 'town']\n",
      "m2_tar:  ['B-inform', 'O', 'B-inform', 'O', 'O', 'O']\n",
      "m2_pred:  ['O', 'O', 'O', 'O', 'O', 'O', 'O', 'O', 'O', 'O', 'O', 'O', 'O', 'O', 'O']\n",
      "-----\n",
      "m1_tar:  ['B-food', 'O', 'B-area', 'O', 'O', 'O']\n",
      "m1_pred:  ['O', 'O', 'O', 'O', 'O', 'O', 'O', 'O', 'O', 'O', 'O', 'O', 'O', 'O', 'O']\n",
      "==========================\n",
      "INPUT:  ['im', 'looking', 'for', 'a', 'austrian', 'food', 'restaurant']\n",
      "m2_tar:  ['O', 'O', 'O', 'O', 'B-inform', 'O', 'O']\n",
      "m2_pred:  ['O', 'O', 'O', 'O', 'B-inform', 'O', 'O', 'O', 'O', 'O', 'O', 'O', 'O', 'O', 'O']\n",
      "-----\n",
      "m1_tar:  ['O', 'O', 'O', 'O', 'B-food', 'O', 'O']\n",
      "m1_pred:  ['O', 'O', 'O', 'O', 'B-food', 'O', 'O', 'O', 'O', 'O', 'O', 'O', 'O', 'O', 'O']\n",
      "==========================\n",
      "INPUT:  ['alright', 'can', 'i', 'get', 'tuscan', 'food']\n",
      "m2_tar:  ['O', 'O', 'O', 'O', 'B-inform', 'O']\n",
      "m2_pred:  ['O', 'O', 'O', 'O', 'O', 'O', 'O', 'O', 'O', 'O', 'O', 'O', 'O', 'O', 'O']\n",
      "-----\n",
      "m1_tar:  ['O', 'O', 'O', 'O', 'B-food', 'O']\n",
      "m1_pred:  ['O', 'O', 'O', 'O', 'O', 'O', 'O', 'O', 'O', 'O', 'O', 'O', 'O', 'O', 'O']\n",
      "==========================\n"
     ]
    },
    {
     "name": "stderr",
     "output_type": "stream",
     "text": [
      "53.8593 58.5208:  40%|████      | 12007/30000 [05:21<08:34, 34.99it/s]"
     ]
    },
    {
     "name": "stdout",
     "output_type": "stream",
     "text": [
      "step:  12000\n",
      "CV_loss_slots_1:  71.855\n",
      "CV_loss_acts_2:  95.1445\n",
      "INPUT:  ['no', 'well', 'how', 'about', 'international']\n",
      "m2_tar:  ['O', 'O', 'O', 'O', 'I-reqalts']\n",
      "m2_pred:  ['O', 'O', 'O', 'O', 'B-negate', 'O', 'O', 'O', 'O', 'O', 'O', 'O', 'O']\n",
      "-----\n",
      "m1_tar:  ['O', 'O', 'O', 'O', 'B-food']\n",
      "m1_pred:  ['O', 'O', 'O', 'O', 'B-food', 'O', 'O', 'O', 'O', 'O', 'O', 'O', 'O']\n",
      "==========================\n",
      "INPUT:  ['alright', 'whats', 'the', 'addre']\n",
      "m2_tar:  ['O', 'O', 'O', 'B-request']\n",
      "m2_pred:  ['O', 'O', 'O', 'B-request', 'O', 'O', 'O', 'O', 'O', 'O', 'O', 'O', 'O']\n",
      "-----\n",
      "m1_tar:  ['O', 'O', 'O', 'B-addr']\n",
      "m1_pred:  ['O', 'O', 'O', 'B-addr', 'O', 'O', 'O', 'O', 'O', 'O', 'O', 'O', 'O']\n",
      "==========================\n",
      "INPUT:  ['it', 'doesnt', 'matter', 'to', 'me']\n",
      "m2_tar:  ['O', 'O', 'O', 'O', 'O']\n",
      "m2_pred:  ['O', 'O', 'O', 'O', 'O', 'O', 'O', 'O', 'O', 'O', 'O', 'O', 'O']\n",
      "-----\n",
      "m1_tar:  ['O', 'O', 'O', 'O', 'O']\n",
      "m1_pred:  ['O', 'O', 'O', 'O', 'O', 'O', 'O', 'O', 'O', 'O', 'O', 'O', 'O']\n",
      "==========================\n"
     ]
    },
    {
     "name": "stderr",
     "output_type": "stream",
     "text": [
      "45.2588 37.9109:  43%|████▎     | 13004/30000 [05:49<08:13, 34.46it/s]"
     ]
    },
    {
     "name": "stdout",
     "output_type": "stream",
     "text": [
      "step:  13000\n",
      "CV_loss_slots_1:  53.9761\n",
      "CV_loss_acts_2:  60.0992\n",
      "INPUT:  ['im', 'looking', 'for', 'a', 'malaysian', 'restaurant', 'in', 'the', 'center', 'of', 'town']\n",
      "m2_tar:  ['O', 'O', 'O', 'O', 'B-inform', 'O', 'O', 'O', 'O', 'O', 'O']\n",
      "m2_pred:  ['O', 'O', 'O', 'O', 'B-inform', 'O', 'O', 'O', 'O', 'O', 'O', 'O', 'O', 'O', 'O', 'O', 'O']\n",
      "-----\n",
      "m1_tar:  ['O', 'O', 'O', 'O', 'B-food', 'O', 'O', 'O', 'O', 'O', 'O']\n",
      "m1_pred:  ['O', 'O', 'O', 'O', 'B-food', 'O', 'O', 'O', 'O', 'O', 'O', 'O', 'O', 'O', 'O', 'O', 'O']\n",
      "==========================\n",
      "INPUT:  ['centre', 'part', 'of', 'town']\n",
      "m2_tar:  ['B-inform', 'O', 'O', 'O']\n",
      "m2_pred:  ['O', 'O', 'O', 'O', 'O', 'O', 'O', 'O', 'O', 'O', 'O', 'O', 'O', 'O', 'O', 'O', 'O']\n",
      "-----\n",
      "m1_tar:  ['B-area', 'O', 'O', 'O']\n",
      "m1_pred:  ['O', 'O', 'O', 'O', 'O', 'O', 'O', 'O', 'O', 'O', 'O', 'O', 'O', 'O', 'O', 'O', 'O']\n",
      "==========================\n",
      "INPUT:  ['i', 'need', 'an', 'cheap', 'caribbean', 'restaurant']\n",
      "m2_tar:  ['O', 'O', 'O', 'B-inform', 'B-inform', 'O']\n",
      "m2_pred:  ['O', 'O', 'O', 'B-inform', 'B-inform', 'O', 'O', 'O', 'O', 'O', 'O', 'O', 'O', 'O', 'O', 'O', 'O']\n",
      "-----\n",
      "m1_tar:  ['O', 'O', 'O', 'B-pricerange', 'B-food', 'O']\n",
      "m1_pred:  ['O', 'O', 'O', 'B-pricerange', 'B-food', 'O', 'O', 'O', 'O', 'O', 'O', 'O', 'O', 'O', 'O', 'O', 'O']\n",
      "==========================\n"
     ]
    },
    {
     "name": "stderr",
     "output_type": "stream",
     "text": [
      "57.8335 57.7684:  47%|████▋     | 14007/30000 [06:15<07:28, 35.63it/s]"
     ]
    },
    {
     "name": "stdout",
     "output_type": "stream",
     "text": [
      "step:  14000\n",
      "CV_loss_slots_1:  77.8974\n",
      "CV_loss_acts_2:  77.2579\n",
      "INPUT:  ['and', 'their', 'phone']\n",
      "m2_tar:  ['O', 'O', 'B-request']\n",
      "m2_pred:  ['O', 'O', 'B-request', 'O', 'O', 'O', 'O', 'O', 'O', 'O', 'O', 'O', 'O', 'O', 'O']\n",
      "-----\n",
      "m1_tar:  ['O', 'O', 'B-phone']\n",
      "m1_pred:  ['O', 'O', 'B-phone', 'O', 'O', 'O', 'O', 'O', 'O', 'O', 'O', 'O', 'O', 'O', 'O']\n",
      "==========================\n",
      "INPUT:  ['what', 'is', 'their', 'postcode']\n",
      "m2_tar:  ['O', 'O', 'O', 'B-request']\n",
      "m2_pred:  ['O', 'O', 'O', 'B-request', 'O', 'O', 'O', 'O', 'O', 'O', 'O', 'O', 'O', 'O', 'O']\n",
      "-----\n",
      "m1_tar:  ['O', 'O', 'O', 'B-postcode']\n",
      "m1_pred:  ['O', 'O', 'O', 'B-postcode', 'O', 'O', 'O', 'O', 'O', 'O', 'O', 'O', 'O', 'O', 'O']\n",
      "==========================\n",
      "INPUT:  ['panasian', 'food', 'please']\n",
      "m2_tar:  ['B-inform', 'O', 'O']\n",
      "m2_pred:  ['O', 'O', 'O', 'O', 'O', 'O', 'O', 'O', 'O', 'O', 'O', 'O', 'O', 'O', 'O']\n",
      "-----\n",
      "m1_tar:  ['B-food', 'O', 'O']\n",
      "m1_pred:  ['O', 'O', 'O', 'O', 'O', 'O', 'O', 'O', 'O', 'O', 'O', 'O', 'O', 'O', 'O']\n",
      "==========================\n"
     ]
    },
    {
     "name": "stderr",
     "output_type": "stream",
     "text": [
      "57.0459 52.5338:  50%|█████     | 15007/30000 [06:41<06:54, 36.20it/s]"
     ]
    },
    {
     "name": "stdout",
     "output_type": "stream",
     "text": [
      "step:  15000\n",
      "CV_loss_slots_1:  51.6857\n",
      "CV_loss_acts_2:  65.3701\n",
      "INPUT:  ['yea', 'im', 'looking', 'for', 'a', 'really', 'dontcare', 'restaurant', 'in', 'the', 'west', 'part', 'of', 'town']\n",
      "m2_tar:  ['O', 'O', 'O', 'O', 'O', 'O', 'B-inform', 'O', 'O', 'O', 'B-inform', 'O', 'O', 'O']\n",
      "m2_pred:  ['O', 'O', 'O', 'O', 'O', 'O', 'B-inform', 'O', 'O', 'O', 'B-inform', 'O', 'O', 'O', 'O']\n",
      "-----\n",
      "m1_tar:  ['O', 'O', 'O', 'O', 'O', 'O', 'B-pricerange', 'O', 'O', 'O', 'B-area', 'O', 'O', 'O']\n",
      "m1_pred:  ['O', 'O', 'O', 'O', 'O', 'O', 'B-pricerange', 'O', 'O', 'O', 'B-area', 'O', 'O', 'O', 'O']\n",
      "==========================\n",
      "INPUT:  ['im', 'looking', 'for', 'an', 'cheap', 'restaurant', 'serving', 'seafood', 'food']\n",
      "m2_tar:  ['O', 'O', 'O', 'O', 'B-inform', 'O', 'O', 'B-inform', 'O']\n",
      "m2_pred:  ['O', 'O', 'O', 'O', 'B-inform', 'O', 'O', 'O', 'O', 'O', 'O', 'O', 'O', 'O', 'O']\n",
      "-----\n",
      "m1_tar:  ['O', 'O', 'O', 'O', 'B-pricerange', 'O', 'O', 'B-food', 'O']\n",
      "m1_pred:  ['O', 'O', 'O', 'O', 'B-pricerange', 'O', 'O', 'B-food', 'O', 'O', 'O', 'O', 'O', 'O', 'O']\n",
      "==========================\n",
      "INPUT:  ['i', 'need', 'the', 'phone', 'number', 'and', 'post', 'code']\n",
      "m2_tar:  ['O', 'O', 'O', 'B-request', 'I-request', 'O', 'B-request', 'I-request']\n",
      "m2_pred:  ['O', 'O', 'O', 'B-request', 'I-request', 'O', 'B-request', 'I-request', 'O', 'O', 'O', 'O', 'O', 'O', 'O']\n",
      "-----\n",
      "m1_tar:  ['O', 'O', 'O', 'B-phone', 'I-phone', 'O', 'B-postcode', 'I-postcode']\n",
      "m1_pred:  ['O', 'O', 'O', 'B-phone', 'I-phone', 'O', 'B-postcode', 'I-postcode', 'O', 'O', 'O', 'O', 'O', 'O', 'O']\n",
      "==========================\n"
     ]
    },
    {
     "name": "stderr",
     "output_type": "stream",
     "text": [
      "35.5731 31.0109:  53%|█████▎    | 16005/30000 [07:06<06:05, 38.29it/s]"
     ]
    },
    {
     "name": "stdout",
     "output_type": "stream",
     "text": [
      "step:  16000\n",
      "CV_loss_slots_1:  47.3636\n",
      "CV_loss_acts_2:  67.6609\n",
      "INPUT:  ['in', 'dontcare', 'restaurant']\n",
      "m2_tar:  ['O', 'B-inform', 'O']\n",
      "m2_pred:  ['O', 'B-inform', 'O', 'O', 'O', 'O', 'O', 'O', 'O', 'O', 'O', 'O', 'O', 'O', 'O', 'O', 'O']\n",
      "-----\n",
      "m1_tar:  ['O', 'B-pricerange', 'O']\n",
      "m1_pred:  ['O', 'B-pricerange', 'O', 'O', 'O', 'O', 'O', 'O', 'O', 'O', 'O', 'O', 'O', 'O', 'O', 'O', 'O']\n",
      "==========================\n",
      "INPUT:  ['thank', 'you', 'good', 'bye']\n",
      "m2_tar:  ['B-bye', 'B-bye', 'B-bye', 'B-bye']\n",
      "m2_pred:  ['B-bye', 'B-bye', 'B-bye', 'B-bye', 'O', 'O', 'O', 'O', 'O', 'O', 'O', 'O', 'O', 'O', 'O', 'O', 'O']\n",
      "-----\n",
      "m1_tar:  ['B-bye', 'B-bye', 'B-bye', 'B-bye']\n",
      "m1_pred:  ['B-bye', 'B-bye', 'B-bye', 'B-bye', 'O', 'O', 'O', 'O', 'O', 'O', 'O', 'O', 'O', 'O', 'O', 'O', 'O']\n",
      "==========================\n",
      "INPUT:  ['is', 'it', 'in', 'the', 'west', 'part', 'of', 'town']\n",
      "m2_tar:  ['O', 'O', 'O', 'O', 'I-hello', 'O', 'O', 'O']\n",
      "m2_pred:  ['O', 'O', 'O', 'O', 'B-inform', 'O', 'O', 'O', 'O', 'O', 'O', 'O', 'O', 'O', 'O', 'O', 'O']\n",
      "-----\n",
      "m1_tar:  ['O', 'O', 'O', 'O', 'B-area', 'O', 'O', 'O']\n",
      "m1_pred:  ['O', 'O', 'O', 'O', 'B-area', 'O', 'O', 'O', 'O', 'O', 'O', 'O', 'O', 'O', 'O', 'O', 'O']\n",
      "==========================\n"
     ]
    },
    {
     "name": "stderr",
     "output_type": "stream",
     "text": [
      "63.426 57.6805:  57%|█████▋    | 17004/30000 [07:31<05:54, 36.65it/s] "
     ]
    },
    {
     "name": "stdout",
     "output_type": "stream",
     "text": [
      "step:  17000\n",
      "CV_loss_slots_1:  90.5319\n",
      "CV_loss_acts_2:  108.578\n",
      "INPUT:  ['is', 'it', 'in', 'the', 'north', 'part', 'of', 'town']\n",
      "m2_tar:  ['O', 'O', 'O', 'O', 'I-hello', 'O', 'O', 'O']\n",
      "m2_pred:  ['O', 'O', 'O', 'O', 'B-inform', 'O', 'O', 'O', 'O', 'O', 'O', 'O', 'O', 'O', 'O']\n",
      "-----\n",
      "m1_tar:  ['O', 'O', 'O', 'O', 'B-area', 'O', 'O', 'O']\n",
      "m1_pred:  ['O', 'O', 'O', 'O', 'B-area', 'O', 'O', 'O', 'O', 'O', 'O', 'O', 'O', 'O', 'O']\n",
      "==========================\n",
      "INPUT:  ['im', 'looking', 'for', 'a', 'dontcare', 'priced', 'restaurant', 'in', 'the', 'centre', 'part', 'of', 'town']\n",
      "m2_tar:  ['O', 'O', 'O', 'O', 'B-inform', 'O', 'O', 'O', 'O', 'B-inform', 'O', 'O', 'O']\n",
      "m2_pred:  ['O', 'O', 'O', 'O', 'B-inform', 'O', 'O', 'O', 'O', 'B-inform', 'O', 'O', 'O', 'O', 'O']\n",
      "-----\n",
      "m1_tar:  ['O', 'O', 'O', 'O', 'B-pricerange', 'O', 'O', 'O', 'O', 'B-area', 'O', 'O', 'O']\n",
      "m1_pred:  ['O', 'O', 'O', 'O', 'B-pricerange', 'O', 'O', 'O', 'O', 'B-area', 'O', 'O', 'O', 'O', 'O']\n",
      "==========================\n",
      "INPUT:  ['can', 'i', 'have', 'it', 'in', 'expensive', 'price', 'range']\n",
      "m2_tar:  ['O', 'O', 'O', 'O', 'O', 'B-inform', 'O', 'O']\n",
      "m2_pred:  ['O', 'O', 'O', 'O', 'O', 'B-inform', 'O', 'O', 'O', 'O', 'O', 'O', 'O', 'O', 'O']\n",
      "-----\n",
      "m1_tar:  ['O', 'O', 'O', 'O', 'O', 'B-pricerange', 'O', 'O']\n",
      "m1_pred:  ['O', 'O', 'O', 'O', 'O', 'B-pricerange', 'O', 'O', 'O', 'O', 'O', 'O', 'O', 'O', 'O']\n",
      "==========================\n"
     ]
    },
    {
     "name": "stderr",
     "output_type": "stream",
     "text": [
      "64.7542 63.9964:  60%|██████    | 18007/30000 [07:56<05:10, 38.58it/s]"
     ]
    },
    {
     "name": "stdout",
     "output_type": "stream",
     "text": [
      "step:  18000\n",
      "CV_loss_slots_1:  114.709\n",
      "CV_loss_acts_2:  156.396\n",
      "INPUT:  ['yes', 'the', 'address']\n",
      "m2_tar:  ['B-affirm', 'B-affirm', 'B-affirm']\n",
      "m2_pred:  ['O', 'O', 'B-request', 'O', 'O', 'O', 'O', 'O', 'O', 'O', 'O', 'O', 'O', 'O', 'O', 'O', 'O', 'O']\n",
      "-----\n",
      "m1_tar:  ['B-affirm', 'B-affirm', 'B-affirm']\n",
      "m1_pred:  ['O', 'O', 'B-addr', 'O', 'O', 'O', 'O', 'O', 'O', 'O', 'O', 'O', 'O', 'O', 'O', 'O', 'O', 'O']\n",
      "==========================\n",
      "INPUT:  ['i', 'need', 'a', 'expensive', 'priced', 'restaurant']\n",
      "m2_tar:  ['O', 'O', 'O', 'B-inform', 'O', 'O']\n",
      "m2_pred:  ['O', 'O', 'O', 'B-inform', 'O', 'O', 'O', 'O', 'O', 'O', 'O', 'O', 'O', 'O', 'O', 'O', 'O', 'O']\n",
      "-----\n",
      "m1_tar:  ['O', 'O', 'O', 'B-pricerange', 'O', 'O']\n",
      "m1_pred:  ['O', 'O', 'O', 'B-pricerange', 'O', 'O', 'O', 'O', 'O', 'O', 'O', 'O', 'O', 'O', 'O', 'O', 'O', 'O']\n",
      "==========================\n",
      "INPUT:  ['whats', 'the', 'type', 'of', 'food']\n",
      "m2_tar:  ['O', 'O', 'O', 'O', 'B-request']\n",
      "m2_pred:  ['O', 'O', 'O', 'O', 'B-request', 'O', 'O', 'O', 'O', 'O', 'O', 'O', 'O', 'O', 'O', 'O', 'O', 'O']\n",
      "-----\n",
      "m1_tar:  ['O', 'O', 'O', 'O', 'B-food']\n",
      "m1_pred:  ['O', 'O', 'O', 'O', 'B-food', 'O', 'O', 'O', 'O', 'O', 'O', 'O', 'O', 'O', 'O', 'O', 'O', 'O']\n",
      "==========================\n"
     ]
    },
    {
     "name": "stderr",
     "output_type": "stream",
     "text": [
      "66.8336 65.9771:  63%|██████▎   | 19004/30000 [08:20<04:46, 38.44it/s]"
     ]
    },
    {
     "name": "stdout",
     "output_type": "stream",
     "text": [
      "step:  19000\n",
      "CV_loss_slots_1:  53.1719\n",
      "CV_loss_acts_2:  88.5522\n",
      "INPUT:  ['west', 'area']\n",
      "m2_tar:  ['B-inform', 'O']\n",
      "m2_pred:  ['O', 'O', 'O', 'O', 'O', 'O', 'O', 'O', 'O', 'O', 'O', 'O', 'O', 'O', 'O']\n",
      "-----\n",
      "m1_tar:  ['B-area', 'O']\n",
      "m1_pred:  ['O', 'O', 'O', 'O', 'O', 'O', 'O', 'O', 'O', 'O', 'O', 'O', 'O', 'O', 'O']\n",
      "==========================\n",
      "INPUT:  ['i', 'want', 'a', 'restaurant', 'in', 'the', 'center', 'that', 'serves', 'indian', 'food']\n",
      "m2_tar:  ['O', 'O', 'O', 'O', 'O', 'O', 'O', 'O', 'O', 'B-inform', 'O']\n",
      "m2_pred:  ['O', 'O', 'O', 'O', 'O', 'O', 'O', 'O', 'O', 'B-inform', 'O', 'O', 'O', 'O', 'O']\n",
      "-----\n",
      "m1_tar:  ['O', 'O', 'O', 'O', 'O', 'O', 'O', 'O', 'O', 'B-food', 'O']\n",
      "m1_pred:  ['O', 'O', 'O', 'O', 'O', 'O', 'O', 'O', 'O', 'B-food', 'O', 'O', 'O', 'O', 'O']\n",
      "==========================\n",
      "INPUT:  ['a', 'restaurant', 'in', 'the', 'north', 'part', 'of', 'town', 'serving', 'panasian', 'food']\n",
      "m2_tar:  ['O', 'O', 'O', 'O', 'B-inform', 'O', 'O', 'O', 'O', 'B-inform', 'O']\n",
      "m2_pred:  ['O', 'O', 'O', 'O', 'B-inform', 'O', 'O', 'O', 'O', 'B-inform', 'O', 'O', 'O', 'O', 'O']\n",
      "-----\n",
      "m1_tar:  ['O', 'O', 'O', 'O', 'B-area', 'O', 'O', 'O', 'O', 'B-food', 'O']\n",
      "m1_pred:  ['O', 'O', 'O', 'O', 'B-area', 'O', 'O', 'O', 'O', 'B-food', 'O', 'O', 'O', 'O', 'O']\n",
      "==========================\n"
     ]
    },
    {
     "name": "stderr",
     "output_type": "stream",
     "text": [
      "68.7386 66.8743:  67%|██████▋   | 20003/30000 [08:46<04:30, 36.93it/s]"
     ]
    },
    {
     "name": "stdout",
     "output_type": "stream",
     "text": [
      "step:  20000\n",
      "CV_loss_slots_1:  54.9086\n",
      "CV_loss_acts_2:  60.6863\n",
      "INPUT:  ['steak', 'house']\n",
      "m2_tar:  ['O', 'O']\n",
      "m2_pred:  ['O', 'O', 'O', 'O', 'O', 'O', 'O', 'O', 'O', 'O', 'O', 'O', 'O', 'O', 'O']\n",
      "-----\n",
      "m1_tar:  ['O', 'O']\n",
      "m1_pred:  ['O', 'O', 'O', 'O', 'O', 'O', 'O', 'O', 'O', 'O', 'O', 'O', 'O', 'O', 'O']\n",
      "==========================\n",
      "INPUT:  ['and', 'what', 'price', 'ran', 'is', 'that', 'or', 'nevermind']\n",
      "m2_tar:  ['O', 'O', 'B-request', 'I-request', 'O', 'O', 'O', 'O']\n",
      "m2_pred:  ['O', 'O', 'B-request', 'B-inform', 'O', 'O', 'O', 'O', 'O', 'O', 'O', 'O', 'O', 'O', 'O']\n",
      "-----\n",
      "m1_tar:  ['O', 'O', 'B-pricerange', 'I-pricerange', 'O', 'O', 'O', 'O']\n",
      "m1_pred:  ['O', 'O', 'B-pricerange', 'I-pricerange', 'O', 'O', 'O', 'O', 'O', 'O', 'O', 'O', 'O', 'O', 'O']\n",
      "==========================\n",
      "INPUT:  ['brazilian', 'food', 'in', 'the', 'dontcare', 'part', 'of', 'town']\n",
      "m2_tar:  ['B-inform', 'O', 'O', 'O', 'B-inform', 'O', 'O', 'O']\n",
      "m2_pred:  ['O', 'O', 'O', 'O', 'B-inform', 'O', 'O', 'O', 'O', 'O', 'O', 'O', 'O', 'O', 'O']\n",
      "-----\n",
      "m1_tar:  ['B-food', 'O', 'O', 'O', 'B-area', 'O', 'O', 'O']\n",
      "m1_pred:  ['O', 'O', 'O', 'O', 'B-area', 'O', 'O', 'O', 'O', 'O', 'O', 'O', 'O', 'O', 'O']\n",
      "==========================\n"
     ]
    },
    {
     "name": "stderr",
     "output_type": "stream",
     "text": [
      "68.8663 63.7026:  70%|███████   | 21004/30000 [09:10<04:05, 36.71it/s]"
     ]
    },
    {
     "name": "stdout",
     "output_type": "stream",
     "text": [
      "step:  21000\n",
      "CV_loss_slots_1:  111.175\n",
      "CV_loss_acts_2:  196.734\n",
      "INPUT:  ['dontcare', 'part', 'of', 'town', 'please']\n",
      "m2_tar:  ['B-inform', 'O', 'O', 'O', 'O']\n",
      "m2_pred:  ['O', 'O', 'O', 'O', 'O', 'O', 'O', 'O', 'O', 'O', 'O', 'O', 'O', 'O', 'O', 'O']\n",
      "-----\n",
      "m1_tar:  ['B-area', 'O', 'O', 'O', 'O']\n",
      "m1_pred:  ['O', 'O', 'O', 'O', 'O', 'O', 'O', 'O', 'O', 'O', 'O', 'O', 'O', 'O', 'O', 'O']\n",
      "==========================\n",
      "INPUT:  ['what', 'is', 'the', 'telephone', 'and', 'postal', 'code']\n",
      "m2_tar:  ['O', 'O', 'O', 'B-request', 'O', 'B-request', 'I-request']\n",
      "m2_pred:  ['O', 'O', 'O', 'B-request', 'O', 'B-request', 'I-request', 'O', 'O', 'O', 'O', 'O', 'O', 'O', 'O', 'O']\n",
      "-----\n",
      "m1_tar:  ['O', 'O', 'O', 'B-phone', 'O', 'B-postcode', 'I-postcode']\n",
      "m1_pred:  ['O', 'O', 'O', 'B-addr', 'O', 'B-postcode', 'I-postcode', 'O', 'O', 'O', 'O', 'O', 'O', 'O', 'O', 'O']\n",
      "==========================\n",
      "INPUT:  ['what', 'type', 'of', 'food', 'is']\n",
      "m2_tar:  ['O', 'O', 'O', 'B-request', 'O']\n",
      "m2_pred:  ['O', 'O', 'O', 'B-request', 'O', 'O', 'O', 'O', 'O', 'O', 'O', 'O', 'O', 'O', 'O', 'O']\n",
      "-----\n",
      "m1_tar:  ['O', 'O', 'O', 'B-food', 'O']\n",
      "m1_pred:  ['O', 'O', 'O', 'B-food', 'O', 'O', 'O', 'O', 'O', 'O', 'O', 'O', 'O', 'O', 'O', 'O']\n",
      "==========================\n"
     ]
    },
    {
     "name": "stderr",
     "output_type": "stream",
     "text": [
      "61.4637 58.849:  73%|███████▎  | 22005/30000 [09:35<03:15, 40.92it/s] "
     ]
    },
    {
     "name": "stdout",
     "output_type": "stream",
     "text": [
      "step:  22000\n",
      "CV_loss_slots_1:  68.71\n",
      "CV_loss_acts_2:  78.1823\n",
      "INPUT:  ['ok', 'how', 'about', 'thai', 'food']\n",
      "m2_tar:  ['O', 'O', 'O', 'B-inform', 'O']\n",
      "m2_pred:  ['O', 'O', 'O', 'O', 'O', 'O', 'O', 'O', 'O', 'O', 'O', 'O', 'O', 'O', 'O', 'O']\n",
      "-----\n",
      "m1_tar:  ['O', 'O', 'O', 'B-food', 'O']\n",
      "m1_pred:  ['O', 'O', 'O', 'O', 'O', 'O', 'O', 'O', 'O', 'O', 'O', 'O', 'O', 'O', 'O', 'O']\n",
      "==========================\n",
      "INPUT:  ['how', 'about', 'the', 'south', 'part']\n",
      "m2_tar:  ['O', 'O', 'O', 'B-inform', 'O']\n",
      "m2_pred:  ['O', 'O', 'O', 'B-inform', 'O', 'O', 'O', 'O', 'O', 'O', 'O', 'O', 'O', 'O', 'O', 'O']\n",
      "-----\n",
      "m1_tar:  ['O', 'O', 'O', 'B-area', 'O']\n",
      "m1_pred:  ['O', 'O', 'O', 'B-area', 'O', 'O', 'O', 'O', 'O', 'O', 'O', 'O', 'O', 'O', 'O', 'O']\n",
      "==========================\n",
      "INPUT:  ['south', 'moderate']\n",
      "m2_tar:  ['B-inform', 'B-inform']\n",
      "m2_pred:  ['B-inform', 'B-inform', 'O', 'O', 'O', 'O', 'O', 'O', 'O', 'O', 'O', 'O', 'O', 'O', 'O', 'O']\n",
      "-----\n",
      "m1_tar:  ['B-area', 'B-pricerange']\n",
      "m1_pred:  ['B-area', 'B-pricerange', 'O', 'O', 'O', 'O', 'O', 'O', 'O', 'O', 'O', 'O', 'O', 'O', 'O', 'O']\n",
      "==========================\n"
     ]
    },
    {
     "name": "stderr",
     "output_type": "stream",
     "text": [
      "61.6419 64.3238:  77%|███████▋  | 23005/30000 [10:01<03:24, 34.20it/s]"
     ]
    },
    {
     "name": "stdout",
     "output_type": "stream",
     "text": [
      "step:  23000\n",
      "CV_loss_slots_1:  138.382\n",
      "CV_loss_acts_2:  152.648\n",
      "INPUT:  ['hello', 'im', 'looking', 'for', 'a', 'dontcare', 'restaurant', 'in', 'the', 'east', 'part', 'of', 'town']\n",
      "m2_tar:  ['O', 'O', 'O', 'O', 'O', 'B-inform', 'O', 'O', 'O', 'B-inform', 'O', 'O', 'O']\n",
      "m2_pred:  ['O', 'O', 'O', 'O', 'O', 'B-inform', 'O', 'O', 'O', 'B-inform', 'O', 'O', 'O', 'O', 'O']\n",
      "-----\n",
      "m1_tar:  ['O', 'O', 'O', 'O', 'O', 'B-pricerange', 'O', 'O', 'O', 'B-area', 'O', 'O', 'O']\n",
      "m1_pred:  ['O', 'O', 'O', 'O', 'O', 'B-pricerange', 'O', 'O', 'O', 'B-area', 'O', 'O', 'O', 'O', 'O']\n",
      "==========================\n",
      "INPUT:  ['what', 'kind', 'of', 'food', 'does', 'it']\n",
      "m2_tar:  ['O', 'O', 'O', 'B-request', 'O', 'O']\n",
      "m2_pred:  ['O', 'O', 'O', 'B-request', 'O', 'O', 'O', 'O', 'O', 'O', 'O', 'O', 'O', 'O', 'O']\n",
      "-----\n",
      "m1_tar:  ['O', 'O', 'O', 'B-food', 'O', 'O']\n",
      "m1_pred:  ['O', 'O', 'O', 'B-food', 'O', 'O', 'O', 'O', 'O', 'O', 'O', 'O', 'O', 'O', 'O']\n",
      "==========================\n",
      "INPUT:  ['what', 'is', 'their', 'address']\n",
      "m2_tar:  ['O', 'O', 'O', 'B-request']\n",
      "m2_pred:  ['O', 'O', 'O', 'B-request', 'O', 'O', 'O', 'O', 'O', 'O', 'O', 'O', 'O', 'O', 'O']\n",
      "-----\n",
      "m1_tar:  ['O', 'O', 'O', 'B-addr']\n",
      "m1_pred:  ['O', 'O', 'O', 'B-addr', 'O', 'O', 'O', 'O', 'O', 'O', 'O', 'O', 'O', 'O', 'O']\n",
      "==========================\n"
     ]
    },
    {
     "name": "stderr",
     "output_type": "stream",
     "text": [
      "54.2993 52.0093:  80%|████████  | 24006/30000 [10:26<02:47, 35.86it/s]"
     ]
    },
    {
     "name": "stdout",
     "output_type": "stream",
     "text": [
      "step:  24000\n",
      "CV_loss_slots_1:  105.911\n",
      "CV_loss_acts_2:  201.785\n",
      "INPUT:  ['and', 'what', 'cost', 'is', 'that', 'or', 'nevermind']\n",
      "m2_tar:  ['O', 'O', 'B-request', 'O', 'O', 'O', 'O']\n",
      "m2_pred:  ['O', 'O', 'B-request', 'O', 'O', 'O', 'O', 'O', 'O', 'O', 'O', 'O', 'O', 'O', 'O', 'O']\n",
      "-----\n",
      "m1_tar:  ['O', 'O', 'B-pricerange', 'O', 'O', 'O', 'O']\n",
      "m1_pred:  ['O', 'O', 'B-postcode', 'O', 'O', 'O', 'O', 'O', 'O', 'O', 'O', 'O', 'O', 'O', 'O', 'O']\n",
      "==========================\n",
      "INPUT:  ['what', 'type', 'of', 'serves', 'is', 'it']\n",
      "m2_tar:  ['O', 'O', 'O', 'B-request', 'O', 'O']\n",
      "m2_pred:  ['O', 'O', 'O', 'B-request', 'O', 'O', 'O', 'O', 'O', 'O', 'O', 'O', 'O', 'O', 'O', 'O']\n",
      "-----\n",
      "m1_tar:  ['O', 'O', 'O', 'B-food', 'O', 'O']\n",
      "m1_pred:  ['O', 'O', 'O', 'B-food', 'O', 'O', 'O', 'O', 'O', 'O', 'O', 'O', 'O', 'O', 'O', 'O']\n",
      "==========================\n",
      "INPUT:  ['vegitarian']\n",
      "m2_tar:  ['O']\n",
      "m2_pred:  ['O', 'O', 'O', 'O', 'O', 'O', 'O', 'O', 'O', 'O', 'O', 'O', 'O', 'O', 'O', 'O']\n",
      "-----\n",
      "m1_tar:  ['O']\n",
      "m1_pred:  ['O', 'O', 'O', 'O', 'O', 'O', 'O', 'O', 'O', 'O', 'O', 'O', 'O', 'O', 'O', 'O']\n",
      "==========================\n"
     ]
    },
    {
     "name": "stderr",
     "output_type": "stream",
     "text": [
      "32.9388 32.1152:  83%|████████▎ | 25007/30000 [10:52<02:12, 37.59it/s]"
     ]
    },
    {
     "name": "stdout",
     "output_type": "stream",
     "text": [
      "step:  25000\n",
      "CV_loss_slots_1:  36.0911\n",
      "CV_loss_acts_2:  53.5913\n",
      "INPUT:  ['its', 'cheap']\n",
      "m2_tar:  ['O', 'B-inform']\n",
      "m2_pred:  ['O', 'B-inform', 'O', 'O', 'O', 'O', 'O', 'O', 'O', 'O', 'O', 'O', 'O', 'O', 'O']\n",
      "-----\n",
      "m1_tar:  ['O', 'B-pricerange']\n",
      "m1_pred:  ['O', 'B-pricerange', 'O', 'O', 'O', 'O', 'O', 'O', 'O', 'O', 'O', 'O', 'O', 'O', 'O']\n",
      "==========================\n",
      "INPUT:  ['yes', 'a', 'cheap', 'priced', 'restaurant']\n",
      "m2_tar:  ['O', 'O', 'B-affirm', 'O', 'O']\n",
      "m2_pred:  ['O', 'O', 'B-inform', 'O', 'O', 'O', 'O', 'O', 'O', 'O', 'O', 'O', 'O', 'O', 'O']\n",
      "-----\n",
      "m1_tar:  ['O', 'O', 'B-pricerange', 'O', 'O']\n",
      "m1_pred:  ['O', 'O', 'B-pricerange', 'O', 'O', 'O', 'O', 'O', 'O', 'O', 'O', 'O', 'O', 'O', 'O']\n",
      "==========================\n",
      "INPUT:  ['could', 'i', 'have', 'the', 'address', 'please']\n",
      "m2_tar:  ['O', 'O', 'O', 'O', 'B-request', 'O']\n",
      "m2_pred:  ['O', 'O', 'O', 'O', 'B-request', 'O', 'O', 'O', 'O', 'O', 'O', 'O', 'O', 'O', 'O']\n",
      "-----\n",
      "m1_tar:  ['O', 'O', 'O', 'O', 'B-addr', 'O']\n",
      "m1_pred:  ['O', 'O', 'O', 'O', 'B-addr', 'O', 'O', 'O', 'O', 'O', 'O', 'O', 'O', 'O', 'O']\n",
      "==========================\n"
     ]
    },
    {
     "name": "stderr",
     "output_type": "stream",
     "text": [
      "46.5882 48.9056:  87%|████████▋ | 26004/30000 [11:18<01:55, 34.45it/s]"
     ]
    },
    {
     "name": "stdout",
     "output_type": "stream",
     "text": [
      "step:  26000\n",
      "CV_loss_slots_1:  113.372\n",
      "CV_loss_acts_2:  139.063\n",
      "INPUT:  ['what', 'serves', 'does', 'it', 'serve']\n",
      "m2_tar:  ['O', 'B-request', 'O', 'O', 'O']\n",
      "m2_pred:  ['O', 'O', 'O', 'O', 'O', 'O', 'O', 'O', 'O', 'O', 'O', 'O', 'O']\n",
      "-----\n",
      "m1_tar:  ['O', 'B-food', 'O', 'O', 'O']\n",
      "m1_pred:  ['O', 'O', 'O', 'O', 'O', 'O', 'O', 'O', 'O', 'O', 'O', 'O', 'O']\n",
      "==========================\n",
      "INPUT:  ['i', 'would', 'like', 'christmas', 'foo']\n",
      "m2_tar:  ['O', 'O', 'O', 'B-inform', 'O']\n",
      "m2_pred:  ['O', 'O', 'O', 'B-inform', 'O', 'O', 'O', 'O', 'O', 'O', 'O', 'O', 'O']\n",
      "-----\n",
      "m1_tar:  ['O', 'O', 'O', 'B-food', 'O']\n",
      "m1_pred:  ['O', 'O', 'O', 'B-food', 'O', 'O', 'O', 'O', 'O', 'O', 'O', 'O', 'O']\n",
      "==========================\n",
      "INPUT:  ['im', 'looking', 'for', 'a', 'dontcare', 'priced', 'restaurant']\n",
      "m2_tar:  ['O', 'O', 'O', 'O', 'B-inform', 'O', 'O']\n",
      "m2_pred:  ['O', 'O', 'O', 'O', 'B-inform', 'O', 'O', 'O', 'O', 'O', 'O', 'O', 'O']\n",
      "-----\n",
      "m1_tar:  ['O', 'O', 'O', 'O', 'B-pricerange', 'O', 'O']\n",
      "m1_pred:  ['O', 'O', 'O', 'O', 'B-pricerange', 'O', 'O', 'O', 'O', 'O', 'O', 'O', 'O']\n",
      "==========================\n"
     ]
    },
    {
     "name": "stderr",
     "output_type": "stream",
     "text": [
      "21.0833 17.3764:  90%|█████████ | 27005/30000 [11:43<01:21, 36.69it/s]"
     ]
    },
    {
     "name": "stdout",
     "output_type": "stream",
     "text": [
      "step:  27000\n",
      "CV_loss_slots_1:  49.6647\n",
      "CV_loss_acts_2:  72.3783\n",
      "INPUT:  ['no', 'east', 'area']\n",
      "m2_tar:  ['O', 'I-reqalts', 'O']\n",
      "m2_pred:  ['O', 'B-negate', 'O', 'O', 'O', 'O', 'O', 'O', 'O', 'O', 'O', 'O', 'O', 'O', 'O', 'O']\n",
      "-----\n",
      "m1_tar:  ['O', 'B-area', 'O']\n",
      "m1_pred:  ['O', 'B-area', 'O', 'O', 'O', 'O', 'O', 'O', 'O', 'O', 'O', 'O', 'O', 'O', 'O', 'O']\n",
      "==========================\n",
      "INPUT:  ['ok', 'if', 'there', 'is', 'no', 'restaurant', 'serving', 'indonesian', 'food', 'how', 'about', 'a', 'restaurant', 'serving', 'creative', 'food']\n",
      "m2_tar:  ['O', 'O', 'O', 'O', 'O', 'O', 'O', 'O', 'O', 'O', 'O', 'O', 'O', 'O', 'B-inform', 'O']\n",
      "m2_pred:  ['O', 'O', 'O', 'O', 'O', 'O', 'O', 'O', 'O', 'O', 'O', 'O', 'O', 'O', 'B-inform', 'O']\n",
      "-----\n",
      "m1_tar:  ['O', 'O', 'O', 'O', 'O', 'O', 'O', 'O', 'O', 'O', 'O', 'O', 'O', 'O', 'B-food', 'O']\n",
      "m1_pred:  ['O', 'O', 'O', 'O', 'O', 'O', 'O', 'B-food', 'O', 'O', 'O', 'O', 'O', 'O', 'B-food', 'O']\n",
      "==========================\n",
      "INPUT:  ['does', 'anyone', 'serve', 'spanish', 'food']\n",
      "m2_tar:  ['O', 'O', 'O', 'B-inform', 'O']\n",
      "m2_pred:  ['O', 'O', 'O', 'B-confirm', 'O', 'O', 'O', 'O', 'O', 'O', 'O', 'O', 'O', 'O', 'O', 'O']\n",
      "-----\n",
      "m1_tar:  ['O', 'O', 'O', 'B-food', 'O']\n",
      "m1_pred:  ['O', 'O', 'O', 'B-food', 'O', 'O', 'O', 'O', 'O', 'O', 'O', 'O', 'O', 'O', 'O', 'O']\n",
      "==========================\n"
     ]
    },
    {
     "name": "stderr",
     "output_type": "stream",
     "text": [
      "76.3102 69.357:  93%|█████████▎| 28005/30000 [12:09<01:00, 33.02it/s] "
     ]
    },
    {
     "name": "stdout",
     "output_type": "stream",
     "text": [
      "step:  28000\n",
      "CV_loss_slots_1:  50.4388\n",
      "CV_loss_acts_2:  73.248\n",
      "INPUT:  ['alright', 'give', 'me', 'the', 'addre']\n",
      "m2_tar:  ['O', 'O', 'O', 'O', 'B-request']\n",
      "m2_pred:  ['O', 'O', 'O', 'O', 'B-request', 'O', 'O', 'O', 'O', 'O', 'O', 'O', 'O', 'O', 'O', 'O', 'O']\n",
      "-----\n",
      "m1_tar:  ['O', 'O', 'O', 'O', 'B-addr']\n",
      "m1_pred:  ['O', 'O', 'O', 'O', 'B-addr', 'O', 'O', 'O', 'O', 'O', 'O', 'O', 'O', 'O', 'O', 'O', 'O']\n",
      "==========================\n",
      "INPUT:  ['is', 'it', 'in', 'the', 'north', 'part', 'of', 'town']\n",
      "m2_tar:  ['O', 'O', 'O', 'O', 'I-hello', 'O', 'O', 'O']\n",
      "m2_pred:  ['O', 'O', 'O', 'O', 'B-confirm', 'O', 'O', 'O', 'O', 'O', 'O', 'O', 'O', 'O', 'O', 'O', 'O']\n",
      "-----\n",
      "m1_tar:  ['O', 'O', 'O', 'O', 'B-area', 'O', 'O', 'O']\n",
      "m1_pred:  ['O', 'O', 'O', 'O', 'B-area', 'O', 'O', 'O', 'O', 'O', 'O', 'O', 'O', 'O', 'O', 'O', 'O']\n",
      "==========================\n",
      "INPUT:  ['in', 'the', 'south']\n",
      "m2_tar:  ['O', 'O', 'B-inform']\n",
      "m2_pred:  ['O', 'O', 'B-inform', 'O', 'O', 'O', 'O', 'O', 'O', 'O', 'O', 'O', 'O', 'O', 'O', 'O', 'O']\n",
      "-----\n",
      "m1_tar:  ['O', 'O', 'B-area']\n",
      "m1_pred:  ['O', 'O', 'B-area', 'O', 'O', 'O', 'O', 'O', 'O', 'O', 'O', 'O', 'O', 'O', 'O', 'O', 'O']\n",
      "==========================\n"
     ]
    },
    {
     "name": "stderr",
     "output_type": "stream",
     "text": [
      "23.6942 27.8445:  97%|█████████▋| 29005/30000 [12:33<00:27, 35.63it/s]"
     ]
    },
    {
     "name": "stdout",
     "output_type": "stream",
     "text": [
      "step:  29000\n",
      "CV_loss_slots_1:  87.214\n",
      "CV_loss_acts_2:  129.687\n",
      "INPUT:  ['is', 'it', 'in', 'the', 'dontcare', 'of', 'town']\n",
      "m2_tar:  ['O', 'O', 'O', 'O', 'I-hello', 'O', 'O']\n",
      "m2_pred:  ['O', 'O', 'O', 'O', 'B-confirm', 'O', 'O', 'O', 'O', 'O', 'O', 'O', 'O', 'O', 'O', 'O']\n",
      "-----\n",
      "m1_tar:  ['O', 'O', 'O', 'O', 'B-area', 'O', 'O']\n",
      "m1_pred:  ['O', 'O', 'O', 'O', 'B-area', 'O', 'O', 'O', 'O', 'O', 'O', 'O', 'O', 'O', 'O', 'O']\n",
      "==========================\n",
      "INPUT:  ['is', 'it', 'in', 'the', 'dontcare', 'price', 'range']\n",
      "m2_tar:  ['O', 'O', 'O', 'O', 'I-hello', 'O', 'O']\n",
      "m2_pred:  ['O', 'O', 'O', 'O', 'B-confirm', 'O', 'O', 'O', 'O', 'O', 'O', 'O', 'O', 'O', 'O', 'O']\n",
      "-----\n",
      "m1_tar:  ['O', 'O', 'O', 'O', 'B-pricerange', 'O', 'O']\n",
      "m1_pred:  ['O', 'O', 'O', 'O', 'B-area', 'O', 'O', 'O', 'O', 'O', 'O', 'O', 'O', 'O', 'O', 'O']\n",
      "==========================\n",
      "INPUT:  ['i', 'would', 'like', 'a', 'cheap', 'restaurant', 'and', 'it', 'should']\n",
      "m2_tar:  ['O', 'O', 'O', 'O', 'B-inform', 'O', 'O', 'O', 'O']\n",
      "m2_pred:  ['O', 'O', 'O', 'O', 'B-inform', 'O', 'O', 'O', 'O', 'O', 'O', 'O', 'O', 'O', 'O', 'O']\n",
      "-----\n",
      "m1_tar:  ['O', 'O', 'O', 'O', 'B-pricerange', 'O', 'O', 'O', 'O']\n",
      "m1_pred:  ['O', 'O', 'O', 'O', 'B-pricerange', 'O', 'O', 'O', 'O', 'O', 'O', 'O', 'O', 'O', 'O', 'O']\n",
      "==========================\n"
     ]
    },
    {
     "name": "stderr",
     "output_type": "stream",
     "text": [
      "17.1799 18.3609: 100%|██████████| 30000/30000 [13:00<00:00, 38.46it/s]\n"
     ]
    }
   ],
   "source": [
    "fs_model = fs.load_model(\"./model.bin\")\n",
    "model = Model(fs_model=fs_model)\n",
    "\n",
    "with tf.Session() as sess:\n",
    "    sess.run(tf.global_variables_initializer())\n",
    "    saver = tf.train.Saver()\n",
    "    avg_loss = -np.ones((3, ))\n",
    "    alpha = 0.9\n",
    "    \n",
    "    pbar = tqdm(range(30000))\n",
    "    for step in pbar:\n",
    "        x, m1, m2, _lens = next(DataGen)\n",
    "        res = sess.run([model.m1_loss, model.m2_loss, model.train_op], {model.inputs: x, model.mask1: m1, model.mask2: m2, model.lens: _lens})\n",
    "        pbar.set_description(str(res[0]) + ' ' + str(res[1]))\n",
    "        \n",
    "#         print(res[0])\n",
    "#         res = sess.run([lm_loss, m1_loss, m2_loss, train_op], {inputs: x, mask1: m1, mask2: m2, lens: _lens})\n",
    "#         res = np.array(res[:-1])\n",
    "        \n",
    "#         if avg_loss[0] < 0:\n",
    "#             avg_loss = res\n",
    "        \n",
    "#         avg_loss = alpha * avg_loss + (1-alpha) * res\n",
    "#         pbar.set_description(' '.join('{:.2f}'.format(_) for _ in avg_loss))\n",
    "        \n",
    "        \n",
    "        if(step%1000 == 0):\n",
    "            \n",
    "            x_dev, m1_dev, m2_dev, _lens_dev = next(DataGenDev)\n",
    "            print(\"step: \", step)\n",
    "            \n",
    "            N = 3 # how many examples show to test:\n",
    "            loss_cv_1, loss_cv_2, _, pred_1, pred_2 = sess.run([model.m1_loss, model.m2_loss, model.train_op, \n",
    "                                                                model.prediction_m1, model.prediction_m2], \n",
    "                                                    {model.inputs: x_dev, \n",
    "                                                      model.mask1: m1_dev,\n",
    "                                                      model.mask2: m2_dev,\n",
    "                                                      model.lens: _lens_dev})\n",
    "            print(\"CV_loss_slots_1: \", loss_cv_1)\n",
    "            print(\"CV_loss_acts_2: \", loss_cv_2)\n",
    "            \n",
    "            for x_, m1_, m2_, p1, p2 in zip(x_dev[:N], m1_dev[:N], m2_dev[:N], pred_1[:N], pred_2[:N]):\n",
    "\n",
    "                print(\"INPUT: \", DataGen.decode_sentence(x_))\n",
    "                print(\"m2_tar: \", DataGen.decode_acts(m2_))\n",
    "                print(\"m2_pred: \", DataGen.decode_acts(p2))                \n",
    "                \n",
    "                print(\"-----\")\n",
    "                \n",
    "                print(\"m1_tar: \", DataGen.decode_slots(m1_))\n",
    "                print(\"m1_pred: \", DataGen.decode_slots(p1))\n",
    "                \n",
    "                print(\"==========================\")\n",
    "    saver.save(sess=sess, save_path='nlu_model_',global_step=30000)"
   ]
  },
  {
   "cell_type": "code",
   "execution_count": null,
   "metadata": {
    "collapsed": true
   },
   "outputs": [],
   "source": [
    "file_writer = tf.summary.FileWriter('../logdir/', sess.graph)"
   ]
  },
  {
   "cell_type": "markdown",
   "metadata": {},
   "source": [
    "# Использование обученной модели"
   ]
  },
  {
   "cell_type": "code",
   "execution_count": 10,
   "metadata": {},
   "outputs": [],
   "source": [
    "model = Model(train=False)\n",
    "fs_model = fs.load_model(\"./model.bin\")"
   ]
  },
  {
   "cell_type": "code",
   "execution_count": 11,
   "metadata": {
    "collapsed": true
   },
   "outputs": [],
   "source": [
    "TimeMajor = False\n",
    "batch_size = 32\n",
    "DataGenDev = NLUDataGenerator('../data/dev/usr_df_final.csv',\n",
    "                           '../data/ontology_dstc2.json',\n",
    "                           '../data/slots.txt', None,\n",
    "                           batch_size = batch_size, time_major=TimeMajor, digitize = False, fs_model=fs_model)"
   ]
  },
  {
   "cell_type": "code",
   "execution_count": 26,
   "metadata": {
    "collapsed": true
   },
   "outputs": [],
   "source": [
    "x_dev, m1_dev, m2_dev, _lens_dev = next(DataGenDev)"
   ]
  },
  {
   "cell_type": "code",
   "execution_count": 16,
   "metadata": {},
   "outputs": [
    {
     "name": "stdout",
     "output_type": "stream",
     "text": [
      "INFO:tensorflow:Restoring parameters from ./nlu_model_-30000\n",
      "INPUT:  ['perfect', 'may', 'i', 'have', 'the', 'address']\n",
      "m2_tar:  ['O', 'O', 'O', 'O', 'O', 'B-request']\n",
      "m2_pred:  ['O', 'O', 'O', 'O', 'O', 'B-request', 'O', 'O', 'O', 'O', 'O', 'O', 'O', 'O']\n",
      "-----\n",
      "m1_tar:  ['O', 'O', 'O', 'O', 'O', 'B-addr']\n",
      "m1_pred:  ['O', 'O', 'O', 'O', 'O', 'B-addr', 'O', 'O', 'O', 'O', 'O', 'O', 'O', 'O']\n",
      "==========================\n",
      "INPUT:  ['what', 'is', 'the', 'addre', 'phone', 'and', 'type', 'of', 'food']\n",
      "m2_tar:  ['O', 'O', 'O', 'B-request', 'B-request', 'O', 'O', 'O', 'B-request']\n",
      "m2_pred:  ['O', 'O', 'O', 'B-request', 'B-request', 'O', 'O', 'O', 'B-request', 'O', 'O', 'O', 'O', 'O']\n",
      "-----\n",
      "m1_tar:  ['O', 'O', 'O', 'B-addr', 'B-phone', 'O', 'O', 'O', 'B-food']\n",
      "m1_pred:  ['O', 'O', 'O', 'B-addr', 'B-phone', 'O', 'O', 'O', 'B-food', 'O', 'O', 'O', 'O', 'O']\n",
      "==========================\n",
      "INPUT:  ['what', 'about', 'a', 'polish', 'restaurant', 'in', 'the', 'north', 'of', 'town']\n",
      "m2_tar:  ['O', 'O', 'O', 'B-inform', 'O', 'O', 'O', 'B-inform', 'O', 'O']\n",
      "m2_pred:  ['O', 'O', 'O', 'B-inform', 'O', 'O', 'O', 'B-inform', 'O', 'O', 'O', 'O', 'O', 'O']\n",
      "-----\n",
      "m1_tar:  ['O', 'O', 'O', 'B-food', 'O', 'O', 'O', 'B-area', 'O', 'O']\n",
      "m1_pred:  ['O', 'O', 'O', 'B-food', 'O', 'O', 'O', 'B-area', 'O', 'O', 'O', 'O', 'O', 'O']\n",
      "==========================\n",
      "INPUT:  ['um', 'how', 'about', 'panasian', 'food']\n",
      "m2_tar:  ['O', 'O', 'O', 'B-inform', 'O']\n",
      "m2_pred:  ['O', 'O', 'O', 'B-inform', 'O', 'O', 'O', 'O', 'O', 'O', 'O', 'O', 'O', 'O']\n",
      "-----\n",
      "m1_tar:  ['O', 'O', 'O', 'B-food', 'O']\n",
      "m1_pred:  ['O', 'O', 'O', 'B-food', 'O', 'O', 'O', 'O', 'O', 'O', 'O', 'O', 'O', 'O']\n",
      "==========================\n"
     ]
    }
   ],
   "source": [
    "with tf.Session() as sess:\n",
    "    \n",
    "    new_saver = tf.train.Saver()\n",
    "    sess.run(tf.global_variables_initializer())\n",
    "    new_saver.restore(sess, tf.train.latest_checkpoint('./'))\n",
    "\n",
    "    N = 4\n",
    "    x_dev, m1_dev, m2_dev, _lens_dev = next(DataGenDev)\n",
    "    x_dev_vectorized = DataGenDev.vectorize(x_dev, len(m1_dev[0]), embedd_size=100)\n",
    "    \n",
    "    loss_cv_1, loss_cv_2, pred_1, pred_2 = sess.run([model.m1_loss, model.m2_loss,\n",
    "                                                        model.prediction_m1, model.prediction_m2],\n",
    "                                                   {model.inputs: m1_dev,\n",
    "                                                      model.encoded:x_dev_vectorized,\n",
    "                                                      model.mask1: m1_dev,\n",
    "                                                      model.mask2: m2_dev,\n",
    "                                                      model.lens: np.array(_lens_dev)})\n",
    "    \n",
    "    for x_, m1_, m2_, p1, p2 in zip(x_dev[:N], m1_dev[:N], m2_dev[:N], pred_1[:N], pred_2[:N]):\n",
    "\n",
    "        print(\"INPUT: \", x_)\n",
    "        print(\"m2_tar: \", DataGenDev.decode_acts(m2_))\n",
    "        print(\"m2_pred: \", DataGenDev.decode_acts(p2))                \n",
    "\n",
    "        print(\"-----\")\n",
    "\n",
    "        print(\"m1_tar: \", DataGenDev.decode_slots(m1_))\n",
    "        print(\"m1_pred: \", DataGenDev.decode_slots(p1))\n",
    "\n",
    "        print(\"==========================\")"
   ]
  },
  {
   "cell_type": "markdown",
   "metadata": {
    "collapsed": true
   },
   "source": [
    "# Метрики качества"
   ]
  },
  {
   "cell_type": "code",
   "execution_count": 35,
   "metadata": {},
   "outputs": [],
   "source": [
    "## Считаем процент совпавших тегов в одном предложении ##\n",
    "\n",
    "def acc(tar, pred, lens):\n",
    "    count = 0\n",
    "    count_all = 0\n",
    "    for i in range(lens):\n",
    "        if (tar[i] != 1):\n",
    "            count_all+=1\n",
    "            if (pred[i]==tar[i]):\n",
    "                count+=1\n",
    "    if count_all == 0:\n",
    "        return -1\n",
    "    return count/count_all"
   ]
  },
  {
   "cell_type": "code",
   "execution_count": 36,
   "metadata": {
    "collapsed": true
   },
   "outputs": [],
   "source": [
    "Acc1 = 0\n",
    "Acc2 = 0"
   ]
  },
  {
   "cell_type": "code",
   "execution_count": 37,
   "metadata": {},
   "outputs": [
    {
     "name": "stdout",
     "output_type": "stream",
     "text": [
      "INFO:tensorflow:Restoring parameters from ./nlu_model_-30000\n",
      "0.826976672466895\n",
      "0.7910093926917128\n"
     ]
    }
   ],
   "source": [
    "batch_size = 32\n",
    "with tf.Session() as sess:\n",
    "    new_saver = tf.train.Saver()\n",
    "    sess.run(tf.global_variables_initializer())\n",
    "    new_saver.restore(sess, tf.train.latest_checkpoint('./'))\n",
    "    \n",
    "    N_batches = 3000\n",
    "    incorrect1 = 0 ## предложения, в которых нет значимых тегов1\n",
    "    incorrect2 = 0 ## предложения, в которых нет значимых тегов2\n",
    "    \n",
    "    for i in range(N_batches):\n",
    "        x_dev, m1_dev, m2_dev, _lens_dev = next(DataGenDev)\n",
    "        x_dev_vectorized = DataGenDev.vectorize(x_dev, len(m1_dev[0]), embedd_size=100)\n",
    "        \n",
    "        loss_cv_1, loss_cv_2, pred_1, pred_2 = sess.run([model.m1_loss, model.m2_loss,\n",
    "                                                        model.prediction_m1, model.prediction_m2],\n",
    "                                                    {model.inputs: m1_dev,\n",
    "                                                      model.encoded:x_dev_vectorized,\n",
    "                                                      model.mask1: m1_dev,\n",
    "                                                      model.mask2: m2_dev,\n",
    "                                                      model.lens: np.array(_lens_dev)})\n",
    "        sum_batch1 = 0\n",
    "        sum_batch2 = 0\n",
    "        \n",
    "        for tar1, pred1, tar2, pred2, length in zip(m1_dev, pred_1, m2_dev, pred_2, _lens_dev):\n",
    "            acc1 = acc(tar1, pred1, length)\n",
    "            acc2 = acc(tar2, pred2, length)\n",
    "            \n",
    "            if acc1==-1:\n",
    "                incorrect1+=1\n",
    "            else:\n",
    "                sum_batch1+=acc1\n",
    "                \n",
    "            if acc2 == -1:\n",
    "                incorrect2+=1\n",
    "            else:\n",
    "                sum_batch2+=acc2\n",
    "            \n",
    "            \n",
    "        Acc1+=sum_batch1 ## прибавляем сумму за батч\n",
    "        Acc2+=sum_batch2 ##\n",
    "    \n",
    "    print(Acc1/(N_batches*batch_size - incorrect1))\n",
    "    print(Acc2/(N_batches*batch_size - incorrect2))"
   ]
  },
  {
   "cell_type": "code",
   "execution_count": 40,
   "metadata": {},
   "outputs": [
    {
     "data": {
      "text/plain": [
       "85492"
      ]
     },
     "execution_count": 40,
     "metadata": {},
     "output_type": "execute_result"
    }
   ],
   "source": [
    "N_batches*batch_size - incorrect1"
   ]
  },
  {
   "cell_type": "code",
   "execution_count": 39,
   "metadata": {},
   "outputs": [
    {
     "data": {
      "text/plain": [
       "10508"
      ]
     },
     "execution_count": 39,
     "metadata": {},
     "output_type": "execute_result"
    }
   ],
   "source": [
    "incorrect2"
   ]
  },
  {
   "cell_type": "markdown",
   "metadata": {},
   "source": [
    "### Вывод:\n",
    "\n",
    "Ну неплохо ж)"
   ]
  },
  {
   "cell_type": "markdown",
   "metadata": {
    "collapsed": true
   },
   "source": [
    "## Это чисто черновик, где происходит какая-то фигня с bi-LSTM"
   ]
  },
  {
   "cell_type": "code",
   "execution_count": null,
   "metadata": {
    "collapsed": true
   },
   "outputs": [],
   "source": [
    "encoder_inputs = tf.placeholder(shape=(None, None), dtype=tf.int32, name='encoder_inputs')\n",
    "encoder_inputs_length = tf.placeholder(shape=(None,), dtype=tf.int32, name='encoder_inputs_length')\n",
    "\n",
    "encoder_targets = tf.placeholder(shape=(None), dtype=tf.int32, name='encoder_targets')\n",
    "embeddings = tf.Variable(tf.random_uniform([vocab_size, input_embedding_size], -1.0, 1.0), dtype=tf.float32)\n",
    "\n",
    "encoder_inputs_embedded = tf.nn.embedding_lookup(embeddings, encoder_inputs)"
   ]
  },
  {
   "cell_type": "code",
   "execution_count": null,
   "metadata": {
    "collapsed": true
   },
   "outputs": [],
   "source": [
    "encoder_cell_b = LSTMCell(encoder_hidden_units)\n",
    "encoder_cell_f = LSTMCell(encoder_hidden_units, reuse=None)"
   ]
  },
  {
   "cell_type": "code",
   "execution_count": null,
   "metadata": {
    "collapsed": true
   },
   "outputs": [],
   "source": [
    "# encoder_cell = LSTMCell(encoder_hidden_units, reuse=tf.get_variable_scope().reuse)\n",
    "# encoder_cell_f = LSTMCell(encoder_hidden_units)\n",
    "((encoder_fw_outputs,\n",
    "encoder_bw_outputs),\n",
    "(encoder_fw_final_state,\n",
    "encoder_bw_final_state)) = (tf.nn.bidirectional_dynamic_rnn(cell_fw=encoder_cell_f,\n",
    "                                cell_bw=encoder_cell_b,\n",
    "                                inputs=encoder_inputs_embedded,\n",
    "                                sequence_length=encoder_inputs_length,\n",
    "                                dtype=tf.float32, time_major=TimeMajor))\n",
    "    "
   ]
  },
  {
   "cell_type": "code",
   "execution_count": null,
   "metadata": {
    "collapsed": true
   },
   "outputs": [],
   "source": [
    "encoder_outputs = tf.concat((encoder_fw_outputs, encoder_bw_outputs), 2)\n",
    "\n",
    "encoder_final_state_c = tf.concat(\n",
    "    (encoder_fw_final_state.c, encoder_bw_final_state.c), 1)\n",
    "\n",
    "encoder_final_state_h = tf.concat(\n",
    "    (encoder_fw_final_state.h, encoder_bw_final_state.h), 1)\n",
    "\n",
    "encoder_final_state = LSTMStateTuple(\n",
    "    c=encoder_final_state_c,\n",
    "    h=encoder_final_state_h)"
   ]
  },
  {
   "cell_type": "code",
   "execution_count": null,
   "metadata": {
    "collapsed": true
   },
   "outputs": [],
   "source": [
    "from tensorflow.contrib import layers\n",
    "next_word_pred = layers.fully_connected(encoder_outputs, vocab_size, ...)\n",
    "\n",
    "\n",
    "\n",
    "mask1_pred = layers.fully_connected(encoder_outputs, mask1_vocab, ...)\n",
    "mask2_pred = layers.fully_connected(encoder_outputs, mask2_vocab, ...)\n"
   ]
  },
  {
   "cell_type": "code",
   "execution_count": null,
   "metadata": {
    "collapsed": true
   },
   "outputs": [],
   "source": [
    "encoder_final_state_h"
   ]
  },
  {
   "cell_type": "code",
   "execution_count": null,
   "metadata": {
    "collapsed": true
   },
   "outputs": [],
   "source": [
    "W = tf.Variable(tf.random_uniform([encoder_hidden_units*2, vocab_size], -1, 1), dtype=tf.float32)\n",
    "b = tf.Variable(tf.zeros([vocab_size]), dtype=tf.float32)"
   ]
  },
  {
   "cell_type": "code",
   "execution_count": null,
   "metadata": {
    "collapsed": true
   },
   "outputs": [],
   "source": [
    "logits = tf.add(tf.matmul(encoder_final_state_h, W), b)\n",
    "# encoder_logits = tf.reshape(encoder_logits_flat, (decoder_max_steps, decoder_batch_size, vocab_size))"
   ]
  },
  {
   "cell_type": "code",
   "execution_count": null,
   "metadata": {
    "collapsed": true
   },
   "outputs": [],
   "source": [
    "logits"
   ]
  },
  {
   "cell_type": "code",
   "execution_count": null,
   "metadata": {
    "collapsed": true
   },
   "outputs": [],
   "source": [
    "encoder_targets"
   ]
  },
  {
   "cell_type": "code",
   "execution_count": null,
   "metadata": {
    "collapsed": true
   },
   "outputs": [],
   "source": [
    "losses = tf.nn.sparse_softmax_cross_entropy_with_logits(logits = logits, labels = encoder_targets)"
   ]
  }
 ],
 "metadata": {
  "kernelspec": {
   "display_name": "Python 3",
   "language": "python",
   "name": "python3"
  },
  "language_info": {
   "codemirror_mode": {
    "name": "ipython",
    "version": 3
   },
   "file_extension": ".py",
   "mimetype": "text/x-python",
   "name": "python",
   "nbconvert_exporter": "python",
   "pygments_lexer": "ipython3",
   "version": "3.5.2"
  }
 },
 "nbformat": 4,
 "nbformat_minor": 2
}
